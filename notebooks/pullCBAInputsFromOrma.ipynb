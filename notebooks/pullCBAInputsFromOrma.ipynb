{
 "cells": [
  {
   "cell_type": "code",
   "execution_count": 1,
   "id": "aaa6844d",
   "metadata": {},
   "outputs": [],
   "source": [
    "%run \"setup.py\"\n",
    "if os.path.isfile('database_credentials.py'):\n",
    "    %run \"database_credentials.py\""
   ]
  },
  {
   "cell_type": "code",
   "execution_count": 2,
   "id": "9b966c65",
   "metadata": {},
   "outputs": [],
   "source": [
    "import psycopg2\n",
    "con = psycopg2.connect(database=os.environ['VN_ORMA_DB_DB'], user=os.environ['VN_ORMA_DB_USER'], password=os.environ['VN_ORMA_DB_PASS'], host=os.environ['VN_ORMA_DB_HOST'])"
   ]
  },
  {
   "cell_type": "code",
   "execution_count": 3,
   "id": "64234c48",
   "metadata": {},
   "outputs": [],
   "source": [
    "def bytea2bytes(value, cur):\n",
    "    m = psycopg2.BINARY(value, cur)\n",
    "    if m is not None:\n",
    "        return m.tobytes()\n",
    "\n",
    "BYTEA2BYTES = psycopg2.extensions.new_type(psycopg2.BINARY.values, 'BYTEA2BYTES', bytea2bytes)\n",
    "psycopg2.extensions.register_type(BYTEA2BYTES)"
   ]
  },
  {
   "cell_type": "markdown",
   "id": "4420be80",
   "metadata": {
    "tags": []
   },
   "source": [
    "## Region IDs"
   ]
  },
  {
   "cell_type": "code",
   "execution_count": 4,
   "id": "bad75c26",
   "metadata": {},
   "outputs": [],
   "source": [
    "sql = 'select id, \"type\", name_en, name_vn from admin_boundaries'\n",
    "admin_names = pd.read_sql(sql, con)\n",
    "admin_names.set_index(['id'], inplace=True)\n",
    "\n",
    "districts = admin_names[admin_names.type=='district'][['name_vn']]\n",
    "districts.columns=['district']\n",
    "\n",
    "provinces = admin_names[admin_names.type=='province'][['name_vn']]\n",
    "provinces.columns=['province']\n",
    "\n"
   ]
  },
  {
   "cell_type": "markdown",
   "id": "f896f6d5",
   "metadata": {},
   "source": [
    "# REF DATA"
   ]
  },
  {
   "cell_type": "code",
   "execution_count": 5,
   "id": "664c471f",
   "metadata": {},
   "outputs": [
    {
     "data": {
      "text/plain": [
       "294"
      ]
     },
     "execution_count": 5,
     "metadata": {},
     "output_type": "execute_result"
    }
   ],
   "source": [
    "province_name = \"Hà Giang\"\n",
    "province_id = provinces.query('province == @province_name').index[0]\n",
    "province_id"
   ]
  },
  {
   "cell_type": "code",
   "execution_count": 6,
   "id": "483bb6bf",
   "metadata": {
    "tags": []
   },
   "outputs": [
    {
     "name": "stdout",
     "output_type": "stream",
     "text": [
      "CPU times: user 33.8 ms, sys: 34 ms, total: 67.8 ms\n",
      "Wall time: 3.98 s\n"
     ]
    }
   ],
   "source": [
    "%%time\n",
    "sql = f'SELECT way_id, st_asBinary(geom) AS geom, district, province, \"length\" as length_from_db from lines_with_admin where length>0 AND province = {province_id}'\n",
    "ways_by_region = pd.read_sql(sql, con)"
   ]
  },
  {
   "cell_type": "code",
   "execution_count": 7,
   "id": "a8f2a599",
   "metadata": {},
   "outputs": [
    {
     "data": {
      "text/plain": [
       "(1884, 5)"
      ]
     },
     "execution_count": 7,
     "metadata": {},
     "output_type": "execute_result"
    }
   ],
   "source": [
    "ways_by_region.shape"
   ]
  },
  {
   "cell_type": "code",
   "execution_count": 8,
   "id": "7d8cb953",
   "metadata": {
    "tags": []
   },
   "outputs": [
    {
     "name": "stdout",
     "output_type": "stream",
     "text": [
      "CPU times: user 44.1 ms, sys: 3.97 ms, total: 48.1 ms\n",
      "Wall time: 102 ms\n"
     ]
    }
   ],
   "source": [
    "%%time\n",
    "ways_by_region.geom = ways_by_region.geom.apply(shapely.wkb.loads)\n",
    "ways_by_region.columns = ['way_id','geom', 'district_id', 'province_id', \"length_from_db\"]"
   ]
  },
  {
   "cell_type": "code",
   "execution_count": 9,
   "id": "ecf175ff",
   "metadata": {
    "tags": []
   },
   "outputs": [
    {
     "name": "stdout",
     "output_type": "stream",
     "text": [
      "CPU times: user 7.56 ms, sys: 1.32 ms, total: 8.88 ms\n",
      "Wall time: 11.1 ms\n"
     ]
    },
    {
     "data": {
      "text/html": [
       "<div>\n",
       "<style scoped>\n",
       "    .dataframe tbody tr th:only-of-type {\n",
       "        vertical-align: middle;\n",
       "    }\n",
       "\n",
       "    .dataframe tbody tr th {\n",
       "        vertical-align: top;\n",
       "    }\n",
       "\n",
       "    .dataframe thead th {\n",
       "        text-align: right;\n",
       "    }\n",
       "</style>\n",
       "<table border=\"1\" class=\"dataframe\">\n",
       "  <thead>\n",
       "    <tr style=\"text-align: right;\">\n",
       "      <th></th>\n",
       "      <th>way_id</th>\n",
       "      <th>geom</th>\n",
       "      <th>district_id</th>\n",
       "      <th>province_id</th>\n",
       "      <th>length_from_db</th>\n",
       "      <th>way_id_district</th>\n",
       "    </tr>\n",
       "  </thead>\n",
       "  <tbody>\n",
       "    <tr>\n",
       "      <th>0</th>\n",
       "      <td>636849</td>\n",
       "      <td>LINESTRING (105.0159318 22.8441537, 105.016066...</td>\n",
       "      <td>295</td>\n",
       "      <td>294</td>\n",
       "      <td>1.257061</td>\n",
       "      <td>636849_295</td>\n",
       "    </tr>\n",
       "    <tr>\n",
       "      <th>1</th>\n",
       "      <td>636850</td>\n",
       "      <td>LINESTRING (105.0170819 22.847096, 105.016905 ...</td>\n",
       "      <td>295</td>\n",
       "      <td>294</td>\n",
       "      <td>0.400964</td>\n",
       "      <td>636850_295</td>\n",
       "    </tr>\n",
       "    <tr>\n",
       "      <th>2</th>\n",
       "      <td>636851</td>\n",
       "      <td>LINESTRING (105.0173254 22.8478546, 105.017208...</td>\n",
       "      <td>295</td>\n",
       "      <td>294</td>\n",
       "      <td>0.164269</td>\n",
       "      <td>636851_295</td>\n",
       "    </tr>\n",
       "    <tr>\n",
       "      <th>3</th>\n",
       "      <td>636852</td>\n",
       "      <td>LINESTRING (105.0173467 22.8467741, 105.017471...</td>\n",
       "      <td>295</td>\n",
       "      <td>294</td>\n",
       "      <td>0.282407</td>\n",
       "      <td>636852_295</td>\n",
       "    </tr>\n",
       "    <tr>\n",
       "      <th>4</th>\n",
       "      <td>636853</td>\n",
       "      <td>LINESTRING (105.0162879 22.8484085, 105.016218...</td>\n",
       "      <td>295</td>\n",
       "      <td>294</td>\n",
       "      <td>0.300861</td>\n",
       "      <td>636853_295</td>\n",
       "    </tr>\n",
       "  </tbody>\n",
       "</table>\n",
       "</div>"
      ],
      "text/plain": [
       "   way_id                                               geom  district_id  \\\n",
       "0  636849  LINESTRING (105.0159318 22.8441537, 105.016066...          295   \n",
       "1  636850  LINESTRING (105.0170819 22.847096, 105.016905 ...          295   \n",
       "2  636851  LINESTRING (105.0173254 22.8478546, 105.017208...          295   \n",
       "3  636852  LINESTRING (105.0173467 22.8467741, 105.017471...          295   \n",
       "4  636853  LINESTRING (105.0162879 22.8484085, 105.016218...          295   \n",
       "\n",
       "   province_id  length_from_db way_id_district  \n",
       "0          294        1.257061      636849_295  \n",
       "1          294        0.400964      636850_295  \n",
       "2          294        0.164269      636851_295  \n",
       "3          294        0.282407      636852_295  \n",
       "4          294        0.300861      636853_295  "
      ]
     },
     "execution_count": 9,
     "metadata": {},
     "output_type": "execute_result"
    }
   ],
   "source": [
    "%%time\n",
    "ways_by_region = ways_by_region.assign(way_id_district='')\n",
    "ways_by_region['way_id_district']=ways_by_region['way_id'].astype(str)+'_'+ways_by_region['district_id'].astype(str)\n",
    "# ways_by_region = ways_by_region[ways_by_region['length']>0.025] #Lets only get stretches longer than 25 meters\n",
    "ways_by_region.head()"
   ]
  },
  {
   "cell_type": "code",
   "execution_count": 14,
   "id": "fd745da0",
   "metadata": {},
   "outputs": [
    {
     "data": {
      "image/png": "[encoded data removed]",
      "text/plain": [
       "<Figure size 432x288 with 1 Axes>"
      ]
     },
     "metadata": {
      "needs_background": "light"
     },
     "output_type": "display_data"
    }
   ],
   "source": [
    "gdf = gpd.GeoDataFrame(ways_by_region, geometry='geom', crs=4326)\n",
    "gdf.plot()\n",
    "plt.show()\n",
    "\n",
    "gdf.to_file('../data/ha_giang/from_orma.gpkg', driver='GPKG')"
   ]
  },
  {
   "cell_type": "code",
   "execution_count": 12,
   "id": "20b74ea8-2682-47c0-9b8e-a227132c9543",
   "metadata": {},
   "outputs": [
    {
     "data": {
      "text/plain": [
       "'/Users/jamescook/world_bank/roads-cba-py/notebooks'"
      ]
     },
     "execution_count": 12,
     "metadata": {},
     "output_type": "execute_result"
    }
   ],
   "source": [
    "os.getcwd()"
   ]
  },
  {
   "cell_type": "code",
   "execution_count": 62,
   "id": "86e69638",
   "metadata": {},
   "outputs": [],
   "source": [
    "gdf_projected = gdf.to_crs(32648)"
   ]
  },
  {
   "cell_type": "code",
   "execution_count": 65,
   "id": "e162f45d",
   "metadata": {},
   "outputs": [
    {
     "data": {
      "text/plain": [
       "(array([  2.,   7.,  34.,  62.,  95., 118., 177., 300., 286., 803.]),\n",
       " array([1.00034688, 1.00035237, 1.00035786, 1.00036335, 1.00036884,\n",
       "        1.00037433, 1.00037982, 1.00038531, 1.0003908 , 1.00039629,\n",
       "        1.00040178]),\n",
       " <BarContainer object of 10 artists>)"
      ]
     },
     "execution_count": 65,
     "metadata": {},
     "output_type": "execute_result"
    },
    {
     "data": {
      "image/png": "[encoded data removed]",
      "text/plain": [
       "<Figure size 432x288 with 1 Axes>"
      ]
     },
     "metadata": {
      "needs_background": "light"
     },
     "output_type": "display_data"
    }
   ],
   "source": [
    "import geopandas as gpd\n",
    "import shapely\n",
    "from functools import partial\n",
    "import pyproj\n",
    "\n",
    "\n",
    "def calc_length(row):        \n",
    "    shapely_geom = shapely.geometry.shape(row.geom)\n",
    "    return round(shapely_geom.length,4)\n",
    "\n",
    "gdf_projected['LengthJamie'] = gdf_projected.apply(calc_length,axis=1) / 1000\n",
    "\n",
    "plt.hist(gdf_projected['length_from_db']/ gdf_projected['LengthJamie'])\n"
   ]
  },
  {
   "cell_type": "markdown",
   "id": "9cbdc42a",
   "metadata": {},
   "source": [
    "## current way tags"
   ]
  },
  {
   "cell_type": "code",
   "execution_count": 15,
   "id": "886c36af",
   "metadata": {},
   "outputs": [
    {
     "name": "stdout",
     "output_type": "stream",
     "text": [
      "CPU times: user 291 ms, sys: 120 ms, total: 411 ms\n",
      "Wall time: 5.39 s\n"
     ]
    }
   ],
   "source": [
    "%%time\n",
    "sql = \"select * from current_way_tags\"\n",
    "way_tags_raw = pd.read_sql(sql, con)"
   ]
  },
  {
   "cell_type": "code",
   "execution_count": 16,
   "id": "a4478e31",
   "metadata": {},
   "outputs": [],
   "source": [
    "way_tags = way_tags_raw.pivot(index='way_id', columns='k', values='v').reset_index()\n",
    "way_tags.drop(['province', 'addr:district', 'addr:province'], axis=1, inplace=True)"
   ]
  },
  {
   "cell_type": "code",
   "execution_count": 27,
   "id": "831f3252-56dc-4038-ac87-091771a8b3de",
   "metadata": {},
   "outputs": [
    {
     "data": {
      "text/html": [
       "<div>\n",
       "<style scoped>\n",
       "    .dataframe tbody tr th:only-of-type {\n",
       "        vertical-align: middle;\n",
       "    }\n",
       "\n",
       "    .dataframe tbody tr th {\n",
       "        vertical-align: top;\n",
       "    }\n",
       "\n",
       "    .dataframe thead th {\n",
       "        text-align: right;\n",
       "    }\n",
       "</style>\n",
       "<table border=\"1\" class=\"dataframe\">\n",
       "  <thead>\n",
       "    <tr style=\"text-align: right;\">\n",
       "      <th>k</th>\n",
       "      <th>way_id</th>\n",
       "      <th>or_vpromms</th>\n",
       "    </tr>\n",
       "  </thead>\n",
       "  <tbody>\n",
       "    <tr>\n",
       "      <th>28672</th>\n",
       "      <td>446981</td>\n",
       "      <td>213NS00012</td>\n",
       "    </tr>\n",
       "    <tr>\n",
       "      <th>28673</th>\n",
       "      <td>446982</td>\n",
       "      <td>213NS00012</td>\n",
       "    </tr>\n",
       "    <tr>\n",
       "      <th>28674</th>\n",
       "      <td>446983</td>\n",
       "      <td>213NS00012</td>\n",
       "    </tr>\n",
       "    <tr>\n",
       "      <th>28675</th>\n",
       "      <td>446984</td>\n",
       "      <td>213NS00012</td>\n",
       "    </tr>\n",
       "    <tr>\n",
       "      <th>28676</th>\n",
       "      <td>446985</td>\n",
       "      <td>213NS00012</td>\n",
       "    </tr>\n",
       "  </tbody>\n",
       "</table>\n",
       "</div>"
      ],
      "text/plain": [
       "k      way_id  or_vpromms\n",
       "28672  446981  213NS00012\n",
       "28673  446982  213NS00012\n",
       "28674  446983  213NS00012\n",
       "28675  446984  213NS00012\n",
       "28676  446985  213NS00012"
      ]
     },
     "execution_count": 27,
     "metadata": {},
     "output_type": "execute_result"
    }
   ],
   "source": [
    "way_vpromms = way_tags[['way_id', 'or_vpromms']]\n",
    "way_vpromms = way_vpromms[~way_vpromms['or_vpromms'].isna()]\n",
    "way_vpromms.head()"
   ]
  },
  {
   "cell_type": "code",
   "execution_count": 31,
   "id": "13c71e4b-358a-416a-9976-ec270fb30617",
   "metadata": {},
   "outputs": [
    {
     "data": {
      "text/html": [
       "<div>\n",
       "<style scoped>\n",
       "    .dataframe tbody tr th:only-of-type {\n",
       "        vertical-align: middle;\n",
       "    }\n",
       "\n",
       "    .dataframe tbody tr th {\n",
       "        vertical-align: top;\n",
       "    }\n",
       "\n",
       "    .dataframe thead th {\n",
       "        text-align: right;\n",
       "    }\n",
       "</style>\n",
       "<table border=\"1\" class=\"dataframe\">\n",
       "  <thead>\n",
       "    <tr style=\"text-align: right;\">\n",
       "      <th>k</th>\n",
       "      <th>way_id</th>\n",
       "      <th>or_vpromms</th>\n",
       "    </tr>\n",
       "  </thead>\n",
       "  <tbody>\n",
       "    <tr>\n",
       "      <th>217686</th>\n",
       "      <td>636000</td>\n",
       "      <td>032HG00006</td>\n",
       "    </tr>\n",
       "    <tr>\n",
       "      <th>217687</th>\n",
       "      <td>636001</td>\n",
       "      <td>032HG00006</td>\n",
       "    </tr>\n",
       "  </tbody>\n",
       "</table>\n",
       "</div>"
      ],
      "text/plain": [
       "k       way_id  or_vpromms\n",
       "217686  636000  032HG00006\n",
       "217687  636001  032HG00006"
      ]
     },
     "execution_count": 31,
     "metadata": {},
     "output_type": "execute_result"
    }
   ],
   "source": [
    "vp_id = '032HG00006'\n",
    "way_vpromms.query('or_vpromms == @vp_id')"
   ]
  },
  {
   "cell_type": "code",
   "execution_count": null,
   "id": "a6265ea5-e80a-49f2-8c51-286c21cd6f4f",
   "metadata": {},
   "outputs": [],
   "source": []
  },
  {
   "cell_type": "markdown",
   "id": "9f8e6916",
   "metadata": {},
   "source": [
    "## Road properties"
   ]
  },
  {
   "cell_type": "code",
   "execution_count": 18,
   "id": "f5ee6638",
   "metadata": {},
   "outputs": [
    {
     "data": {
      "text/html": [
       "<div>\n",
       "<style scoped>\n",
       "    .dataframe tbody tr th:only-of-type {\n",
       "        vertical-align: middle;\n",
       "    }\n",
       "\n",
       "    .dataframe tbody tr th {\n",
       "        vertical-align: top;\n",
       "    }\n",
       "\n",
       "    .dataframe thead th {\n",
       "        text-align: right;\n",
       "    }\n",
       "</style>\n",
       "<table border=\"1\" class=\"dataframe\">\n",
       "  <thead>\n",
       "    <tr style=\"text-align: right;\">\n",
       "      <th></th>\n",
       "      <th>id</th>\n",
       "      <th>properties</th>\n",
       "      <th>status</th>\n",
       "    </tr>\n",
       "  </thead>\n",
       "  <tbody>\n",
       "    <tr>\n",
       "      <th>0</th>\n",
       "      <td>674XT00085</td>\n",
       "      <td>{'length': 0.904841328925019, 'Road Name': 'Đư...</td>\n",
       "      <td>reviewed</td>\n",
       "    </tr>\n",
       "    <tr>\n",
       "      <th>1</th>\n",
       "      <td>233DT00034</td>\n",
       "      <td>{'iri_max': 20.42, 'iri_med': 15.07, 'iri_min'...</td>\n",
       "      <td>pending</td>\n",
       "    </tr>\n",
       "    <tr>\n",
       "      <th>2</th>\n",
       "      <td>034YM00181</td>\n",
       "      <td>{'length': 2.0, 'Road Name': 'Đường đến thôn N...</td>\n",
       "      <td>pending</td>\n",
       "    </tr>\n",
       "    <tr>\n",
       "      <th>3</th>\n",
       "      <td>313HN00013</td>\n",
       "      <td>{'length': 10.8422197634643, 'Road Name': 'Bồn...</td>\n",
       "      <td>pending</td>\n",
       "    </tr>\n",
       "    <tr>\n",
       "      <th>4</th>\n",
       "      <td>034YM00216</td>\n",
       "      <td>{'length': 1.1, 'Road Name': 'Đường đi nhóm hộ...</td>\n",
       "      <td>pending</td>\n",
       "    </tr>\n",
       "  </tbody>\n",
       "</table>\n",
       "</div>"
      ],
      "text/plain": [
       "           id                                         properties    status\n",
       "0  674XT00085  {'length': 0.904841328925019, 'Road Name': 'Đư...  reviewed\n",
       "1  233DT00034  {'iri_max': 20.42, 'iri_med': 15.07, 'iri_min'...   pending\n",
       "2  034YM00181  {'length': 2.0, 'Road Name': 'Đường đến thôn N...   pending\n",
       "3  313HN00013  {'length': 10.8422197634643, 'Road Name': 'Bồn...   pending\n",
       "4  034YM00216  {'length': 1.1, 'Road Name': 'Đường đi nhóm hộ...   pending"
      ]
     },
     "execution_count": 18,
     "metadata": {},
     "output_type": "execute_result"
    }
   ],
   "source": [
    "sql = \"select * from road_properties where properties != '{}'\"\n",
    "road_properties_raw = pd.read_sql(sql, con)\n",
    "road_properties_raw.head()"
   ]
  },
  {
   "cell_type": "code",
   "execution_count": 21,
   "id": "47745d2a",
   "metadata": {},
   "outputs": [],
   "source": [
    "road_properties = json_normalize(road_properties_raw['properties'].to_list())\n",
    "all_cols = list(road_properties.columns)\n",
    "\n",
    "new_headers = {}\n",
    "inversed_headers = {}\n",
    "for col in all_cols:\n",
    "    normalized = col.strip().lower()\n",
    "    if normalized in inversed_headers.keys():\n",
    "        fltr = ~road_properties[col].isna()\n",
    "        road_properties.loc[fltr, inversed_headers[normalized]] = road_properties.loc[fltr, col]\n",
    "        continue\n",
    "    inversed_headers[normalized] = col\n",
    "    new_headers[col] = normalized\n",
    "road_properties = road_properties[list(new_headers.keys())]\n",
    "road_properties.columns = [new_headers[x] for x in road_properties.columns]\n",
    "\n",
    "road_properties = road_properties.assign(iri=road_properties.iri_med)\n",
    "road_properties.loc[road_properties.iri.isna(),'iri'] = road_properties.loc[road_properties.iri.isna(),'iri_mean']\n",
    "road_properties.loc[road_properties.iri.isna(),'iri'] = road_properties.loc[road_properties.iri.isna(),'iri_max']\n",
    "road_properties.loc[road_properties.iri.isna(),'iri'] = road_properties.loc[road_properties.iri.isna(),'iri_min']\n",
    "columns_of_interest = ['length','road name', 'management', 'road end location', 'road start location', 'road number', 'iri', 'road width']\n",
    "road_properties = road_properties[columns_of_interest]\n",
    "road_properties = road_properties_raw[['id']].join(road_properties)\n",
    "road_properties.drop(['length'], axis=1, inplace=True)"
   ]
  },
  {
   "cell_type": "code",
   "execution_count": 24,
   "id": "39edc0f2",
   "metadata": {},
   "outputs": [
    {
     "data": {
      "text/html": [
       "<div>\n",
       "<style scoped>\n",
       "    .dataframe tbody tr th:only-of-type {\n",
       "        vertical-align: middle;\n",
       "    }\n",
       "\n",
       "    .dataframe tbody tr th {\n",
       "        vertical-align: top;\n",
       "    }\n",
       "\n",
       "    .dataframe thead th {\n",
       "        text-align: right;\n",
       "    }\n",
       "</style>\n",
       "<table border=\"1\" class=\"dataframe\">\n",
       "  <thead>\n",
       "    <tr style=\"text-align: right;\">\n",
       "      <th></th>\n",
       "      <th>id</th>\n",
       "      <th>road name</th>\n",
       "      <th>management</th>\n",
       "      <th>road end location</th>\n",
       "      <th>road start location</th>\n",
       "      <th>road number</th>\n",
       "      <th>iri</th>\n",
       "      <th>road width</th>\n",
       "    </tr>\n",
       "  </thead>\n",
       "  <tbody>\n",
       "    <tr>\n",
       "      <th>0</th>\n",
       "      <td>674XT00085</td>\n",
       "      <td>Đường xã Xuân Kiên</td>\n",
       "      <td>4</td>\n",
       "      <td>Xóm 12B (giáp Xuân Tiến)</td>\n",
       "      <td>Cầu đường 489C (xóm 14)</td>\n",
       "      <td>NaN</td>\n",
       "      <td>NaN</td>\n",
       "      <td>NaN</td>\n",
       "    </tr>\n",
       "    <tr>\n",
       "      <th>1</th>\n",
       "      <td>233DT00034</td>\n",
       "      <td>NaN</td>\n",
       "      <td>NaN</td>\n",
       "      <td>NaN</td>\n",
       "      <td>NaN</td>\n",
       "      <td>NaN</td>\n",
       "      <td>15.07</td>\n",
       "      <td>NaN</td>\n",
       "    </tr>\n",
       "    <tr>\n",
       "      <th>2</th>\n",
       "      <td>034YM00181</td>\n",
       "      <td>Đường đến thôn Nà Mòn</td>\n",
       "      <td>NaN</td>\n",
       "      <td>NaN</td>\n",
       "      <td>NaN</td>\n",
       "      <td>ĐX.164</td>\n",
       "      <td>NaN</td>\n",
       "      <td>NaN</td>\n",
       "    </tr>\n",
       "    <tr>\n",
       "      <th>3</th>\n",
       "      <td>313HN00013</td>\n",
       "      <td>Bồng Sơn - Hoài Hương</td>\n",
       "      <td>3</td>\n",
       "      <td>Hoài Hương</td>\n",
       "      <td>Bồng Sơn</td>\n",
       "      <td></td>\n",
       "      <td>NaN</td>\n",
       "      <td>NaN</td>\n",
       "    </tr>\n",
       "    <tr>\n",
       "      <th>4</th>\n",
       "      <td>034YM00216</td>\n",
       "      <td>Đường đi nhóm hộ thôn Phiêng Kiền</td>\n",
       "      <td>NaN</td>\n",
       "      <td>NaN</td>\n",
       "      <td>NaN</td>\n",
       "      <td>ĐX.199</td>\n",
       "      <td>NaN</td>\n",
       "      <td>NaN</td>\n",
       "    </tr>\n",
       "  </tbody>\n",
       "</table>\n",
       "</div>"
      ],
      "text/plain": [
       "           id                          road name management  \\\n",
       "0  674XT00085                 Đường xã Xuân Kiên          4   \n",
       "1  233DT00034                                NaN        NaN   \n",
       "2  034YM00181              Đường đến thôn Nà Mòn        NaN   \n",
       "3  313HN00013              Bồng Sơn - Hoài Hương          3   \n",
       "4  034YM00216  Đường đi nhóm hộ thôn Phiêng Kiền        NaN   \n",
       "\n",
       "          road end location      road start location road number    iri  \\\n",
       "0  Xóm 12B (giáp Xuân Tiến)  Cầu đường 489C (xóm 14)         NaN    NaN   \n",
       "1                       NaN                      NaN         NaN  15.07   \n",
       "2                       NaN                      NaN      ĐX.164    NaN   \n",
       "3                Hoài Hương                 Bồng Sơn                NaN   \n",
       "4                       NaN                      NaN      ĐX.199    NaN   \n",
       "\n",
       "  road width  \n",
       "0        NaN  \n",
       "1        NaN  \n",
       "2        NaN  \n",
       "3        NaN  \n",
       "4        NaN  "
      ]
     },
     "execution_count": 24,
     "metadata": {},
     "output_type": "execute_result"
    }
   ],
   "source": [
    "road_properties.head()"
   ]
  },
  {
   "cell_type": "markdown",
   "id": "50fe03e9",
   "metadata": {},
   "source": [
    "## Old data"
   ]
  },
  {
   "cell_type": "code",
   "execution_count": 74,
   "id": "584e2d0f",
   "metadata": {
    "tags": []
   },
   "outputs": [
    {
     "ename": "FileNotFoundError",
     "evalue": "[Errno 2] No such file or directory: '../data/Traffic_mockup.csv'",
     "output_type": "error",
     "traceback": [
      "\u001b[0;31m---------------------------------------------------------------------------\u001b[0m",
      "\u001b[0;31mFileNotFoundError\u001b[0m                         Traceback (most recent call last)",
      "\u001b[0;32m<ipython-input-74-49223a95c424>\u001b[0m in \u001b[0;36m<module>\u001b[0;34m\u001b[0m\n\u001b[0;32m----> 1\u001b[0;31m \u001b[0mronet_data\u001b[0m \u001b[0;34m=\u001b[0m \u001b[0mpd\u001b[0m\u001b[0;34m.\u001b[0m\u001b[0mread_csv\u001b[0m\u001b[0;34m(\u001b[0m\u001b[0;34m'../data/Traffic_mockup.csv'\u001b[0m\u001b[0;34m)\u001b[0m\u001b[0;34m\u001b[0m\u001b[0;34m\u001b[0m\u001b[0m\n\u001b[0m",
      "\u001b[0;32m~/.local/share/virtualenvs/roads-cba-py-go1oSVZ4/lib/python3.8/site-packages/pandas/io/parsers.py\u001b[0m in \u001b[0;36mread_csv\u001b[0;34m(filepath_or_buffer, sep, delimiter, header, names, index_col, usecols, squeeze, prefix, mangle_dupe_cols, dtype, engine, converters, true_values, false_values, skipinitialspace, skiprows, skipfooter, nrows, na_values, keep_default_na, na_filter, verbose, skip_blank_lines, parse_dates, infer_datetime_format, keep_date_col, date_parser, dayfirst, cache_dates, iterator, chunksize, compression, thousands, decimal, lineterminator, quotechar, quoting, doublequote, escapechar, comment, encoding, dialect, error_bad_lines, warn_bad_lines, delim_whitespace, low_memory, memory_map, float_precision, storage_options)\u001b[0m\n\u001b[1;32m    608\u001b[0m     \u001b[0mkwds\u001b[0m\u001b[0;34m.\u001b[0m\u001b[0mupdate\u001b[0m\u001b[0;34m(\u001b[0m\u001b[0mkwds_defaults\u001b[0m\u001b[0;34m)\u001b[0m\u001b[0;34m\u001b[0m\u001b[0;34m\u001b[0m\u001b[0m\n\u001b[1;32m    609\u001b[0m \u001b[0;34m\u001b[0m\u001b[0m\n\u001b[0;32m--> 610\u001b[0;31m     \u001b[0;32mreturn\u001b[0m \u001b[0m_read\u001b[0m\u001b[0;34m(\u001b[0m\u001b[0mfilepath_or_buffer\u001b[0m\u001b[0;34m,\u001b[0m \u001b[0mkwds\u001b[0m\u001b[0;34m)\u001b[0m\u001b[0;34m\u001b[0m\u001b[0;34m\u001b[0m\u001b[0m\n\u001b[0m\u001b[1;32m    611\u001b[0m \u001b[0;34m\u001b[0m\u001b[0m\n\u001b[1;32m    612\u001b[0m \u001b[0;34m\u001b[0m\u001b[0m\n",
      "\u001b[0;32m~/.local/share/virtualenvs/roads-cba-py-go1oSVZ4/lib/python3.8/site-packages/pandas/io/parsers.py\u001b[0m in \u001b[0;36m_read\u001b[0;34m(filepath_or_buffer, kwds)\u001b[0m\n\u001b[1;32m    460\u001b[0m \u001b[0;34m\u001b[0m\u001b[0m\n\u001b[1;32m    461\u001b[0m     \u001b[0;31m# Create the parser.\u001b[0m\u001b[0;34m\u001b[0m\u001b[0;34m\u001b[0m\u001b[0;34m\u001b[0m\u001b[0m\n\u001b[0;32m--> 462\u001b[0;31m     \u001b[0mparser\u001b[0m \u001b[0;34m=\u001b[0m \u001b[0mTextFileReader\u001b[0m\u001b[0;34m(\u001b[0m\u001b[0mfilepath_or_buffer\u001b[0m\u001b[0;34m,\u001b[0m \u001b[0;34m**\u001b[0m\u001b[0mkwds\u001b[0m\u001b[0;34m)\u001b[0m\u001b[0;34m\u001b[0m\u001b[0;34m\u001b[0m\u001b[0m\n\u001b[0m\u001b[1;32m    463\u001b[0m \u001b[0;34m\u001b[0m\u001b[0m\n\u001b[1;32m    464\u001b[0m     \u001b[0;32mif\u001b[0m \u001b[0mchunksize\u001b[0m \u001b[0;32mor\u001b[0m \u001b[0miterator\u001b[0m\u001b[0;34m:\u001b[0m\u001b[0;34m\u001b[0m\u001b[0;34m\u001b[0m\u001b[0m\n",
      "\u001b[0;32m~/.local/share/virtualenvs/roads-cba-py-go1oSVZ4/lib/python3.8/site-packages/pandas/io/parsers.py\u001b[0m in \u001b[0;36m__init__\u001b[0;34m(self, f, engine, **kwds)\u001b[0m\n\u001b[1;32m    817\u001b[0m             \u001b[0mself\u001b[0m\u001b[0;34m.\u001b[0m\u001b[0moptions\u001b[0m\u001b[0;34m[\u001b[0m\u001b[0;34m\"has_index_names\"\u001b[0m\u001b[0;34m]\u001b[0m \u001b[0;34m=\u001b[0m \u001b[0mkwds\u001b[0m\u001b[0;34m[\u001b[0m\u001b[0;34m\"has_index_names\"\u001b[0m\u001b[0;34m]\u001b[0m\u001b[0;34m\u001b[0m\u001b[0;34m\u001b[0m\u001b[0m\n\u001b[1;32m    818\u001b[0m \u001b[0;34m\u001b[0m\u001b[0m\n\u001b[0;32m--> 819\u001b[0;31m         \u001b[0mself\u001b[0m\u001b[0;34m.\u001b[0m\u001b[0m_engine\u001b[0m \u001b[0;34m=\u001b[0m \u001b[0mself\u001b[0m\u001b[0;34m.\u001b[0m\u001b[0m_make_engine\u001b[0m\u001b[0;34m(\u001b[0m\u001b[0mself\u001b[0m\u001b[0;34m.\u001b[0m\u001b[0mengine\u001b[0m\u001b[0;34m)\u001b[0m\u001b[0;34m\u001b[0m\u001b[0;34m\u001b[0m\u001b[0m\n\u001b[0m\u001b[1;32m    820\u001b[0m \u001b[0;34m\u001b[0m\u001b[0m\n\u001b[1;32m    821\u001b[0m     \u001b[0;32mdef\u001b[0m \u001b[0mclose\u001b[0m\u001b[0;34m(\u001b[0m\u001b[0mself\u001b[0m\u001b[0;34m)\u001b[0m\u001b[0;34m:\u001b[0m\u001b[0;34m\u001b[0m\u001b[0;34m\u001b[0m\u001b[0m\n",
      "\u001b[0;32m~/.local/share/virtualenvs/roads-cba-py-go1oSVZ4/lib/python3.8/site-packages/pandas/io/parsers.py\u001b[0m in \u001b[0;36m_make_engine\u001b[0;34m(self, engine)\u001b[0m\n\u001b[1;32m   1048\u001b[0m             )\n\u001b[1;32m   1049\u001b[0m         \u001b[0;31m# error: Too many arguments for \"ParserBase\"\u001b[0m\u001b[0;34m\u001b[0m\u001b[0;34m\u001b[0m\u001b[0;34m\u001b[0m\u001b[0m\n\u001b[0;32m-> 1050\u001b[0;31m         \u001b[0;32mreturn\u001b[0m \u001b[0mmapping\u001b[0m\u001b[0;34m[\u001b[0m\u001b[0mengine\u001b[0m\u001b[0;34m]\u001b[0m\u001b[0;34m(\u001b[0m\u001b[0mself\u001b[0m\u001b[0;34m.\u001b[0m\u001b[0mf\u001b[0m\u001b[0;34m,\u001b[0m \u001b[0;34m**\u001b[0m\u001b[0mself\u001b[0m\u001b[0;34m.\u001b[0m\u001b[0moptions\u001b[0m\u001b[0;34m)\u001b[0m  \u001b[0;31m# type: ignore[call-arg]\u001b[0m\u001b[0;34m\u001b[0m\u001b[0;34m\u001b[0m\u001b[0m\n\u001b[0m\u001b[1;32m   1051\u001b[0m \u001b[0;34m\u001b[0m\u001b[0m\n\u001b[1;32m   1052\u001b[0m     \u001b[0;32mdef\u001b[0m \u001b[0m_failover_to_python\u001b[0m\u001b[0;34m(\u001b[0m\u001b[0mself\u001b[0m\u001b[0;34m)\u001b[0m\u001b[0;34m:\u001b[0m\u001b[0;34m\u001b[0m\u001b[0;34m\u001b[0m\u001b[0m\n",
      "\u001b[0;32m~/.local/share/virtualenvs/roads-cba-py-go1oSVZ4/lib/python3.8/site-packages/pandas/io/parsers.py\u001b[0m in \u001b[0;36m__init__\u001b[0;34m(self, src, **kwds)\u001b[0m\n\u001b[1;32m   1865\u001b[0m \u001b[0;34m\u001b[0m\u001b[0m\n\u001b[1;32m   1866\u001b[0m         \u001b[0;31m# open handles\u001b[0m\u001b[0;34m\u001b[0m\u001b[0;34m\u001b[0m\u001b[0;34m\u001b[0m\u001b[0m\n\u001b[0;32m-> 1867\u001b[0;31m         \u001b[0mself\u001b[0m\u001b[0;34m.\u001b[0m\u001b[0m_open_handles\u001b[0m\u001b[0;34m(\u001b[0m\u001b[0msrc\u001b[0m\u001b[0;34m,\u001b[0m \u001b[0mkwds\u001b[0m\u001b[0;34m)\u001b[0m\u001b[0;34m\u001b[0m\u001b[0;34m\u001b[0m\u001b[0m\n\u001b[0m\u001b[1;32m   1868\u001b[0m         \u001b[0;32massert\u001b[0m \u001b[0mself\u001b[0m\u001b[0;34m.\u001b[0m\u001b[0mhandles\u001b[0m \u001b[0;32mis\u001b[0m \u001b[0;32mnot\u001b[0m \u001b[0;32mNone\u001b[0m\u001b[0;34m\u001b[0m\u001b[0;34m\u001b[0m\u001b[0m\n\u001b[1;32m   1869\u001b[0m         \u001b[0;32mfor\u001b[0m \u001b[0mkey\u001b[0m \u001b[0;32min\u001b[0m \u001b[0;34m(\u001b[0m\u001b[0;34m\"storage_options\"\u001b[0m\u001b[0;34m,\u001b[0m \u001b[0;34m\"encoding\"\u001b[0m\u001b[0;34m,\u001b[0m \u001b[0;34m\"memory_map\"\u001b[0m\u001b[0;34m,\u001b[0m \u001b[0;34m\"compression\"\u001b[0m\u001b[0;34m)\u001b[0m\u001b[0;34m:\u001b[0m\u001b[0;34m\u001b[0m\u001b[0;34m\u001b[0m\u001b[0m\n",
      "\u001b[0;32m~/.local/share/virtualenvs/roads-cba-py-go1oSVZ4/lib/python3.8/site-packages/pandas/io/parsers.py\u001b[0m in \u001b[0;36m_open_handles\u001b[0;34m(self, src, kwds)\u001b[0m\n\u001b[1;32m   1360\u001b[0m         \u001b[0mLet\u001b[0m \u001b[0mthe\u001b[0m \u001b[0mreaders\u001b[0m \u001b[0mopen\u001b[0m \u001b[0mIOHanldes\u001b[0m \u001b[0mafter\u001b[0m \u001b[0mthey\u001b[0m \u001b[0mare\u001b[0m \u001b[0mdone\u001b[0m \u001b[0;32mwith\u001b[0m \u001b[0mtheir\u001b[0m \u001b[0mpotential\u001b[0m \u001b[0mraises\u001b[0m\u001b[0;34m.\u001b[0m\u001b[0;34m\u001b[0m\u001b[0;34m\u001b[0m\u001b[0m\n\u001b[1;32m   1361\u001b[0m         \"\"\"\n\u001b[0;32m-> 1362\u001b[0;31m         self.handles = get_handle(\n\u001b[0m\u001b[1;32m   1363\u001b[0m             \u001b[0msrc\u001b[0m\u001b[0;34m,\u001b[0m\u001b[0;34m\u001b[0m\u001b[0;34m\u001b[0m\u001b[0m\n\u001b[1;32m   1364\u001b[0m             \u001b[0;34m\"r\"\u001b[0m\u001b[0;34m,\u001b[0m\u001b[0;34m\u001b[0m\u001b[0;34m\u001b[0m\u001b[0m\n",
      "\u001b[0;32m~/.local/share/virtualenvs/roads-cba-py-go1oSVZ4/lib/python3.8/site-packages/pandas/io/common.py\u001b[0m in \u001b[0;36mget_handle\u001b[0;34m(path_or_buf, mode, encoding, compression, memory_map, is_text, errors, storage_options)\u001b[0m\n\u001b[1;32m    640\u001b[0m                 \u001b[0merrors\u001b[0m \u001b[0;34m=\u001b[0m \u001b[0;34m\"replace\"\u001b[0m\u001b[0;34m\u001b[0m\u001b[0;34m\u001b[0m\u001b[0m\n\u001b[1;32m    641\u001b[0m             \u001b[0;31m# Encoding\u001b[0m\u001b[0;34m\u001b[0m\u001b[0;34m\u001b[0m\u001b[0;34m\u001b[0m\u001b[0m\n\u001b[0;32m--> 642\u001b[0;31m             handle = open(\n\u001b[0m\u001b[1;32m    643\u001b[0m                 \u001b[0mhandle\u001b[0m\u001b[0;34m,\u001b[0m\u001b[0;34m\u001b[0m\u001b[0;34m\u001b[0m\u001b[0m\n\u001b[1;32m    644\u001b[0m                 \u001b[0mioargs\u001b[0m\u001b[0;34m.\u001b[0m\u001b[0mmode\u001b[0m\u001b[0;34m,\u001b[0m\u001b[0;34m\u001b[0m\u001b[0;34m\u001b[0m\u001b[0m\n",
      "\u001b[0;31mFileNotFoundError\u001b[0m: [Errno 2] No such file or directory: '../data/Traffic_mockup.csv'"
     ]
    }
   ],
   "source": [
    "ronet_data = pd.read_csv('../data/Traffic_mockup.csv')"
   ]
  },
  {
   "cell_type": "code",
   "execution_count": 75,
   "id": "272eba2b",
   "metadata": {},
   "outputs": [
    {
     "ename": "NameError",
     "evalue": "name 'ronet_data' is not defined",
     "output_type": "error",
     "traceback": [
      "\u001b[0;31m---------------------------------------------------------------------------\u001b[0m",
      "\u001b[0;31mNameError\u001b[0m                                 Traceback (most recent call last)",
      "\u001b[0;32m<ipython-input-75-cb835d8c9ed1>\u001b[0m in \u001b[0;36m<module>\u001b[0;34m\u001b[0m\n\u001b[0;32m----> 1\u001b[0;31m \u001b[0mronet_data\u001b[0m\u001b[0;34m.\u001b[0m\u001b[0mhead\u001b[0m\u001b[0;34m(\u001b[0m\u001b[0;34m)\u001b[0m\u001b[0;34m\u001b[0m\u001b[0;34m\u001b[0m\u001b[0m\n\u001b[0m",
      "\u001b[0;31mNameError\u001b[0m: name 'ronet_data' is not defined"
     ]
    }
   ],
   "source": [
    "ronet_data.head()"
   ]
  },
  {
   "cell_type": "markdown",
   "id": "8cc30b85",
   "metadata": {},
   "source": [
    "# Data fusion"
   ]
  },
  {
   "cell_type": "code",
   "execution_count": 78,
   "id": "e53a7038",
   "metadata": {},
   "outputs": [],
   "source": [
    "def x0(geo):\n",
    "    if geo.geometryType() != 'LineString':\n",
    "        return np.nan\n",
    "    return geo.xy[0][0]\n",
    "def x1(geo):\n",
    "    if geo.geometryType() != 'LineString':\n",
    "        return np.nan\n",
    "    return geo.xy[0][-1]\n",
    "def y0(geo):\n",
    "    if geo.geometryType() != 'LineString':\n",
    "        return np.nan\n",
    "    return geo.xy[1][0]\n",
    "def y1(geo):\n",
    "    if geo.geometryType() != 'LineString':\n",
    "        return np.nan\n",
    "    return geo.xy[1][-1]"
   ]
  },
  {
   "cell_type": "code",
   "execution_count": 127,
   "id": "2a1066c5",
   "metadata": {},
   "outputs": [
    {
     "data": {
      "image/png": "[encoded data removed]",
      "text/plain": [
       "<Figure size 432x288 with 1 Axes>"
      ]
     },
     "metadata": {
      "needs_background": "light"
     },
     "output_type": "display_data"
    },
    {
     "name": "stdout",
     "output_type": "stream",
     "text": [
      "CPU times: user 2.41 s, sys: 168 ms, total: 2.57 s\n",
      "Wall time: 2.8 s\n"
     ]
    }
   ],
   "source": [
    "%%time\n",
    "merged_data = gdf.merge(districts, how='left',left_on='district_id', right_on='id')\n",
    "merged_data = merged_data.merge(provinces, how='left',left_on='province_id', right_on='id')\n",
    "merged_data.drop(['district_id', 'province_id'], axis=1, inplace=True)\n",
    "merged_data = merged_data.merge(way_tags, on='way_id', how='left')\n",
    "merged_data = merged_data.merge(road_properties, how='left', left_on='or_vpromms', right_on='id')\n",
    "merged_data = merged_data.assign(empty= '', aadt=0, x_0= merged_data.geom.apply(x0), x_1= merged_data.geom.apply(x1), y_0= merged_data.geom.apply(y0), y_1= merged_data.geom.apply(y1))\n",
    "merged_data.columns = [x[3:] if x[:3]=='or_' else x for x in merged_data.columns]\n"
   ]
  },
  {
   "cell_type": "code",
   "execution_count": 73,
   "id": "c964bf5f",
   "metadata": {},
   "outputs": [
    {
     "ename": "NameError",
     "evalue": "name 'ronet_data' is not defined",
     "output_type": "error",
     "traceback": [
      "\u001b[0;31m---------------------------------------------------------------------------\u001b[0m",
      "\u001b[0;31mNameError\u001b[0m                                 Traceback (most recent call last)",
      "\u001b[0;32m<timed exec>\u001b[0m in \u001b[0;36m<module>\u001b[0;34m\u001b[0m\n",
      "\u001b[0;31mNameError\u001b[0m: name 'ronet_data' is not defined"
     ]
    }
   ],
   "source": [
    "%%time\n",
    "merged_data = merged_data.merge(ronet_data, left_on='vpromms', right_on='VPROMMS_ID', how='left')\n",
    "\n",
    "# For now let's just make it easy and get the first element that got matched with our IDs\n",
    "merged_data.drop_duplicates(['way_id_district'], inplace=True)"
   ]
  },
  {
   "cell_type": "code",
   "execution_count": 42,
   "id": "c8c2c8b3",
   "metadata": {},
   "outputs": [],
   "source": [
    "labeled_data = merged_data"
   ]
  },
  {
   "cell_type": "code",
   "execution_count": 76,
   "id": "98c020fb",
   "metadata": {},
   "outputs": [
    {
     "ename": "NameError",
     "evalue": "name 'labeled_data' is not defined",
     "output_type": "error",
     "traceback": [
      "\u001b[0;31m---------------------------------------------------------------------------\u001b[0m",
      "\u001b[0;31mNameError\u001b[0m                                 Traceback (most recent call last)",
      "\u001b[0;32m<ipython-input-76-940a4ee906e7>\u001b[0m in \u001b[0;36m<module>\u001b[0;34m\u001b[0m\n\u001b[0;32m----> 1\u001b[0;31m \u001b[0mnp\u001b[0m\u001b[0;34m.\u001b[0m\u001b[0msum\u001b[0m\u001b[0;34m(\u001b[0m\u001b[0mlabeled_data\u001b[0m\u001b[0;34m[\u001b[0m\u001b[0;34m~\u001b[0m\u001b[0mlabeled_data\u001b[0m\u001b[0;34m.\u001b[0m\u001b[0mvpromms\u001b[0m\u001b[0;34m.\u001b[0m\u001b[0misna\u001b[0m\u001b[0;34m(\u001b[0m\u001b[0;34m)\u001b[0m\u001b[0;34m]\u001b[0m\u001b[0;34m[\u001b[0m\u001b[0;34m'length'\u001b[0m\u001b[0;34m]\u001b[0m\u001b[0;34m)\u001b[0m\u001b[0;34m,\u001b[0m \u001b[0mnp\u001b[0m\u001b[0;34m.\u001b[0m\u001b[0msum\u001b[0m\u001b[0;34m(\u001b[0m\u001b[0mlabeled_data\u001b[0m\u001b[0;34m[\u001b[0m\u001b[0;34m'length'\u001b[0m\u001b[0;34m]\u001b[0m\u001b[0;34m)\u001b[0m\u001b[0;34m\u001b[0m\u001b[0;34m\u001b[0m\u001b[0m\n\u001b[0m",
      "\u001b[0;31mNameError\u001b[0m: name 'labeled_data' is not defined"
     ]
    }
   ],
   "source": [
    "np.sum(labeled_data[~labeled_data.vpromms.isna()]['length']), np.sum(labeled_data['length'])"
   ]
  },
  {
   "cell_type": "markdown",
   "id": "e428293d",
   "metadata": {},
   "source": [
    "### Merges data on equivalent fields"
   ]
  },
  {
   "cell_type": "code",
   "execution_count": 77,
   "id": "32e46c1b",
   "metadata": {
    "collapsed": true,
    "jupyter": {
     "outputs_hidden": true
    },
    "tags": []
   },
   "outputs": [
    {
     "ename": "KeyError",
     "evalue": "'OLD_WIDTH'",
     "output_type": "error",
     "traceback": [
      "\u001b[0;31m---------------------------------------------------------------------------\u001b[0m",
      "\u001b[0;31mKeyError\u001b[0m                                  Traceback (most recent call last)",
      "\u001b[0;32m~/.local/share/virtualenvs/roads-cba-py-go1oSVZ4/lib/python3.8/site-packages/pandas/core/indexes/base.py\u001b[0m in \u001b[0;36mget_loc\u001b[0;34m(self, key, method, tolerance)\u001b[0m\n\u001b[1;32m   3079\u001b[0m             \u001b[0;32mtry\u001b[0m\u001b[0;34m:\u001b[0m\u001b[0;34m\u001b[0m\u001b[0;34m\u001b[0m\u001b[0m\n\u001b[0;32m-> 3080\u001b[0;31m                 \u001b[0;32mreturn\u001b[0m \u001b[0mself\u001b[0m\u001b[0;34m.\u001b[0m\u001b[0m_engine\u001b[0m\u001b[0;34m.\u001b[0m\u001b[0mget_loc\u001b[0m\u001b[0;34m(\u001b[0m\u001b[0mcasted_key\u001b[0m\u001b[0;34m)\u001b[0m\u001b[0;34m\u001b[0m\u001b[0;34m\u001b[0m\u001b[0m\n\u001b[0m\u001b[1;32m   3081\u001b[0m             \u001b[0;32mexcept\u001b[0m \u001b[0mKeyError\u001b[0m \u001b[0;32mas\u001b[0m \u001b[0merr\u001b[0m\u001b[0;34m:\u001b[0m\u001b[0;34m\u001b[0m\u001b[0;34m\u001b[0m\u001b[0m\n",
      "\u001b[0;32mpandas/_libs/index.pyx\u001b[0m in \u001b[0;36mpandas._libs.index.IndexEngine.get_loc\u001b[0;34m()\u001b[0m\n",
      "\u001b[0;32mpandas/_libs/index.pyx\u001b[0m in \u001b[0;36mpandas._libs.index.IndexEngine.get_loc\u001b[0;34m()\u001b[0m\n",
      "\u001b[0;32mpandas/_libs/hashtable_class_helper.pxi\u001b[0m in \u001b[0;36mpandas._libs.hashtable.PyObjectHashTable.get_item\u001b[0;34m()\u001b[0m\n",
      "\u001b[0;32mpandas/_libs/hashtable_class_helper.pxi\u001b[0m in \u001b[0;36mpandas._libs.hashtable.PyObjectHashTable.get_item\u001b[0;34m()\u001b[0m\n",
      "\u001b[0;31mKeyError\u001b[0m: 'OLD_WIDTH'",
      "\nThe above exception was the direct cause of the following exception:\n",
      "\u001b[0;31mKeyError\u001b[0m                                  Traceback (most recent call last)",
      "\u001b[0;32m<ipython-input-77-259589dc4bb5>\u001b[0m in \u001b[0;36m<module>\u001b[0;34m\u001b[0m\n\u001b[1;32m      2\u001b[0m \u001b[0;34m\u001b[0m\u001b[0m\n\u001b[1;32m      3\u001b[0m \u001b[0;32mfor\u001b[0m \u001b[0mfld\u001b[0m\u001b[0;34m,\u001b[0m \u001b[0malt_fld\u001b[0m \u001b[0;32min\u001b[0m \u001b[0mfield_pairs\u001b[0m\u001b[0;34m:\u001b[0m\u001b[0;34m\u001b[0m\u001b[0;34m\u001b[0m\u001b[0m\n\u001b[0;32m----> 4\u001b[0;31m     \u001b[0mmerged_data\u001b[0m\u001b[0;34m.\u001b[0m\u001b[0mloc\u001b[0m\u001b[0;34m[\u001b[0m\u001b[0mmerged_data\u001b[0m\u001b[0;34m[\u001b[0m\u001b[0mfld\u001b[0m\u001b[0;34m]\u001b[0m\u001b[0;34m.\u001b[0m\u001b[0misna\u001b[0m\u001b[0;34m(\u001b[0m\u001b[0;34m)\u001b[0m\u001b[0;34m,\u001b[0m \u001b[0mfld\u001b[0m\u001b[0;34m]\u001b[0m \u001b[0;34m=\u001b[0m \u001b[0mmerged_data\u001b[0m\u001b[0;34m.\u001b[0m\u001b[0mloc\u001b[0m\u001b[0;34m[\u001b[0m\u001b[0mmerged_data\u001b[0m\u001b[0;34m[\u001b[0m\u001b[0mfld\u001b[0m\u001b[0;34m]\u001b[0m\u001b[0;34m.\u001b[0m\u001b[0misna\u001b[0m\u001b[0;34m(\u001b[0m\u001b[0;34m)\u001b[0m\u001b[0;34m,\u001b[0m \u001b[0malt_fld\u001b[0m\u001b[0;34m]\u001b[0m\u001b[0;34m\u001b[0m\u001b[0;34m\u001b[0m\u001b[0m\n\u001b[0m",
      "\u001b[0;32m~/.local/share/virtualenvs/roads-cba-py-go1oSVZ4/lib/python3.8/site-packages/pandas/core/indexing.py\u001b[0m in \u001b[0;36m__getitem__\u001b[0;34m(self, key)\u001b[0m\n\u001b[1;32m    887\u001b[0m                     \u001b[0;31m# AttributeError for IntervalTree get_value\u001b[0m\u001b[0;34m\u001b[0m\u001b[0;34m\u001b[0m\u001b[0;34m\u001b[0m\u001b[0m\n\u001b[1;32m    888\u001b[0m                     \u001b[0;32mreturn\u001b[0m \u001b[0mself\u001b[0m\u001b[0;34m.\u001b[0m\u001b[0mobj\u001b[0m\u001b[0;34m.\u001b[0m\u001b[0m_get_value\u001b[0m\u001b[0;34m(\u001b[0m\u001b[0;34m*\u001b[0m\u001b[0mkey\u001b[0m\u001b[0;34m,\u001b[0m \u001b[0mtakeable\u001b[0m\u001b[0;34m=\u001b[0m\u001b[0mself\u001b[0m\u001b[0;34m.\u001b[0m\u001b[0m_takeable\u001b[0m\u001b[0;34m)\u001b[0m\u001b[0;34m\u001b[0m\u001b[0;34m\u001b[0m\u001b[0m\n\u001b[0;32m--> 889\u001b[0;31m             \u001b[0;32mreturn\u001b[0m \u001b[0mself\u001b[0m\u001b[0;34m.\u001b[0m\u001b[0m_getitem_tuple\u001b[0m\u001b[0;34m(\u001b[0m\u001b[0mkey\u001b[0m\u001b[0;34m)\u001b[0m\u001b[0;34m\u001b[0m\u001b[0;34m\u001b[0m\u001b[0m\n\u001b[0m\u001b[1;32m    890\u001b[0m         \u001b[0;32melse\u001b[0m\u001b[0;34m:\u001b[0m\u001b[0;34m\u001b[0m\u001b[0;34m\u001b[0m\u001b[0m\n\u001b[1;32m    891\u001b[0m             \u001b[0;31m# we by definition only have the 0th axis\u001b[0m\u001b[0;34m\u001b[0m\u001b[0;34m\u001b[0m\u001b[0;34m\u001b[0m\u001b[0m\n",
      "\u001b[0;32m~/.local/share/virtualenvs/roads-cba-py-go1oSVZ4/lib/python3.8/site-packages/pandas/core/indexing.py\u001b[0m in \u001b[0;36m_getitem_tuple\u001b[0;34m(self, tup)\u001b[0m\n\u001b[1;32m   1058\u001b[0m     \u001b[0;32mdef\u001b[0m \u001b[0m_getitem_tuple\u001b[0m\u001b[0;34m(\u001b[0m\u001b[0mself\u001b[0m\u001b[0;34m,\u001b[0m \u001b[0mtup\u001b[0m\u001b[0;34m:\u001b[0m \u001b[0mTuple\u001b[0m\u001b[0;34m)\u001b[0m\u001b[0;34m:\u001b[0m\u001b[0;34m\u001b[0m\u001b[0;34m\u001b[0m\u001b[0m\n\u001b[1;32m   1059\u001b[0m         \u001b[0;32mwith\u001b[0m \u001b[0msuppress\u001b[0m\u001b[0;34m(\u001b[0m\u001b[0mIndexingError\u001b[0m\u001b[0;34m)\u001b[0m\u001b[0;34m:\u001b[0m\u001b[0;34m\u001b[0m\u001b[0;34m\u001b[0m\u001b[0m\n\u001b[0;32m-> 1060\u001b[0;31m             \u001b[0;32mreturn\u001b[0m \u001b[0mself\u001b[0m\u001b[0;34m.\u001b[0m\u001b[0m_getitem_lowerdim\u001b[0m\u001b[0;34m(\u001b[0m\u001b[0mtup\u001b[0m\u001b[0;34m)\u001b[0m\u001b[0;34m\u001b[0m\u001b[0;34m\u001b[0m\u001b[0m\n\u001b[0m\u001b[1;32m   1061\u001b[0m \u001b[0;34m\u001b[0m\u001b[0m\n\u001b[1;32m   1062\u001b[0m         \u001b[0;31m# no multi-index, so validate all of the indexers\u001b[0m\u001b[0;34m\u001b[0m\u001b[0;34m\u001b[0m\u001b[0;34m\u001b[0m\u001b[0m\n",
      "\u001b[0;32m~/.local/share/virtualenvs/roads-cba-py-go1oSVZ4/lib/python3.8/site-packages/pandas/core/indexing.py\u001b[0m in \u001b[0;36m_getitem_lowerdim\u001b[0;34m(self, tup)\u001b[0m\n\u001b[1;32m    805\u001b[0m                 \u001b[0;31m# We don't need to check for tuples here because those are\u001b[0m\u001b[0;34m\u001b[0m\u001b[0;34m\u001b[0m\u001b[0;34m\u001b[0m\u001b[0m\n\u001b[1;32m    806\u001b[0m                 \u001b[0;31m#  caught by the _is_nested_tuple_indexer check above.\u001b[0m\u001b[0;34m\u001b[0m\u001b[0;34m\u001b[0m\u001b[0;34m\u001b[0m\u001b[0m\n\u001b[0;32m--> 807\u001b[0;31m                 \u001b[0msection\u001b[0m \u001b[0;34m=\u001b[0m \u001b[0mself\u001b[0m\u001b[0;34m.\u001b[0m\u001b[0m_getitem_axis\u001b[0m\u001b[0;34m(\u001b[0m\u001b[0mkey\u001b[0m\u001b[0;34m,\u001b[0m \u001b[0maxis\u001b[0m\u001b[0;34m=\u001b[0m\u001b[0mi\u001b[0m\u001b[0;34m)\u001b[0m\u001b[0;34m\u001b[0m\u001b[0;34m\u001b[0m\u001b[0m\n\u001b[0m\u001b[1;32m    808\u001b[0m \u001b[0;34m\u001b[0m\u001b[0m\n\u001b[1;32m    809\u001b[0m                 \u001b[0;31m# We should never have a scalar section here, because\u001b[0m\u001b[0;34m\u001b[0m\u001b[0;34m\u001b[0m\u001b[0;34m\u001b[0m\u001b[0m\n",
      "\u001b[0;32m~/.local/share/virtualenvs/roads-cba-py-go1oSVZ4/lib/python3.8/site-packages/pandas/core/indexing.py\u001b[0m in \u001b[0;36m_getitem_axis\u001b[0;34m(self, key, axis)\u001b[0m\n\u001b[1;32m   1122\u001b[0m         \u001b[0;31m# fall thru to straight lookup\u001b[0m\u001b[0;34m\u001b[0m\u001b[0;34m\u001b[0m\u001b[0;34m\u001b[0m\u001b[0m\n\u001b[1;32m   1123\u001b[0m         \u001b[0mself\u001b[0m\u001b[0;34m.\u001b[0m\u001b[0m_validate_key\u001b[0m\u001b[0;34m(\u001b[0m\u001b[0mkey\u001b[0m\u001b[0;34m,\u001b[0m \u001b[0maxis\u001b[0m\u001b[0;34m)\u001b[0m\u001b[0;34m\u001b[0m\u001b[0;34m\u001b[0m\u001b[0m\n\u001b[0;32m-> 1124\u001b[0;31m         \u001b[0;32mreturn\u001b[0m \u001b[0mself\u001b[0m\u001b[0;34m.\u001b[0m\u001b[0m_get_label\u001b[0m\u001b[0;34m(\u001b[0m\u001b[0mkey\u001b[0m\u001b[0;34m,\u001b[0m \u001b[0maxis\u001b[0m\u001b[0;34m=\u001b[0m\u001b[0maxis\u001b[0m\u001b[0;34m)\u001b[0m\u001b[0;34m\u001b[0m\u001b[0;34m\u001b[0m\u001b[0m\n\u001b[0m\u001b[1;32m   1125\u001b[0m \u001b[0;34m\u001b[0m\u001b[0m\n\u001b[1;32m   1126\u001b[0m     \u001b[0;32mdef\u001b[0m \u001b[0m_get_slice_axis\u001b[0m\u001b[0;34m(\u001b[0m\u001b[0mself\u001b[0m\u001b[0;34m,\u001b[0m \u001b[0mslice_obj\u001b[0m\u001b[0;34m:\u001b[0m \u001b[0mslice\u001b[0m\u001b[0;34m,\u001b[0m \u001b[0maxis\u001b[0m\u001b[0;34m:\u001b[0m \u001b[0mint\u001b[0m\u001b[0;34m)\u001b[0m\u001b[0;34m:\u001b[0m\u001b[0;34m\u001b[0m\u001b[0;34m\u001b[0m\u001b[0m\n",
      "\u001b[0;32m~/.local/share/virtualenvs/roads-cba-py-go1oSVZ4/lib/python3.8/site-packages/pandas/core/indexing.py\u001b[0m in \u001b[0;36m_get_label\u001b[0;34m(self, label, axis)\u001b[0m\n\u001b[1;32m   1071\u001b[0m     \u001b[0;32mdef\u001b[0m \u001b[0m_get_label\u001b[0m\u001b[0;34m(\u001b[0m\u001b[0mself\u001b[0m\u001b[0;34m,\u001b[0m \u001b[0mlabel\u001b[0m\u001b[0;34m,\u001b[0m \u001b[0maxis\u001b[0m\u001b[0;34m:\u001b[0m \u001b[0mint\u001b[0m\u001b[0;34m)\u001b[0m\u001b[0;34m:\u001b[0m\u001b[0;34m\u001b[0m\u001b[0;34m\u001b[0m\u001b[0m\n\u001b[1;32m   1072\u001b[0m         \u001b[0;31m# GH#5667 this will fail if the label is not present in the axis.\u001b[0m\u001b[0;34m\u001b[0m\u001b[0;34m\u001b[0m\u001b[0;34m\u001b[0m\u001b[0m\n\u001b[0;32m-> 1073\u001b[0;31m         \u001b[0;32mreturn\u001b[0m \u001b[0mself\u001b[0m\u001b[0;34m.\u001b[0m\u001b[0mobj\u001b[0m\u001b[0;34m.\u001b[0m\u001b[0mxs\u001b[0m\u001b[0;34m(\u001b[0m\u001b[0mlabel\u001b[0m\u001b[0;34m,\u001b[0m \u001b[0maxis\u001b[0m\u001b[0;34m=\u001b[0m\u001b[0maxis\u001b[0m\u001b[0;34m)\u001b[0m\u001b[0;34m\u001b[0m\u001b[0;34m\u001b[0m\u001b[0m\n\u001b[0m\u001b[1;32m   1074\u001b[0m \u001b[0;34m\u001b[0m\u001b[0m\n\u001b[1;32m   1075\u001b[0m     \u001b[0;32mdef\u001b[0m \u001b[0m_handle_lowerdim_multi_index_axis0\u001b[0m\u001b[0;34m(\u001b[0m\u001b[0mself\u001b[0m\u001b[0;34m,\u001b[0m \u001b[0mtup\u001b[0m\u001b[0;34m:\u001b[0m \u001b[0mTuple\u001b[0m\u001b[0;34m)\u001b[0m\u001b[0;34m:\u001b[0m\u001b[0;34m\u001b[0m\u001b[0;34m\u001b[0m\u001b[0m\n",
      "\u001b[0;32m~/.local/share/virtualenvs/roads-cba-py-go1oSVZ4/lib/python3.8/site-packages/pandas/core/generic.py\u001b[0m in \u001b[0;36mxs\u001b[0;34m(self, key, axis, level, drop_level)\u001b[0m\n\u001b[1;32m   3722\u001b[0m         \u001b[0;32mif\u001b[0m \u001b[0maxis\u001b[0m \u001b[0;34m==\u001b[0m \u001b[0;36m1\u001b[0m\u001b[0;34m:\u001b[0m\u001b[0;34m\u001b[0m\u001b[0;34m\u001b[0m\u001b[0m\n\u001b[1;32m   3723\u001b[0m             \u001b[0;32mif\u001b[0m \u001b[0mdrop_level\u001b[0m\u001b[0;34m:\u001b[0m\u001b[0;34m\u001b[0m\u001b[0;34m\u001b[0m\u001b[0m\n\u001b[0;32m-> 3724\u001b[0;31m                 \u001b[0;32mreturn\u001b[0m \u001b[0mself\u001b[0m\u001b[0;34m[\u001b[0m\u001b[0mkey\u001b[0m\u001b[0;34m]\u001b[0m\u001b[0;34m\u001b[0m\u001b[0;34m\u001b[0m\u001b[0m\n\u001b[0m\u001b[1;32m   3725\u001b[0m             \u001b[0mindex\u001b[0m \u001b[0;34m=\u001b[0m \u001b[0mself\u001b[0m\u001b[0;34m.\u001b[0m\u001b[0mcolumns\u001b[0m\u001b[0;34m\u001b[0m\u001b[0;34m\u001b[0m\u001b[0m\n\u001b[1;32m   3726\u001b[0m         \u001b[0;32melse\u001b[0m\u001b[0;34m:\u001b[0m\u001b[0;34m\u001b[0m\u001b[0;34m\u001b[0m\u001b[0m\n",
      "\u001b[0;32m~/.local/share/virtualenvs/roads-cba-py-go1oSVZ4/lib/python3.8/site-packages/pandas/core/frame.py\u001b[0m in \u001b[0;36m__getitem__\u001b[0;34m(self, key)\u001b[0m\n\u001b[1;32m   3022\u001b[0m             \u001b[0;32mif\u001b[0m \u001b[0mself\u001b[0m\u001b[0;34m.\u001b[0m\u001b[0mcolumns\u001b[0m\u001b[0;34m.\u001b[0m\u001b[0mnlevels\u001b[0m \u001b[0;34m>\u001b[0m \u001b[0;36m1\u001b[0m\u001b[0;34m:\u001b[0m\u001b[0;34m\u001b[0m\u001b[0;34m\u001b[0m\u001b[0m\n\u001b[1;32m   3023\u001b[0m                 \u001b[0;32mreturn\u001b[0m \u001b[0mself\u001b[0m\u001b[0;34m.\u001b[0m\u001b[0m_getitem_multilevel\u001b[0m\u001b[0;34m(\u001b[0m\u001b[0mkey\u001b[0m\u001b[0;34m)\u001b[0m\u001b[0;34m\u001b[0m\u001b[0;34m\u001b[0m\u001b[0m\n\u001b[0;32m-> 3024\u001b[0;31m             \u001b[0mindexer\u001b[0m \u001b[0;34m=\u001b[0m \u001b[0mself\u001b[0m\u001b[0;34m.\u001b[0m\u001b[0mcolumns\u001b[0m\u001b[0;34m.\u001b[0m\u001b[0mget_loc\u001b[0m\u001b[0;34m(\u001b[0m\u001b[0mkey\u001b[0m\u001b[0;34m)\u001b[0m\u001b[0;34m\u001b[0m\u001b[0;34m\u001b[0m\u001b[0m\n\u001b[0m\u001b[1;32m   3025\u001b[0m             \u001b[0;32mif\u001b[0m \u001b[0mis_integer\u001b[0m\u001b[0;34m(\u001b[0m\u001b[0mindexer\u001b[0m\u001b[0;34m)\u001b[0m\u001b[0;34m:\u001b[0m\u001b[0;34m\u001b[0m\u001b[0;34m\u001b[0m\u001b[0m\n\u001b[1;32m   3026\u001b[0m                 \u001b[0mindexer\u001b[0m \u001b[0;34m=\u001b[0m \u001b[0;34m[\u001b[0m\u001b[0mindexer\u001b[0m\u001b[0;34m]\u001b[0m\u001b[0;34m\u001b[0m\u001b[0;34m\u001b[0m\u001b[0m\n",
      "\u001b[0;32m~/.local/share/virtualenvs/roads-cba-py-go1oSVZ4/lib/python3.8/site-packages/pandas/core/indexes/base.py\u001b[0m in \u001b[0;36mget_loc\u001b[0;34m(self, key, method, tolerance)\u001b[0m\n\u001b[1;32m   3080\u001b[0m                 \u001b[0;32mreturn\u001b[0m \u001b[0mself\u001b[0m\u001b[0;34m.\u001b[0m\u001b[0m_engine\u001b[0m\u001b[0;34m.\u001b[0m\u001b[0mget_loc\u001b[0m\u001b[0;34m(\u001b[0m\u001b[0mcasted_key\u001b[0m\u001b[0;34m)\u001b[0m\u001b[0;34m\u001b[0m\u001b[0;34m\u001b[0m\u001b[0m\n\u001b[1;32m   3081\u001b[0m             \u001b[0;32mexcept\u001b[0m \u001b[0mKeyError\u001b[0m \u001b[0;32mas\u001b[0m \u001b[0merr\u001b[0m\u001b[0;34m:\u001b[0m\u001b[0;34m\u001b[0m\u001b[0;34m\u001b[0m\u001b[0m\n\u001b[0;32m-> 3082\u001b[0;31m                 \u001b[0;32mraise\u001b[0m \u001b[0mKeyError\u001b[0m\u001b[0;34m(\u001b[0m\u001b[0mkey\u001b[0m\u001b[0;34m)\u001b[0m \u001b[0;32mfrom\u001b[0m \u001b[0merr\u001b[0m\u001b[0;34m\u001b[0m\u001b[0;34m\u001b[0m\u001b[0m\n\u001b[0m\u001b[1;32m   3083\u001b[0m \u001b[0;34m\u001b[0m\u001b[0m\n\u001b[1;32m   3084\u001b[0m         \u001b[0;32mif\u001b[0m \u001b[0mtolerance\u001b[0m \u001b[0;32mis\u001b[0m \u001b[0;32mnot\u001b[0m \u001b[0;32mNone\u001b[0m\u001b[0;34m:\u001b[0m\u001b[0;34m\u001b[0m\u001b[0;34m\u001b[0m\u001b[0m\n",
      "\u001b[0;31mKeyError\u001b[0m: 'OLD_WIDTH'"
     ]
    }
   ],
   "source": [
    "field_pairs = [['name', 'road name'], ['width', 'section_carraigeway'], ['width', 'road width'], ['condition', 'section_pavement_condition'], ['width', 'OLD_WIDTH'], ['section_traffic', 'OLD_traffic_level'], ['link_class', 'OLD_CLASS'], ['section_surface', 'OLD_SURFACE'], ['condition', 'OLD_CONDITION']]\n",
    "\n",
    "for fld, alt_fld in field_pairs:\n",
    "    merged_data.loc[merged_data[fld].isna(), fld] = merged_data.loc[merged_data[fld].isna(), alt_fld]"
   ]
  },
  {
   "cell_type": "markdown",
   "id": "0d2cce55",
   "metadata": {},
   "source": [
    "### Fixes data types"
   ]
  },
  {
   "cell_type": "code",
   "execution_count": 128,
   "id": "d3ef310f",
   "metadata": {},
   "outputs": [
    {
     "ename": "NameError",
     "evalue": "name 'labeled_data' is not defined",
     "output_type": "error",
     "traceback": [
      "\u001b[0;31m---------------------------------------------------------------------------\u001b[0m",
      "\u001b[0;31mNameError\u001b[0m                                 Traceback (most recent call last)",
      "\u001b[0;32m<ipython-input-128-04d387a36dc9>\u001b[0m in \u001b[0;36m<module>\u001b[0;34m\u001b[0m\n\u001b[0;32m----> 1\u001b[0;31m \u001b[0mlabeled_data\u001b[0m\u001b[0;34m.\u001b[0m\u001b[0mloc\u001b[0m\u001b[0;34m[\u001b[0m\u001b[0;34m:\u001b[0m\u001b[0;34m,\u001b[0m \u001b[0;34m' '\u001b[0m\u001b[0;34m]\u001b[0m \u001b[0;34m=\u001b[0m \u001b[0mlabeled_data\u001b[0m\u001b[0;34m.\u001b[0m\u001b[0msection_carraigeway\u001b[0m\u001b[0;34m.\u001b[0m\u001b[0mstr\u001b[0m\u001b[0;34m.\u001b[0m\u001b[0mreplace\u001b[0m\u001b[0;34m(\u001b[0m\u001b[0;34m\",\"\u001b[0m\u001b[0;34m,\u001b[0m \u001b[0;34m\".\"\u001b[0m\u001b[0;34m)\u001b[0m\u001b[0;34m.\u001b[0m\u001b[0mastype\u001b[0m\u001b[0;34m(\u001b[0m\u001b[0mfloat\u001b[0m\u001b[0;34m)\u001b[0m\u001b[0;34m\u001b[0m\u001b[0;34m\u001b[0m\u001b[0m\n\u001b[0m\u001b[1;32m      2\u001b[0m \u001b[0mlabeled_data\u001b[0m\u001b[0;34m.\u001b[0m\u001b[0mloc\u001b[0m\u001b[0;34m[\u001b[0m\u001b[0;34m~\u001b[0m\u001b[0mlabeled_data\u001b[0m\u001b[0;34m[\u001b[0m\u001b[0;34m'section_pavement'\u001b[0m\u001b[0;34m]\u001b[0m\u001b[0;34m.\u001b[0m\u001b[0misna\u001b[0m\u001b[0;34m(\u001b[0m\u001b[0;34m)\u001b[0m\u001b[0;34m,\u001b[0m \u001b[0;34m'section_pavement'\u001b[0m\u001b[0;34m]\u001b[0m \u001b[0;34m=\u001b[0m \u001b[0mlabeled_data\u001b[0m\u001b[0;34m.\u001b[0m\u001b[0mloc\u001b[0m\u001b[0;34m[\u001b[0m\u001b[0;34m~\u001b[0m\u001b[0mlabeled_data\u001b[0m\u001b[0;34m[\u001b[0m\u001b[0;34m'section_pavement'\u001b[0m\u001b[0;34m]\u001b[0m\u001b[0;34m.\u001b[0m\u001b[0misna\u001b[0m\u001b[0;34m(\u001b[0m\u001b[0;34m)\u001b[0m\u001b[0;34m,\u001b[0m \u001b[0;34m'section_pavement'\u001b[0m\u001b[0;34m]\u001b[0m\u001b[0;34m.\u001b[0m\u001b[0mstr\u001b[0m\u001b[0;34m[\u001b[0m\u001b[0;34m-\u001b[0m\u001b[0;36m1\u001b[0m\u001b[0;34m]\u001b[0m\u001b[0;34m\u001b[0m\u001b[0;34m\u001b[0m\u001b[0m\n\u001b[1;32m      3\u001b[0m \u001b[0;31m# labeled_data.loc[~labeled_data['section_surface'].isna(), 'section_surface'] = labeled_data.loc[~labeled_data['section_surface'].isna(), 'section_surface'].str[0]\u001b[0m\u001b[0;34m\u001b[0m\u001b[0;34m\u001b[0m\u001b[0;34m\u001b[0m\u001b[0m\n\u001b[1;32m      4\u001b[0m \u001b[0mlabeled_data\u001b[0m\u001b[0;34m.\u001b[0m\u001b[0mloc\u001b[0m\u001b[0;34m[\u001b[0m\u001b[0;34m~\u001b[0m\u001b[0mlabeled_data\u001b[0m\u001b[0;34m[\u001b[0m\u001b[0;34m'section_pavement_condition'\u001b[0m\u001b[0;34m]\u001b[0m\u001b[0;34m.\u001b[0m\u001b[0misna\u001b[0m\u001b[0;34m(\u001b[0m\u001b[0;34m)\u001b[0m\u001b[0;34m,\u001b[0m \u001b[0;34m'section_pavement_condition'\u001b[0m\u001b[0;34m]\u001b[0m \u001b[0;34m=\u001b[0m \u001b[0mlabeled_data\u001b[0m\u001b[0;34m.\u001b[0m\u001b[0mloc\u001b[0m\u001b[0;34m[\u001b[0m\u001b[0;34m~\u001b[0m\u001b[0mlabeled_data\u001b[0m\u001b[0;34m[\u001b[0m\u001b[0;34m'section_pavement_condition'\u001b[0m\u001b[0;34m]\u001b[0m\u001b[0;34m.\u001b[0m\u001b[0misna\u001b[0m\u001b[0;34m(\u001b[0m\u001b[0;34m)\u001b[0m\u001b[0;34m,\u001b[0m \u001b[0;34m'section_pavement_condition'\u001b[0m\u001b[0;34m]\u001b[0m\u001b[0;34m.\u001b[0m\u001b[0mstr\u001b[0m\u001b[0;34m[\u001b[0m\u001b[0;36m0\u001b[0m\u001b[0;34m]\u001b[0m\u001b[0;34m\u001b[0m\u001b[0;34m\u001b[0m\u001b[0m\n\u001b[1;32m      5\u001b[0m \u001b[0;34m\u001b[0m\u001b[0m\n",
      "\u001b[0;31mNameError\u001b[0m: name 'labeled_data' is not defined"
     ]
    }
   ],
   "source": [
    "labeled_data.loc[:, ' '] = labeled_data.section_carraigeway.str.replace(\",\", \".\").astype(float)\n",
    "labeled_data.loc[~labeled_data['section_pavement'].isna(), 'section_pavement'] = labeled_data.loc[~labeled_data['section_pavement'].isna(), 'section_pavement'].str[-1]\n",
    "# labeled_data.loc[~labeled_data['section_surface'].isna(), 'section_surface'] = labeled_data.loc[~labeled_data['section_surface'].isna(), 'section_surface'].str[0]\n",
    "labeled_data.loc[~labeled_data['section_pavement_condition'].isna(), 'section_pavement_condition'] = labeled_data.loc[~labeled_data['section_pavement_condition'].isna(), 'section_pavement_condition'].str[0]\n",
    "\n",
    "traffic_fields = ['section_motorcycle', 'section_small_car', 'section_medium_car', 'section_delivery_vehicle', 'section_light_truck', \n",
    "                  'section_medium_truck', 'section_heavy_truck', 'section_articulated_truck', 'section_small_bus', 'section_medium_bus', 'section_large_bus']\n",
    "    \n",
    "tot = np.zeros(labeled_data.shape[0])\n",
    "for field in traffic_fields:\n",
    "    labeled_data[field].fillna(0, inplace=True)\n",
    "    labeled_data.loc[~labeled_data[field].apply(lambda x: str(x).isnumeric()), field] = 0 \n",
    "    labeled_data.loc[:, field] = labeled_data[field].astype(float)\n",
    "    tot += labeled_data[field].values\n",
    "labeled_data.loc[:, 'aadt'] = tot\n",
    "\n",
    "\n",
    "for x in [1, 2, 3]:\n",
    "    labeled_data.loc[labeled_data['surface'] == x, 'surface'] = '1'\n",
    "    \n",
    "for x in [4, 5]:\n",
    "    labeled_data.loc[labeled_data['surface'] == x, 'surface'] = '2'\n",
    "    \n",
    "for x in ['concrete', 'asphalt', 'paved', 'concrete:lanes', 'Concrete']:\n",
    "    labeled_data.loc[labeled_data['surface'] == x, 'surface'] = '1'\n",
    "\n",
    "for x in ['ground', 'unpaved', 'earth']:\n",
    "    labeled_data.loc[labeled_data['surface'] == x, 'surface'] = '2'\n",
    "\n",
    "for x in ['concrete', 'concrete:lanes', 'Concrete']:\n",
    "    labeled_data.loc[(labeled_data['surface'] == x) & (labeled_data.section_surface.isna()), 'section_surface'] = '1'\n",
    "    \n",
    "for x in ['asphalt']:\n",
    "    labeled_data.loc[(labeled_data['surface'] == x) & (labeled_data.section_surface.isna()), 'section_surface'] = '2'\n",
    "    \n",
    "for x in ['earth']:\n",
    "    labeled_data.loc[(labeled_data['surface'] == x) & (labeled_data.section_surface.isna()), 'section_surface'] = '5'\n",
    "    \n",
    "    \n",
    "for i, cl in enumerate(['Class I','Class II','Class III','Class IV','Class V','Class VI','A','B','C','D']):\n",
    "    labeled_data.loc[labeled_data['link_class'].str.lower() == cl.lower(), 'link_class'] = i + 1\n",
    "    \n",
    "for i, cl in enumerate(['Very Good', 'Good', 'Fair', 'Poor', 'Very Poor']):\n",
    "    labeled_data.loc[labeled_data['condition'].str.lower() == cl.lower(), 'condition'] = i + 1\n",
    "labeled_data.loc[labeled_data['condition'].str.lower() =='bad', 'condition'] = 4"
   ]
  },
  {
   "cell_type": "markdown",
   "id": "84f505e3",
   "metadata": {},
   "source": [
    "### Creates outputs"
   ]
  },
  {
   "cell_type": "code",
   "execution_count": 46,
   "id": "e59ca597",
   "metadata": {},
   "outputs": [],
   "source": [
    "ha_giang = labeled_data[labeled_data.province=='Hà Giang']\n",
    "filtered = ha_giang[(~ha_giang.section_lanes.isna())|(~ha_giang.width.isna())]\n",
    "\n",
    "filtered = filtered[~filtered.link_class.isna()]\n",
    "# filtered = filtered[~filtered.section_temperature.isna()]\n",
    "# filtered = filtered[~filtered.section_moisture.isna()]\n",
    "# filtered = filtered[~filtered.section_traffic_growth.isna()]\n",
    "\n",
    "# filtered = filtered[~filtered.section_terrain.isna()]\n",
    "filtered.loc[filtered.section_moisture.isna(), 'section_terrain'] = '3'\n",
    "\n",
    "filtered = filtered[(~filtered.condition.isna())|(~filtered.iri.isna())]\n",
    "\n",
    "filtered = filtered[(~filtered.surface.isna())|(~filtered.section_surface.isna())]\n",
    "\n",
    "filtered = filtered[filtered.section_traffic.astype(float)>0]\n",
    "\n",
    "# # BECAUSE WE KNOW IT IS HUMID AND HOT\n",
    "filtered.loc[filtered.section_moisture.isna(), 'section_moisture'] = 4\n",
    "filtered.loc[filtered.section_temperature.isna(), 'section_temperature'] = 1\n",
    "\n",
    "# And let's assume traffic growth will be medium, or everything drops out\n",
    "filtered.loc[filtered.section_traffic_growth.isna(), 'section_traffic_growth'] = 3"
   ]
  },
  {
   "cell_type": "code",
   "execution_count": 47,
   "id": "b11eae59",
   "metadata": {},
   "outputs": [],
   "source": [
    "zero_for_now = ['section_motorcycle', 'section_small_car', 'section_medium_car', 'section_four_wheel', 'section_delivery_vehicle', 'section_light_truck', 'section_medium_truck', 'section_heavy_truck', 'section_articulated_truck', 'section_small_bus', 'section_medium_bus', 'section_large_bus', 'aadt']\n",
    "for col in zero_for_now:\n",
    "    filtered.loc[:, col] = np.nan"
   ]
  },
  {
   "cell_type": "code",
   "execution_count": 48,
   "id": "a9094165",
   "metadata": {},
   "outputs": [],
   "source": [
    "cba_column_order = ['VPROMM_ID','way_id_district', \n",
    "                    'road number', 'name', 'road start location', 'road end location', \n",
    "                    'empty', 'empty', 'province', 'district', 'section_commune_gso', 'management', 'empty', 'empty', 'x_0', 'y_0', 'x_1', 'y_1', \n",
    "                    'length', 'section_lanes', 'width', 'empty', 'empty', 'link_class', 'section_terrain', 'section_temperature', 'section_moisture', 'surface', 'section_surface',\n",
    "                    'empty', 'empty', 'empty',\n",
    "                    'condition', 'iri', 'empty', 'empty', 'empty', 'section_pavement_age', 'empty',\n",
    "                    'section_traffic', 'section_motorcycle', 'section_small_car', 'section_medium_car', 'section_four_wheel', 'section_delivery_vehicle', 'section_light_truck', 'section_medium_truck', 'section_heavy_truck', 'section_articulated_truck', 'section_small_bus', 'section_medium_bus', 'section_large_bus', 'aadt','section_traffic_growth'\n",
    "                ]"
   ]
  },
  {
   "cell_type": "code",
   "execution_count": 49,
   "id": "63049b52",
   "metadata": {},
   "outputs": [],
   "source": [
    "data = filtered[cba_column_order]\n",
    "data.to_csv('../data/segments_generated.csv', index=False)"
   ]
  },
  {
   "cell_type": "code",
   "execution_count": 50,
   "id": "b8876a69",
   "metadata": {},
   "outputs": [],
   "source": [
    "gdf_cols = [x for x in cba_column_order if x != 'empty']\n",
    "data = filtered[gdf_cols]\n",
    "geo = filtered.geom[~data.x_0.isna()]\n",
    "data = data[~data.x_0.isna()]\n",
    "\n",
    "gdf = gpd.GeoDataFrame(data, geometry=geo)\n",
    "gdf = gdf.set_crs(4326)\n",
    "gdf.to_file('../data/sections_generated.gpkg', driver=\"GPKG\", encoding='utf-8')"
   ]
  },
  {
   "cell_type": "code",
   "execution_count": 231,
   "id": "753be28d",
   "metadata": {},
   "outputs": [
    {
     "data": {
      "application/vnd.jupyter.widget-view+json": {
       "model_id": "bd678174a44741eca3a4e3ac269baa00",
       "version_major": 2,
       "version_minor": 0
      },
      "text/plain": [
       "Map(center=[22.770006, 104.984655], controls=(ZoomControl(options=['position', 'zoom_in_text', 'zoom_in_title'…"
      ]
     },
     "metadata": {},
     "output_type": "display_data"
    }
   ],
   "source": [
    "from ipyleaflet import *\n",
    "import ipywidgets\n",
    "import random\n",
    "\n",
    "lu = {1: '#005AB5', 0: '#DC3220'}\n",
    "lu = {1: '#005AB588', 0: '#DC322088'}\n",
    "\n",
    "def random_color(feature):\n",
    "    ready=feature['properties']['cba_ready']\n",
    "    return {\n",
    "        'color': lu[ready], 'weight':1.4 + ready\n",
    "    }\n",
    "\n",
    "def generate_map(map_gdf):\n",
    "    \n",
    "    center = (22.770006, 104.984655)\n",
    "    #m = Map(center=center, zoom=10, basemap=basemaps.CartoDB.Positron)\n",
    "    m = Map(center=center, zoom=10, basemap=basemaps.OpenStreetMap.BlackAndWhite)\n",
    "    m.layout.height=\"800px\"\n",
    "\n",
    "    attr = ipywidgets.HTML(\"Hover on a link\", layout=ipywidgets.Layout(width='30%'))\n",
    "    \n",
    "    map_gdf.to_file('temp.json', driver='GeoJSON', encoding='utf-8')\n",
    "    geojson_data = json.load(open('temp.json','r'))\n",
    "    \n",
    "    geo_json = GeoJSON(\n",
    "        data=geojson_data,\n",
    "        style={ 'fillOpacity': 0.1},\n",
    "        hover_style={ 'color': 'white', 'dashArray': '0', 'fillOpacity': 0.5 },\n",
    "        style_callback=random_color\n",
    "    )\n",
    "    m.add_layer(geo_json)\n",
    "\n",
    "    legend = LegendControl({\"CBA Ready\":lu[1], \"Missing Attributes\":lu[0]}, name=\"Legend\", position=\"bottomright\")\n",
    "    legend.title = \"Is the asset ready for CBA?\"\n",
    "    legend.legend = {\"CBA Ready\":lu[1], \"Missing Data\":lu[0]}\n",
    "    m.add_control(legend)\n",
    "\n",
    "    return m\n",
    "m = generate_map(merged_data) # .head(500))\n",
    "m"
   ]
  },
  {
   "cell_type": "code",
   "execution_count": 203,
   "id": "12c40822",
   "metadata": {},
   "outputs": [],
   "source": [
    "m.basemap = basemaps.OpenStreetMap.BlackAndWhite"
   ]
  },
  {
   "cell_type": "code",
   "execution_count": 190,
   "id": "5997e7b5",
   "metadata": {},
   "outputs": [
    {
     "data": {
      "text/html": [
       "<style  type=\"text/css\" >\n",
       "#T_a6a54_row0_col1{\n",
       "            width:  10em;\n",
       "             height:  80%;\n",
       "            background:  linear-gradient(90deg,#005AB533 79.0%, transparent 79.0%);\n",
       "        }#T_a6a54_row1_col1{\n",
       "            width:  10em;\n",
       "             height:  80%;\n",
       "            background:  linear-gradient(90deg,#005AB533 63.5%, transparent 63.5%);\n",
       "        }#T_a6a54_row2_col1{\n",
       "            width:  10em;\n",
       "             height:  80%;\n",
       "            background:  linear-gradient(90deg,#005AB533 62.5%, transparent 62.5%);\n",
       "        }#T_a6a54_row3_col1{\n",
       "            width:  10em;\n",
       "             height:  80%;\n",
       "            background:  linear-gradient(90deg,#005AB533 65.5%, transparent 65.5%);\n",
       "        }#T_a6a54_row4_col1{\n",
       "            width:  10em;\n",
       "             height:  80%;\n",
       "            background:  linear-gradient(90deg,#005AB533 65.3%, transparent 65.3%);\n",
       "        }#T_a6a54_row5_col1{\n",
       "            width:  10em;\n",
       "             height:  80%;\n",
       "            background:  linear-gradient(90deg,#005AB533 63.6%, transparent 63.6%);\n",
       "        }#T_a6a54_row6_col1,#T_a6a54_row7_col1{\n",
       "            width:  10em;\n",
       "             height:  80%;\n",
       "            background:  linear-gradient(90deg,#005AB533 52.5%, transparent 52.5%);\n",
       "        }#T_a6a54_row8_col1{\n",
       "            width:  10em;\n",
       "             height:  80%;\n",
       "            background:  linear-gradient(90deg,#005AB533 100.0%, transparent 100.0%);\n",
       "        }#T_a6a54_row9_col1{\n",
       "            width:  10em;\n",
       "             height:  80%;\n",
       "        }</style><table id=\"T_a6a54_\" ><thead>    <tr>        <th class=\"blank level0\" ></th>        <th class=\"col_heading level0 col0\" >has attribute</th>        <th class=\"col_heading level0 col1\" >proportion_of_network</th>    </tr></thead><tbody>\n",
       "                <tr>\n",
       "                        <th id=\"T_a6a54_level0_row0\" class=\"row_heading level0 row0\" >0</th>\n",
       "                        <td id=\"T_a6a54_row0_col0\" class=\"data row0 col0\" >VPROMM</td>\n",
       "                        <td id=\"T_a6a54_row0_col1\" class=\"data row0 col1\" >79.000000</td>\n",
       "            </tr>\n",
       "            <tr>\n",
       "                        <th id=\"T_a6a54_level0_row1\" class=\"row_heading level0 row1\" >1</th>\n",
       "                        <td id=\"T_a6a54_row1_col0\" class=\"data row1 col0\" >link_class</td>\n",
       "                        <td id=\"T_a6a54_row1_col1\" class=\"data row1 col1\" >63.500000</td>\n",
       "            </tr>\n",
       "            <tr>\n",
       "                        <th id=\"T_a6a54_level0_row2\" class=\"row_heading level0 row2\" >2</th>\n",
       "                        <td id=\"T_a6a54_row2_col0\" class=\"data row2 col0\" >terrain_type</td>\n",
       "                        <td id=\"T_a6a54_row2_col1\" class=\"data row2 col1\" >62.500000</td>\n",
       "            </tr>\n",
       "            <tr>\n",
       "                        <th id=\"T_a6a54_level0_row3\" class=\"row_heading level0 row3\" >3</th>\n",
       "                        <td id=\"T_a6a54_row3_col0\" class=\"data row3 col0\" >lanes_or_width</td>\n",
       "                        <td id=\"T_a6a54_row3_col1\" class=\"data row3 col1\" >65.500000</td>\n",
       "            </tr>\n",
       "            <tr>\n",
       "                        <th id=\"T_a6a54_level0_row4\" class=\"row_heading level0 row4\" >4</th>\n",
       "                        <td id=\"T_a6a54_row4_col0\" class=\"data row4 col0\" >pavement_condition</td>\n",
       "                        <td id=\"T_a6a54_row4_col1\" class=\"data row4 col1\" >65.300000</td>\n",
       "            </tr>\n",
       "            <tr>\n",
       "                        <th id=\"T_a6a54_level0_row5\" class=\"row_heading level0 row5\" >5</th>\n",
       "                        <td id=\"T_a6a54_row5_col0\" class=\"data row5 col0\" >pavement_type</td>\n",
       "                        <td id=\"T_a6a54_row5_col1\" class=\"data row5 col1\" >63.600000</td>\n",
       "            </tr>\n",
       "            <tr>\n",
       "                        <th id=\"T_a6a54_level0_row6\" class=\"row_heading level0 row6\" >6</th>\n",
       "                        <td id=\"T_a6a54_row6_col0\" class=\"data row6 col0\" >aadt_or_traffic_intensity</td>\n",
       "                        <td id=\"T_a6a54_row6_col1\" class=\"data row6 col1\" >52.500000</td>\n",
       "            </tr>\n",
       "            <tr>\n",
       "                        <th id=\"T_a6a54_level0_row7\" class=\"row_heading level0 row7\" >7</th>\n",
       "                        <td id=\"T_a6a54_row7_col0\" class=\"data row7 col0\" >all attributes</td>\n",
       "                        <td id=\"T_a6a54_row7_col1\" class=\"data row7 col1\" >52.500000</td>\n",
       "            </tr>\n",
       "            <tr>\n",
       "                        <th id=\"T_a6a54_level0_row8\" class=\"row_heading level0 row8\" >8</th>\n",
       "                        <td id=\"T_a6a54_row8_col0\" class=\"data row8 col0\" >ORMA ID</td>\n",
       "                        <td id=\"T_a6a54_row8_col1\" class=\"data row8 col1\" >100.000000</td>\n",
       "            </tr>\n",
       "            <tr>\n",
       "                        <th id=\"T_a6a54_level0_row9\" class=\"row_heading level0 row9\" >9</th>\n",
       "                        <td id=\"T_a6a54_row9_col0\" class=\"data row9 col0\" >foo</td>\n",
       "                        <td id=\"T_a6a54_row9_col1\" class=\"data row9 col1\" >0.000000</td>\n",
       "            </tr>\n",
       "    </tbody></table>"
      ],
      "text/plain": [
       "<pandas.io.formats.style.Styler at 0x139569cd0>"
      ]
     },
     "execution_count": 190,
     "metadata": {},
     "output_type": "execute_result"
    }
   ],
   "source": [
    "from operator import and_\n",
    "import functools\n",
    "\n",
    "data = {}\n",
    "ha_giang = merged_data\n",
    "# ha_giang = labeled_data\n",
    "total_length = merged_data['length_from_db'].sum()\n",
    "indices = {}\n",
    "indices['VPROMM']                    = ~merged_data.vpromms.isna()\n",
    "indices['link_class']                = ~merged_data.link_class.isna()\n",
    "indices['terrain_type']              = ~merged_data.section_terrain.isna()\n",
    "indices['lanes_or_width']            = ~merged_data.section_lanes.isna()    | ~merged_data.width.isna()\n",
    "indices['pavement_condition']        = ~merged_data.condition.isna()        | ~merged_data.section_surface.isna()\n",
    "indices['pavement_type']             = ~merged_data.section_pavement.isna() | ~merged_data.section_surface.isna()\n",
    "indices['aadt_or_traffic_intensity'] = (merged_data.aadt.astype(float)>0)   | merged_data.section_traffic.astype(float)>0\n",
    "\n",
    "data = {k:merged_data[idx]['length_from_db'].sum() for k,idx in indices.items()}\n",
    "all_attributes = functools.reduce(and_, indices.values())\n",
    "data['all attributes'] = merged_data[all_attributes]['length_from_db'].sum()\n",
    "data['ORMA ID'] = total_length\n",
    "data['foo'] = 0.0\n",
    "\n",
    "merged_data['cba_ready'] = all_attributes.astype(int)\n",
    "\n",
    "network_stats = pd.DataFrame(list(data.items()), columns=(\"has attribute\", \"proportion_of_network\"))\n",
    "network_stats['proportion_of_network'] = np.round(100.0 * network_stats['proportion_of_network'] / total_length, 1)\n",
    "\n",
    "network_stats.style.bar(subset=['proportion_of_network'], color='#005AB533')\n",
    "#lu[1]"
   ]
  },
  {
   "cell_type": "code",
   "execution_count": 177,
   "id": "cbd7dea2",
   "metadata": {},
   "outputs": [],
   "source": [
    "# legend = LegendControl({\"CBA Ready\":lu[1], \"Missing Attributes\":lu[0]}, name=\"Legend\", position=\"topright\")\n",
    "#m.add_control(legend)\n"
   ]
  },
  {
   "cell_type": "code",
   "execution_count": 69,
   "id": "cd91987d",
   "metadata": {},
   "outputs": [
    {
     "data": {
      "text/html": [
       "<div>\n",
       "<style scoped>\n",
       "    .dataframe tbody tr th:only-of-type {\n",
       "        vertical-align: middle;\n",
       "    }\n",
       "\n",
       "    .dataframe tbody tr th {\n",
       "        vertical-align: top;\n",
       "    }\n",
       "\n",
       "    .dataframe thead th {\n",
       "        text-align: right;\n",
       "    }\n",
       "</style>\n",
       "<table border=\"1\" class=\"dataframe\">\n",
       "  <thead>\n",
       "    <tr style=\"text-align: right;\">\n",
       "      <th></th>\n",
       "      <th>RoadSectionID</th>\n",
       "      <th>RoadNumber</th>\n",
       "      <th>RoadName</th>\n",
       "      <th>RoadStart</th>\n",
       "      <th>RoadEnd</th>\n",
       "      <th>SectionOrder</th>\n",
       "      <th>SectionName</th>\n",
       "      <th>Province</th>\n",
       "      <th>District</th>\n",
       "      <th>Commune</th>\n",
       "      <th>...</th>\n",
       "      <th>AADT_4Wheel</th>\n",
       "      <th>AADT_SmallTruck</th>\n",
       "      <th>AADT_MediumTruck</th>\n",
       "      <th>AADT_LargeTruck</th>\n",
       "      <th>AADT_ArticulatedTruck</th>\n",
       "      <th>AADT_SmallBus</th>\n",
       "      <th>AADT_MediumBus</th>\n",
       "      <th>AADT_LargeBus</th>\n",
       "      <th>AADT_Total</th>\n",
       "      <th>TrafficGrowth</th>\n",
       "    </tr>\n",
       "  </thead>\n",
       "  <tbody>\n",
       "    <tr>\n",
       "      <th>58</th>\n",
       "      <td>635950_304</td>\n",
       "      <td>ÄH.01</td>\n",
       "      <td>Quang Minh-VÃ´ Äiáº¿m-Báº±ng HÃ nh</td>\n",
       "      <td>QL279 (Km0+660)</td>\n",
       "      <td>QL 279 (Km20+800)</td>\n",
       "      <td>NaN</td>\n",
       "      <td>NaN</td>\n",
       "      <td>HÃ  Giang</td>\n",
       "      <td>Huyá»‡n Báº¯c Quang</td>\n",
       "      <td>NaN</td>\n",
       "      <td>...</td>\n",
       "      <td>NaN</td>\n",
       "      <td>NaN</td>\n",
       "      <td>NaN</td>\n",
       "      <td>NaN</td>\n",
       "      <td>NaN</td>\n",
       "      <td>NaN</td>\n",
       "      <td>NaN</td>\n",
       "      <td>NaN</td>\n",
       "      <td>NaN</td>\n",
       "      <td>3.0</td>\n",
       "    </tr>\n",
       "  </tbody>\n",
       "</table>\n",
       "<p>1 rows × 53 columns</p>\n",
       "</div>"
      ],
      "text/plain": [
       "   RoadSectionID RoadNumber                             RoadName  \\\n",
       "58    635950_304     ÄH.01  Quang Minh-VÃ´ Äiáº¿m-Báº±ng HÃ nh   \n",
       "\n",
       "          RoadStart            RoadEnd  SectionOrder  SectionName   Province  \\\n",
       "58  QL279 (Km0+660)  QL 279 (Km20+800)           NaN          NaN  HÃ  Giang   \n",
       "\n",
       "               District  Commune  ...  AADT_4Wheel  AADT_SmallTruck  \\\n",
       "58  Huyá»‡n Báº¯c Quang      NaN  ...          NaN              NaN   \n",
       "\n",
       "    AADT_MediumTruck  AADT_LargeTruck  AADT_ArticulatedTruck  AADT_SmallBus  \\\n",
       "58               NaN              NaN                    NaN            NaN   \n",
       "\n",
       "    AADT_MediumBus  AADT_LargeBus  AADT_Total TrafficGrowth  \n",
       "58             NaN            NaN         NaN           3.0  \n",
       "\n",
       "[1 rows x 53 columns]"
      ]
     },
     "execution_count": 69,
     "metadata": {},
     "output_type": "execute_result"
    }
   ],
   "source": [
    "#example_data = pd.read_excel('../data/2019 RoADS CBA Version 1.00 2019-09-25_EXAMPLE.xlsm', sheet_name=\"RoADS Sections Data and Results\", header=29, usecols=list(range(1,54)))\n",
    "example_data.query('RoadSectionID == \"635950_304\"')\n",
    "# pd.read_excel('../data/2019 RoADS CBA Version 1.00 2019-05-25_EXAMPLE.xlsm')"
   ]
  },
  {
   "cell_type": "code",
   "execution_count": 117,
   "id": "852b7e15",
   "metadata": {},
   "outputs": [],
   "source": [
    "from section import Section\n",
    "from cba_result import CbaResult\n",
    "\n",
    "def default_int(a_string: str):\n",
    "    return 0 if a_string == \"\" else int(a_string)\n",
    "\n",
    "def default_float(a_string: str, a_float=0.0):\n",
    "    return 0.0 if a_string == \"\" else float(a_string)\n",
    "\n",
    "def section_from_row(row):\n",
    "    row = row.fillna('')\n",
    "    data = {'orma_way_id': row['way_id_district'], \n",
    "            'vpromms_id' : row['VPROMMS_ID'], \n",
    "            'section_id' : row['road number'], \n",
    "            'road_number' : row['road number'], \n",
    "            'road_name' : row['name'], \n",
    "            'road_start' : row['road start location'], \n",
    "            'road_end' : row['road end location'],\n",
    "            'province' : row['province'],\n",
    "            'district' : row['district'],\n",
    "            'commune' : row['section_commune_gso'], \n",
    "            'management' : row['management'], \n",
    "            'start_km' : row['x_0'], \n",
    "            'end_km' : row['x_1'], \n",
    "            'length' : row['length'], \n",
    "            'lanes' : row['section_lanes'], \n",
    "            'width' : row['width'], \n",
    "            'road_class' : row['link_class'], \n",
    "            'terrain' : row['section_terrain'], \n",
    "            'temperature' : row['section_temperature'], \n",
    "            'moisture' : row['section_moisture'], \n",
    "            'surface_type' : row['surface'], \n",
    "            'condition_class' : row['condition'], \n",
    "            'roughness' : default_float(row['iri']), \n",
    "            'traffic_level' : row['section_traffic'], \n",
    "            'traffic_growth' : row['section_traffic_growth'],  \n",
    "            'pavement_age' : row['section_pavement_age'], \n",
    "            'aadt_motorcyle' : default_int(row['section_motorcycle']), \n",
    "            'aadt_carsmall' : default_int(row['section_small_car']), \n",
    "            'aadt_carmedium' : default_int(row['section_medium_car']), \n",
    "            'aadt_delivery' : default_int(row['section_delivery_vehicle']), \n",
    "            'aadt_4wheel' : default_int(row['section_four_wheel']), \n",
    "            'aadt_smalltruck' : default_int(row['section_light_truck']), \n",
    "            'aadt_mediumtruck' : default_int(row['section_medium_truck']), \n",
    "            'aadt_largetruck' : default_int(row['section_heavy_truck']), \n",
    "            'aadt_articulatedtruck' : default_int(row['section_articulated_truck']), \n",
    "            'aadt_smallbus' : default_int(row['section_small_bus']), \n",
    "            'aadt_mediumbus' : default_int(row['section_medium_bus']), \n",
    "            'aadt_largebus' : default_int(row['section_large_bus']), \n",
    "                                          'aadt_total' : default_int(row['aadt'])\n",
    "            # 'structural_no' : row[''], 'road_type' : row[''], \n",
    "           }  \n",
    "    return Section(data)\n",
    "\n",
    "tmp = data.query('way_id_district == \"635950_304\"').apply(section_from_row, axis=1)\n",
    "s = list(tmp)[0]\n",
    "\n",
    "import json\n",
    "with open(\"../tests/example_data/section_635950_304.json\", 'w') as f:\n",
    "    f.write(json.dumps(s.to_primitive(), indent=2))"
   ]
  }
 ],
 "metadata": {
  "kernelspec": {
   "display_name": "RoadsCbaPy",
   "language": "python",
   "name": "roadscbapy"
  },
  "language_info": {
   "codemirror_mode": {
    "name": "ipython",
    "version": 3
   },
   "file_extension": ".py",
   "mimetype": "text/x-python",
   "name": "python",
   "nbconvert_exporter": "python",
   "pygments_lexer": "ipython3",
   "version": "3.8.10"
  }
 },
 "nbformat": 4,
 "nbformat_minor": 5
}
