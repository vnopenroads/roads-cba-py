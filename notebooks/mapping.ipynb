{
 "cells": [
  {
   "cell_type": "code",
   "execution_count": 138,
   "metadata": {},
   "outputs": [
    {
     "data": {
      "text/plain": [
       "<Figure size 432x288 with 0 Axes>"
      ]
     },
     "metadata": {},
     "output_type": "display_data"
    }
   ],
   "source": [
    "%run setup.py\n",
    "%reload_ext autoreload \n",
    "%autoreload 2\n",
    "\n",
    "from ipyleaflet import *\n",
    "from ipywidgets import Text, HTML, Tab\n",
    "import ipywidgets\n",
    "\n",
    "import cba as cba\n",
    "from cba_result import CbaResult\n",
    "from section import Section"
   ]
  },
  {
   "cell_type": "code",
   "execution_count": 189,
   "metadata": {},
   "outputs": [],
   "source": [
    "def generate_outputs(df : pd.DataFrame, drop_detail_cols : Bool, keep_cols=[]):\n",
    "    cba_model = cba.CostBenefitAnalysisModel()\n",
    "    \n",
    "    inputs = df.apply(lambda row: Section.from_row(row), axis=1)\n",
    "    output = [cba_model.compute_cba_for_section(i) for i in inputs]\n",
    "    output = pd.DataFrame([e.to_dict() for e in output])\n",
    "    inputs = pd.DataFrame([i.to_dict() for i in inputs])\n",
    "    \n",
    "    if drop_detail_cols:\n",
    "        cols_to_drop = [e for e in list(output.columns) if re.match('.*_[0-9].*', e) and e not in keep_cols]\n",
    "        # print(f\"dropping: {cols_to_drop}\")\n",
    "        output = output.drop(columns=cols_to_drop)\n",
    "    \n",
    "    map_data = df.merge(output, left_on='way_id_district', right_on='orma_way_id')\n",
    "    map_data = map_data.merge(inputs[['orma_way_id', 'roughness', 'road_length']], left_on='way_id_district', right_on='orma_way_id')\n",
    "    \n",
    "    map_data.sort_values(by=['work_year', 'npv_cost'], ascending=[True, False], inplace=True)\n",
    "    map_data['cum_investment'] = np.cumsum(map_data['work_cost'])\n",
    "    map_data['cum_npv'] = np.cumsum(map_data.npv)\n",
    "\n",
    "    return map_data"
   ]
  },
  {
   "cell_type": "code",
   "execution_count": 209,
   "metadata": {},
   "outputs": [],
   "source": [
    "gdf = gpd.read_file(abspath(join('..', 'data', 'sections_generated.gpkg')))\n",
    "\n",
    "keep_cols = [f'iri_{x}_{y}' for x in ['projection', 'base'] for y in [1,3,5,8,10]] # ['iri_projection_1', 'iri_projection_5', 'iri_projection_8', 'iri_projection_10', 'iri_base_1', 'iri_base_5', 'iri_base_8', 'iri_base_10']\n",
    "\n",
    "map_gdf = generate_outputs(gdf, True, keep_cols=keep_cols)\n",
    "# keep_cols"
   ]
  },
  {
   "cell_type": "code",
   "execution_count": 294,
   "metadata": {
    "scrolled": false
   },
   "outputs": [
    {
     "data": {
      "application/vnd.jupyter.widget-view+json": {
       "model_id": "a056ccba04a34af68c0815fdcceb0f41",
       "version_major": 2,
       "version_minor": 0
      },
      "text/plain": [
       "HTML(value='<style>.budget_label { font-size: 8pt; color: #BBB; }</style>')"
      ]
     },
     "metadata": {},
     "output_type": "display_data"
    },
    {
     "data": {
      "application/vnd.jupyter.widget-view+json": {
       "model_id": "0a819dc1e94040439992b957cfd24244",
       "version_major": 2,
       "version_minor": 0
      },
      "text/plain": [
       "HTML(value='<style>.budget_total { font-size: 20pt; width: 100%; text-align: center}</style>')"
      ]
     },
     "metadata": {},
     "output_type": "display_data"
    },
    {
     "data": {
      "application/vnd.jupyter.widget-view+json": {
       "model_id": "6c8a4a9dea91492589700a7509341494",
       "version_major": 2,
       "version_minor": 0
      },
      "text/plain": [
       "VBox(children=(Map(center=[22.770006, 104.984655], controls=(WidgetControl(options=['position', 'transparent_b…"
      ]
     },
     "metadata": {},
     "output_type": "display_data"
    }
   ],
   "source": [
    "box = ipywidgets.VBox()\n",
    "box.children = [generate_map(map_gdf), add_tabs()]\n",
    "box"
   ]
  },
  {
   "cell_type": "code",
   "execution_count": 291,
   "metadata": {},
   "outputs": [
    {
     "data": {
      "text/plain": [
       "'111.21'"
      ]
     },
     "execution_count": 291,
     "metadata": {},
     "output_type": "execute_result"
    }
   ],
   "source": [
    "x=111.213213\n",
    "f\"{x:.2f}\""
   ]
  },
  {
   "cell_type": "code",
   "execution_count": 308,
   "metadata": {},
   "outputs": [
    {
     "data": {
      "application/vnd.jupyter.widget-view+json": {
       "model_id": "c015f36d08e24a9bae6bc7146abdede2",
       "version_major": 2,
       "version_minor": 0
      },
      "text/plain": [
       "HTML(value='<style>.budget_label { font-size: 8pt; color: #BBB; }</style>')"
      ]
     },
     "metadata": {},
     "output_type": "display_data"
    },
    {
     "data": {
      "application/vnd.jupyter.widget-view+json": {
       "model_id": "818813339a3949d9bac3822b8938f10c",
       "version_major": 2,
       "version_minor": 0
      },
      "text/plain": [
       "HTML(value='<style>.budget_total { font-size: 20pt; width: 100%; text-align: center}</style>')"
      ]
     },
     "metadata": {},
     "output_type": "display_data"
    },
    {
     "data": {
      "application/vnd.jupyter.widget-view+json": {
       "model_id": "58169fe866ff4293ab6883f6c5792b97",
       "version_major": 2,
       "version_minor": 0
      },
      "text/plain": [
       "HBox(children=(Map(center=[22.770006, 104.984655], controls=(WidgetControl(options=['position', 'transparent_b…"
      ]
     },
     "metadata": {},
     "output_type": "display_data"
    }
   ],
   "source": [
    "# def update_sa3_box(feature,  **kwargs):\n",
    "#     sa3_ = feature['properties']['SA3_NAME16']\n",
    "#     trips_for_sa3 = survey_by_sa3_and_mode.loc[survey_by_sa3_and_mode.SA3_NAME16 == sa3_]\n",
    "#     total_trips = trips_for_sa3.trips.sum()\n",
    "    \n",
    "#     html_sa3.value = '''\n",
    "#         <h3><b>{}</b></h3>\n",
    "#         <h4>SA4 {}</h4>\n",
    "#         <h4>trips: {:.2f}</h4>\n",
    "#     '''.format(feature['properties']['SA3_NAME16'],\n",
    "#                feature['properties']['SA4_NAME16'],\n",
    "#                total_trips)\n",
    "# html_sa3 = HTML('''Hover over a SA''')\n",
    "# html_sa3.layout.margin = '0px 10px 0px 10px'\n",
    "# control_sa3 = WidgetControl(widget=html_sa3, position='topright')\n",
    "# m.add_control(control_sa3)\n",
    "\n",
    "# sa3_data.on_hover(update_sa3_box)\n",
    "\n",
    "def generate_map(map_gdf):\n",
    "    \n",
    "    center = (22.770006, 104.984655)\n",
    "    m = Map(center=center, zoom=10, basemap=basemaps.CartoDB.Positron)\n",
    "    m.layout.height=\"800px\"\n",
    "\n",
    "    attr = ipywidgets.HTML(\"Hover on a link\", layout=ipywidgets.Layout(width='30%'))\n",
    "    add_roads(m, map_gdf, attr)\n",
    "    add_budget(m, map_gdf)\n",
    "    add_dropdown(m)\n",
    "    \n",
    "\n",
    "    return ipywidgets.HBox([m, attr])\n",
    "generate_map(map_gdf.head())"
   ]
  },
  {
   "cell_type": "code",
   "execution_count": 277,
   "metadata": {},
   "outputs": [],
   "source": [
    "%matplotlib inline\n",
    "def add_tabs():\n",
    "    \n",
    "    tab = Tab()\n",
    "    tab.children = [generate_cumulative_npv(map_gdf), \n",
    "                    generate_network_stats(map_gdf), \n",
    "                    generate_priorities(map_gdf)]\n",
    "    tab.set_title(index=0, title=\"Cumulative NPV\")\n",
    "    tab.set_title(index=1, title='Network Stats')\n",
    "    tab.set_title(index=2, title='Budget Effects')\n",
    "    \n",
    "    \n",
    "    return tab"
   ]
  },
  {
   "cell_type": "code",
   "execution_count": 276,
   "metadata": {},
   "outputs": [],
   "source": [
    "def generate_priorities(gdf):\n",
    "    canvas = ipywidgets.Output()\n",
    "    def update_priorities(change):\n",
    "        with canvas: \n",
    "            canvas.clear_output()\n",
    "            fig, ax = plt.subplots(constrained_layout=True, figsize=(15,5))\n",
    "            fig.canvas.toolbar_position = 'bottom'\n",
    "            # ax.grid(True)\n",
    "            \n",
    "            years = [1,3,5,8]\n",
    "            total_budget = sum(gdf.work_cost)\n",
    "            total_length = sum(gdf.road_length)\n",
    "            \n",
    "            base_iri = [sum(gdf[f'iri_base_{x}'] * map_gdf['road_length'])/total_length for x in years]\n",
    "            def get_threshold_iri(perc):\n",
    "                threshold = perc * total_budget\n",
    "                do_df, dont_df = gdf.query('cum_investment < @threshold'), gdf.query('cum_investment >= @threshold')\n",
    "                                 \n",
    "                do_numbers = [sum(do_df[f'iri_projection_{x}'] * do_df['road_length']) for x in [1,3,5,8]]\n",
    "                dont_numbers = [sum(dont_df[f'iri_base_{x}'] * dont_df['road_length']) for x in [1,3,5,8]]\n",
    "                return [(x+y) / total_length for x,y in zip(do_numbers,dont_numbers)]\n",
    "            thresholds = [0.0, 0.2, 0.4, 0.6, 0.8, 1.0]\n",
    "            data = {f'{p*100}%' : get_threshold_iri(p) for p in thresholds}\n",
    "            data['year'] = years = [y + 2021 for y in years]\n",
    "            df = pd.DataFrame(data=data).set_index('year')\n",
    "            # display(df)\n",
    "            sns.lineplot(data=df, ax=ax, palette=sns.color_palette(\"light:#5A9\",6))\n",
    "            c = sns.color_palette(\"husl\", 9)[7]\n",
    "            \n",
    "            sns.lineplot(x=years, y=get_threshold_iri(change['new']/100.0), ax=ax, color=c, \n",
    "                         label=f\"Custom: {change['new']}%\")\n",
    "            \n",
    "            ax.set_title(\"Roughness Progression By Percentage Investment\", fontsize=18)\n",
    "            \n",
    "            plt.show()\n",
    "            return None\n",
    "    # update_cumulative_npv(gdf)\n",
    "    slider = ipywidgets.FloatSlider(value=90.0, min=0, max=100.0, description='Budget %:', continuous_update=False)\n",
    "    slider.observe(update_priorities, names='value')\n",
    "    update_priorities({'new': 90.0})\n",
    "    \n",
    "    return ipywidgets.VBox([slider, canvas])\n"
   ]
  },
  {
   "cell_type": "code",
   "execution_count": 160,
   "metadata": {},
   "outputs": [],
   "source": [
    "def generate_cumulative_npv(gdf):\n",
    "    canvas = ipywidgets.Output()\n",
    "    def update_cumulative_npv(gdf):\n",
    "        \n",
    "        with canvas: \n",
    "            canvas.clear_output()\n",
    "            fig, ax = plt.subplots(constrained_layout=True, figsize=(15,5))\n",
    "            fig.canvas.toolbar_position = 'bottom'\n",
    "            ax.grid(True)\n",
    "\n",
    "            sns.scatterplot(data=gdf, ax=ax, x='cum_investment', y='cum_npv', hue='work_year', palette='husl')\n",
    "            ax.set_xlabel(\"Investment $M\", fontsize=22)\n",
    "            ax.set_ylabel(\"NPV $M\", fontsize=2)\n",
    "            ax.set_title(f'NPV vs Investment', fontsize=2)\n",
    "            plt.show()\n",
    "            return None\n",
    "    update_cumulative_npv(gdf)\n",
    "    \n",
    "    return canvas"
   ]
  },
  {
   "cell_type": "code",
   "execution_count": 151,
   "metadata": {},
   "outputs": [],
   "source": [
    "def generate_network_stats(gdf):\n",
    "    canvas = ipywidgets.Output()\n",
    "    def update_network_stats(gdf):\n",
    "        \n",
    "        with canvas: \n",
    "            canvas.clear_output()\n",
    "            df = gdf.loc[:,['roughness', 'road_length']]\n",
    "            def categorise_roughness(r):\n",
    "                if r < 2.5: return \"<2.5\"\n",
    "                elif r < 4: return \"2.5-4.0\"\n",
    "                elif r < 6: return \"4.0-6.0\"\n",
    "                elif r < 10: return \"6.0-10.0\"\n",
    "                elif r < 14: return \"10.0-14.0\"\n",
    "                else : return \"14.0+\"\n",
    "            df[\"roughness_label\"] = df['roughness'].apply(categorise_roughness)\n",
    "\n",
    "            fig = plt.figure(constrained_layout=True, figsize=(15,5))\n",
    "            ax = plt.subplot(1,2,1)\n",
    "            ax.grid(True)\n",
    "            \n",
    "            # sns.barplot(data=df, ax=ax, x='roughness_label', y='road_length')\n",
    "            sns.histplot(data=df, x='roughness', ax=ax, stat='density', weights='road_length', \n",
    "                         binrange=(0,16), bins=16)\n",
    "            ax.set_xlabel(\"Roughness\", fontsize=16)\n",
    "            ax.set_ylabel(\"% of Network\", fontsize=16)\n",
    "            \n",
    "            #Seaborn Horizontal barplot\n",
    "            df = df.groupby('roughness_label').sum()[['road_length']].reset_index()\n",
    "            ax = plt.subplot(1,2,2)\n",
    "            plt.pie(x=df['road_length'], autopct=\"%.1f%%\", \n",
    "                    labels=df['roughness_label'], pctdistance=0.5, colors=sns.color_palette(\"Set2\", 9))\n",
    "            ax.set_title(\"Roughness Distribution\", fontsize=16)\n",
    "            \n",
    "            plt.show()\n",
    "            return None\n",
    "    update_network_stats(gdf)\n",
    "    \n",
    "    return canvas\n",
    "\n"
   ]
  },
  {
   "cell_type": "code",
   "execution_count": 157,
   "metadata": {},
   "outputs": [],
   "source": [
    "def add_dropdown(m):\n",
    "    global z_mode\n",
    "    z_mode = \"Work Year\"\n",
    "\n",
    "    def on_click_dropdown_options(change):\n",
    "        global z_mode, z_time\n",
    "        z_mode = change['new']\n",
    "        # update_zones_box_comp()\n",
    "\n",
    "    dropdown_options = ipywidgets.Dropdown(\n",
    "        options=['Work Year', 'Relative CBR', 'Province'],\n",
    "        value=z_mode,\n",
    "        description='Color By'\n",
    "    )\n",
    "\n",
    "    dropdown_options.observe(on_click_dropdown_options, 'value')\n",
    "    widget_option = WidgetControl(widget=dropdown_options, position='topright')\n",
    "\n",
    "    m.add_control(widget_option)"
   ]
  },
  {
   "cell_type": "code",
   "execution_count": 324,
   "metadata": {},
   "outputs": [
    {
     "data": {
      "application/vnd.jupyter.widget-view+json": {
       "model_id": "35a5ce34e0ae4542b80c194a6b7353c9",
       "version_major": 2,
       "version_minor": 0
      },
      "text/plain": [
       "HTML(value='<style>.budget_label { font-size: 8pt; color: #BBB; }</style>')"
      ]
     },
     "metadata": {},
     "output_type": "display_data"
    },
    {
     "data": {
      "application/vnd.jupyter.widget-view+json": {
       "model_id": "ae81a9345b3e408cb8886f0323071196",
       "version_major": 2,
       "version_minor": 0
      },
      "text/plain": [
       "HTML(value='<style>.budget_total { font-size: 20pt; width: 100%; text-align: center}</style>')"
      ]
     },
     "metadata": {},
     "output_type": "display_data"
    },
    {
     "data": {
      "application/vnd.jupyter.widget-view+json": {
       "model_id": "98d863c8e6104cbc9330f02d2a165c67",
       "version_major": 2,
       "version_minor": 0
      },
      "text/plain": [
       "HBox(children=(Map(center=[22.770006, 104.984655], controls=(WidgetControl(options=['position', 'transparent_b…"
      ]
     },
     "metadata": {},
     "output_type": "display_data"
    }
   ],
   "source": [
    "def create_li(desc, value):\n",
    "    return f'''\n",
    "        <li>\n",
    "          <div class='attr_label'>{desc}:</div>\n",
    "          <div class='attr_value'>{value}</div>\n",
    "        </li>\n",
    "    '''\n",
    "\n",
    "#MM_ID': '032HG00001', 'aadt': None, 'condition': '3', 'cum_investment': 595.9695185875752, 'cum_npv': 187.8679445588673, 'district': 'Huyện Hoàng Su Phì', 'eirr': 0.20888198812785586, 'esa_loading': 0.0030787749999999997, 'iri': None, 'iri_base_1': 6, 'iri_base_10': 2, 'iri_base_3': 6.303749999999999, 'iri_base_5': 6.622877343749998, 'iri_base_8': 7.132114522009274, 'iri_projection_1': 6, 'iri_projection_10': 3.863345117187498, 'iri_projection_3': 6.303749999999999, 'iri_projection_5': 6.622877343749998, 'iri_projection_8': 3.677187499999999, 'length': 55.7246586607537, 'link_class': '5', 'management': '2', 'name': 'Bắc Quang-Xín Mần', 'npv': 10.045667331462528, 'npv_cost': 0.1704711924937048, 'npv_km': 0.1802732860620928, 'orma_way_id_x': '614835_302', 'orma_way_id_y': '614835_302', 'province': 'Hà Giang', 'road end location': 'thị trấn Cốc Pài, huyện Xín Mần', 'road number': 'ĐT.177', 'road start location': ' Km245, QL.2 (thị trấn Tân Quang, huyện Bắc Quang)', 'road_length': 55.7246586607537, 'roughness': 6, 'section_articulated_truck': None, 'section_commune_gso': None, 'section_delivery_vehicle': None, 'section_four_wheel': None, '\n",
    "    \n",
    "things_to_show = [\n",
    "    ('ORMA ID', 'orma_way_id_x'),\n",
    "    ('Name', 'name'),\n",
    "    ('District', 'district'),\n",
    "    ('Surface', 'surface'),\n",
    "    \n",
    "    ('Work Name', 'work_name'),\n",
    "    ('Work Class', 'work_class'),\n",
    "    ('Work Year', 'work_year'),\n",
    "    ('Work Cost', 'work_cost'),\n",
    "    \n",
    "]\n",
    "def add_roads(m, df, attr):\n",
    "    map_geo =  GeoData(geo_dataframe = map_gdf,\n",
    "                   style={'color': 'purple', 'opacity':3, 'weight':1.9, 'dashArray':'2', 'fillOpacity':0.6},\n",
    "                   hover_style={'fillColor': 'red' , 'fillOpacity': 0.2},\n",
    "                   name = 'Roads')\n",
    "\n",
    "    layer = m.add_layer(map_geo)\n",
    "    \n",
    "    def update_attributes(feature,  **kwargs):\n",
    "        \n",
    "        #print(feature['properties'].keys())\n",
    "        inner_str=\"\\n\".join([create_li(desc, feature['properties'][key]) for desc,key in things_to_show])\n",
    "        attr.value=f\"<ul>{inner_str}</ul>\"#  + str(feature['properties'].keys())\n",
    "    map_geo.on_hover(update_attributes)\n",
    "    \n",
    "generate_map(map_gdf.head())\n",
    "#map_gdf.head()"
   ]
  },
  {
   "cell_type": "code",
   "execution_count": 292,
   "metadata": {},
   "outputs": [],
   "source": [
    "def add_budget(m, gdf):\n",
    "    total_budget = sum(gdf['work_cost'])\n",
    "    budget_callout = HTML(f'''\n",
    "        <div class='budget_label'>Total Budget ($USD)</div>\n",
    "        <div class='budget_total'>${total_budget:.2f}M </div>\n",
    "    ''')\n",
    "    budget_callout.layout.margin = '5px 10px 5px 10px'\n",
    "    budget_control = WidgetControl(widget=budget_callout, position='bottomleft')\n",
    "\n",
    "    m.clear_controls()\n",
    "    m.add_control(budget_control)\n",
    "    display(HTML(\"<style>.budget_label { font-size: 8pt; color: #BBB; }</style>\"))\n",
    "    display(HTML(\"<style>.budget_total { font-size: 20pt; width: 100%; text-align: center}</style>\"))\n"
   ]
  },
  {
   "cell_type": "code",
   "execution_count": 7,
   "metadata": {},
   "outputs": [],
   "source": [
    "survey_by_sa3_and_mode = survey_data.groupby(['SA3_NAME16', 'estimation_mode']).weight.sum().to_frame().reset_index().rename(columns={'weight':'trips'})"
   ]
  },
  {
   "cell_type": "code",
   "execution_count": 8,
   "metadata": {},
   "outputs": [],
   "source": [
    "# html_sa3 = HTML('''Hover over a SA''')\n",
    "# html_sa3.layout.margin = '0px 10px 0px 10px'\n",
    "# control_sa3 = WidgetControl(widget=html_sa3, position='topright')\n",
    "# m.add_control(control_sa3)\n",
    "\n",
    "# def update_sa3_box(feature,  **kwargs):\n",
    "#     sa3_ = feature['properties']['SA3_NAME16']\n",
    "#     trips_for_sa3 = survey_by_sa3_and_mode.loc[survey_by_sa3_and_mode.SA3_NAME16 == sa3_]\n",
    "#     total_trips = trips_for_sa3.trips.sum()\n",
    "    \n",
    "#     html_sa3.value = '''\n",
    "#         <h3><b>{}</b></h3>\n",
    "#         <h4>SA4 {}</h4>\n",
    "#         <h4>trips: {:.2f}</h4>\n",
    "#     '''.format(feature['properties']['SA3_NAME16'],\n",
    "#                feature['properties']['SA4_NAME16'],\n",
    "#                total_trips)\n",
    "\n",
    "# sa3_data.on_hover(update_sa3_box)"
   ]
  },
  {
   "cell_type": "code",
   "execution_count": 9,
   "metadata": {},
   "outputs": [],
   "source": [
    "html_sa3_1 = HTML('''Click on SA3 for trips by mode''')\n",
    "html_sa3_1.layout.margin = '0px 10px 0px 10px'\n",
    "control_sa3_1 = WidgetControl(widget=html_sa3_1, position='bottomleft')\n",
    "m.add_control(control_sa3_1)\n",
    "\n",
    "def update_sa3_box_1(feature,  **kwargs):\n",
    "    sa3_ = feature['properties']['SA3_NAME16']\n",
    "    trips_for_sa3 = survey_by_sa3_and_mode.loc[survey_by_sa3_and_mode.SA3_NAME16 == sa3_]\n",
    "    total_trips = trips_for_sa3.trips.sum()\n",
    "    \n",
    "    #mode_string = trips_for_sa3.drop(columns=['SA3_NAME16']).style.hide_index().render()\n",
    "    mode_string = \"<h4>{}: {:.2f}</h4>\".format(sa3_, total_trips)\n",
    "    for mode in trips_for_sa3.estimation_mode.values:\n",
    "        trips = trips_for_sa3.loc[trips_for_sa3.estimation_mode == mode].trips.values[0]\n",
    "        mode_string += \"<h5>{}: {:.2f}%</h5>\".format(mode, 100.0 * trips / total_trips)\n",
    "    \n",
    "    html_sa3_1.value = mode_string\n",
    "\n",
    "sa3_data.on_click(update_sa3_box_1)"
   ]
  }
 ],
 "metadata": {
  "kernelspec": {
   "display_name": "Python 3",
   "language": "python",
   "name": "python3"
  },
  "language_info": {
   "codemirror_mode": {
    "name": "ipython",
    "version": 3
   },
   "file_extension": ".py",
   "mimetype": "text/x-python",
   "name": "python",
   "nbconvert_exporter": "python",
   "pygments_lexer": "ipython3",
   "version": "3.8.10"
  }
 },
 "nbformat": 4,
 "nbformat_minor": 4
}
