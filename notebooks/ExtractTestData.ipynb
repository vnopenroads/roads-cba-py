{
 "cells": [
  {
   "cell_type": "code",
   "execution_count": 1,
   "id": "183777e3-7b66-4f8f-a1ca-4763aa420aa6",
   "metadata": {},
   "outputs": [],
   "source": [
    "%run \"setup.py\"\n",
    "%load_ext autoreload \n",
    "%autoreload 2"
   ]
  },
  {
   "cell_type": "code",
   "execution_count": 2,
   "id": "6405f4a7-cb46-4e59-8f1d-e24247b1369a",
   "metadata": {},
   "outputs": [],
   "source": [
    "from section import Section"
   ]
  },
  {
   "cell_type": "code",
   "execution_count": 3,
   "id": "b42f833f-5c7e-40fb-b281-a6929f86f54f",
   "metadata": {},
   "outputs": [],
   "source": [
    "example_inputs = pd.read_excel('../data/2019 RoADS CBA Version 1.00 2019-09-25_EXAMPLE.xlsm', sheet_name=\"RoADS Sections Data and Results\", header=29, usecols=list(range(1,54)))\n",
    "example_outputs = pd.read_excel('../data/2019 RoADS CBA Version 1.00 2019-09-25_EXAMPLE.xlsm', sheet_name=\"RoADS Sections Data and Results\", header=29, usecols=list(range(54,148)))\n",
    "example_output_calcs = pd.read_excel('../data/2019 RoADS CBA Version 1.00 2019-09-25_EXAMPLE.xlsm', sheet_name=\"RoADS Sections Data and Results\", header=29, usecols=list(range(148, 170)))\n"
   ]
  },
  {
   "cell_type": "code",
   "execution_count": 4,
   "id": "9473b097-d234-47db-b2fc-4d958193c145",
   "metadata": {},
   "outputs": [
    {
     "name": "stdout",
     "output_type": "stream",
     "text": [
      "{'work_class': 'Periodic', 'work_type': 'B-P2', 'work_name': 'Functional Overlay (<=50mm)', 'work_cost': 11.34817009623409, 'work_cost_km': 0.88125, 'work_year': 6.0, 'npv': 1.9693123910529193, 'npv_km': 0.15292831618652766, 'npv_cost': 0.17353567794215907, 'eirr': 0.21235350304761047, 'aadt': [175.0, 184.45000000000002, 194.4103, 204.9084562, 215.9735128348, 227.63608252787918, 239.92843098438468, 252.88456625754148, 266.54033283544874, 280.933510808563], 'truck_percent': None, 'vehicle_utilization': None, 'esa_loading': None, 'iri_projection': [6.0, 6.15, 6.30375, 6.46134375, 6.62287734375, 3.5, 3.5875, 3.6771875, 3.7691171875, 3.8633451171875], 'iri_base': [6.0, 6.15, 6.30375, 6.46134375, 6.62287734375, 6.78844927734375, 6.958160509277343, 7.132114522009277, 7.310417385059509, 2.0], 'con_projection': [3.0, 3.0, 3.0, 3.0, 3.0, 2.0, 2.0, 2.0, 2.0, 2.0], 'con_base': [3.0, 3.0, 3.0, 3.0, 3.0, 3.0, 3.0, 3.0, 3.0, 1.0], 'financial_recurrent_cost': [0.35730475554471164, 0.35730475554471164, 0.35730475554471164, 0.35730475554471164, 0.35730475554471164, 0.32157427999024046, 0.32157427999024046, 0.32157427999024046, 0.32157427999024046, 0.32157427999024046], 'net_benefits': [0.0, 0.0, 0.0, 0.0, 0.0, -9.961212865880077, 0.39691149819228677, 0.4311494659421422, 0.46861257384545674, 22.985582032102037, -0.22674119533140757, -0.2446961844329918, -0.2643318721898815, -10.448776029565595, -0.19690154059047327, -0.21208487635467677, -0.22868884122752942, 10.202942509423842, -0.06426624109582235, -0.07026494264755812]}\n"
     ]
    }
   ],
   "source": [
    "\n",
    "from cba_result import CbaResult\n",
    "\n",
    "def default_int(a_string: str):\n",
    "    return 0 if a_string == \"\" else int(a_string)\n",
    "\n",
    "def default_float(a_string: str, a_float=0.0):\n",
    "    return 0.0 if a_string == \"\" else float(a_string)\n",
    "\n",
    "def save_example_data(in_row, out_row, calc_row):\n",
    "    def get_array(key, num):\n",
    "        return [float(out_row[f'{key}{i}']) for i in range(1,num+1)]\n",
    "    \n",
    "    in_row = in_row.fillna('')\n",
    "    \n",
    "    in_data = { 'orma_way_id': in_row['RoadSectionID'], \n",
    "                'section_id' : in_row['RoadSectionID'], \n",
    "                'road_number' : in_row['RoadNumber'], \n",
    "                'road_name' : in_row['RoadName'], \n",
    "                'road_start' : in_row['RoadStart'], \n",
    "                'road_end' : in_row['RoadEnd'],\n",
    "                'province' : in_row['Province'],\n",
    "                'district' : in_row['District'],\n",
    "                'commune' : in_row['Commune'], \n",
    "                'management' : in_row['Management'], \n",
    "                'start_km' : default_float(in_row['Start_Km']), \n",
    "                'end_km' : default_float(in_row['End_Km']), \n",
    "                'length' : in_row['Length'], \n",
    "                'lanes' : in_row['Lanes'], \n",
    "                'width' : in_row['Width'], \n",
    "                'road_class' : in_row['RoadClass'], \n",
    "                'terrain' : in_row['Terrain'], \n",
    "                'temperature' : in_row['Temperature'], \n",
    "                'moisture' : in_row['Moisture'], \n",
    "                'surface_type' : in_row['SurfaceType'], \n",
    "                'condition_class' : in_row['ConditionClass'], \n",
    "                'roughness' : default_float(in_row['Roughness']), \n",
    "                'traffic_level' : in_row['TrafficLevel'], \n",
    "                'traffic_growth' : in_row['TrafficGrowth'],  \n",
    "                'pavement_age' : in_row['PavementAge'], \n",
    "                'aadt_motorcyle' : default_int(in_row['AADT_Motorcycle']), \n",
    "                'aadt_carsmall' : default_int(in_row['AADT_CarSmall']), \n",
    "                'aadt_carmedium' : default_int(in_row['AADT_CarMediun']), \n",
    "                'aadt_delivery' : default_int(in_row['AADT_Delivery']), \n",
    "                'aadt_4wheel' : default_int(in_row['AADT_4Wheel']), \n",
    "                'aadt_smalltruck' : default_int(in_row['AADT_SmallTruck']), \n",
    "                'aadt_mediumtruck' : default_int(in_row['AADT_MediumTruck']), \n",
    "                'aadt_largetruck' : default_int(in_row['AADT_MediumTruck']), \n",
    "                'aadt_articulatedtruck' : default_int(in_row['AADT_ArticulatedTruck']), \n",
    "                'aadt_smallbus' : default_int(in_row['AADT_SmallBus']), \n",
    "                'aadt_mediumbus' : default_int(in_row['AADT_MediumBus']), \n",
    "                'aadt_largebus' : default_int(in_row['AADT_LargeBus']), \n",
    "                'aadt_total' : default_int(in_row['AADT_Total'])\n",
    "              \n",
    "            }  \n",
    "    s = Section(in_data)\n",
    "    \n",
    "    out_data = {\n",
    "        'work_class': out_row['WorkClass'], \n",
    "        'work_type': out_row['WorkType'], \n",
    "        'work_name': out_row['WorkName'], \n",
    "        'work_cost': out_row['WorkCost'], \n",
    "        'work_cost_km': out_row['WorkCost_Km'], \n",
    "        'work_year': out_row['WorkYear'], \n",
    "        'npv': out_row['NPV'], \n",
    "        'npv_km': out_row['NPV_Km'], \n",
    "        'npv_cost': out_row['NPV_Cost'], \n",
    "        'eirr': out_row['EIRR'], \n",
    "        'aadt': get_array('AADT', 10), \n",
    "        #'truck_percent': get_array('AADT', 10), \n",
    "        #'vehicle_utilization': get_array('AADT', 10), \n",
    "        #'esa_loading': row[''], \n",
    "        'iri_projection': get_array('IRIp', 10), \n",
    "        'iri_base': get_array('IRIb', 10), \n",
    "        'con_projection': get_array('CONp', 10), \n",
    "        'con_base': get_array('CONb', 10), \n",
    "        'financial_recurrent_cost': get_array('REC', 10), \n",
    "        'net_benefits': get_array('NET', 20), \n",
    "    }\n",
    "    r = CbaResult(out_data)\n",
    "    ident = s['orma_way_id']\n",
    "    print(r)\n",
    "    \n",
    "    with open(f\"../tests/example_data/section_{ident}.json\", 'w') as f:\n",
    "        f.write(json.dumps(s.to_primitive(), indent=2))\n",
    "    with open(f\"../tests/example_data/section_{ident}.output.json\", 'w') as f:\n",
    "        f.write(json.dumps(r.to_primitive(), indent=2))\n",
    "\n",
    "\n",
    "def save_to_example_data(i):\n",
    "    in_row, out_row, calc_row = example_inputs.loc[i], example_outputs.loc[i], example_output_calcs.loc[i]\n",
    "    save_example_data(in_row, out_row, calc_row)\n",
    "    \n",
    "\n",
    "save_to_example_data(58)"
   ]
  },
  {
   "cell_type": "code",
   "execution_count": null,
   "id": "402e63aa-f47d-463f-b24e-9b9a127a6d00",
   "metadata": {},
   "outputs": [],
   "source": []
  },
  {
   "cell_type": "code",
   "execution_count": null,
   "id": "46d5045d-55f1-4809-90f5-0657c95c2f8f",
   "metadata": {},
   "outputs": [],
   "source": []
  }
 ],
 "metadata": {
  "kernelspec": {
   "display_name": "Python 3",
   "language": "python",
   "name": "python3"
  },
  "language_info": {
   "codemirror_mode": {
    "name": "ipython",
    "version": 3
   },
   "file_extension": ".py",
   "mimetype": "text/x-python",
   "name": "python",
   "nbconvert_exporter": "python",
   "pygments_lexer": "ipython3",
   "version": "3.8.10"
  }
 },
 "nbformat": 4,
 "nbformat_minor": 5
}
