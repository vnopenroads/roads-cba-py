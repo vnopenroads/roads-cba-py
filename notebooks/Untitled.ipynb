{
 "cells": [
  {
   "cell_type": "code",
   "execution_count": 8,
   "id": "6639533d-09a1-487a-b76c-07edc9570a20",
   "metadata": {},
   "outputs": [
    {
     "name": "stdout",
     "output_type": "stream",
     "text": [
      "The autoreload extension is already loaded. To reload it, use:\n",
      "  %reload_ext autoreload\n"
     ]
    }
   ],
   "source": [
    "%load_ext autoreload \n",
    "%autoreload 2\n",
    "\n",
    "%run \"setup.py\"\n",
    "if os.path.isfile('database_credentials.py'):\n",
    "    %run \"database_credentials.py\"\n"
   ]
  },
  {
   "cell_type": "code",
   "execution_count": 19,
   "id": "31a52cee-d0f8-49f4-8a63-06af9ee6cca1",
   "metadata": {},
   "outputs": [
    {
     "data": {
      "text/html": [
       "<div>\n",
       "<style scoped>\n",
       "    .dataframe tbody tr th:only-of-type {\n",
       "        vertical-align: middle;\n",
       "    }\n",
       "\n",
       "    .dataframe tbody tr th {\n",
       "        vertical-align: top;\n",
       "    }\n",
       "\n",
       "    .dataframe thead th {\n",
       "        text-align: right;\n",
       "    }\n",
       "</style>\n",
       "<table border=\"1\" class=\"dataframe\">\n",
       "  <thead>\n",
       "    <tr style=\"text-align: right;\">\n",
       "      <th></th>\n",
       "      <th>VPROMMS</th>\n",
       "      <th>RoadNum</th>\n",
       "      <th>RoadName</th>\n",
       "      <th>Length</th>\n",
       "    </tr>\n",
       "  </thead>\n",
       "  <tbody>\n",
       "    <tr>\n",
       "      <th>0</th>\n",
       "      <td>032HG00001</td>\n",
       "      <td>ĐT.177</td>\n",
       "      <td>Bắc Quang-Xín Mần</td>\n",
       "      <td>99.0</td>\n",
       "    </tr>\n",
       "    <tr>\n",
       "      <th>1</th>\n",
       "      <td>032HG00002</td>\n",
       "      <td>ĐT.183</td>\n",
       "      <td>Vĩnh Tuy-Yên Bình</td>\n",
       "      <td>39.0</td>\n",
       "    </tr>\n",
       "    <tr>\n",
       "      <th>2</th>\n",
       "      <td>032HG00002</td>\n",
       "      <td>ĐT.183</td>\n",
       "      <td>Vĩnh Tuy-Yên Bình</td>\n",
       "      <td>52.0</td>\n",
       "    </tr>\n",
       "    <tr>\n",
       "      <th>3</th>\n",
       "      <td>032HG00003</td>\n",
       "      <td>ĐT.178</td>\n",
       "      <td>Yên Bình - Cốc Pài</td>\n",
       "      <td>8.0</td>\n",
       "    </tr>\n",
       "    <tr>\n",
       "      <th>4</th>\n",
       "      <td>032HG00003</td>\n",
       "      <td>ĐT.178</td>\n",
       "      <td>Yên Bình - Cốc Pài</td>\n",
       "      <td>63.0</td>\n",
       "    </tr>\n",
       "  </tbody>\n",
       "</table>\n",
       "</div>"
      ],
      "text/plain": [
       "      VPROMMS RoadNum             RoadName  Length\n",
       "0  032HG00001  ĐT.177    Bắc Quang-Xín Mần    99.0\n",
       "1  032HG00002  ĐT.183    Vĩnh Tuy-Yên Bình    39.0\n",
       "2  032HG00002  ĐT.183   Vĩnh Tuy-Yên Bình     52.0\n",
       "3  032HG00003  ĐT.178  Yên Bình - Cốc Pài      8.0\n",
       "4  032HG00003  ĐT.178  Yên Bình - Cốc Pài     63.0"
      ]
     },
     "execution_count": 19,
     "metadata": {},
     "output_type": "execute_result"
    }
   ],
   "source": [
    "sheet_name = ''\n",
    "filename = '/Users/jamescook/world_bank/roads-cba-py/data/ha_giang/Ha Giang_So lieu ID theo GMTEP 2020-2022.xlsx'\n",
    "\n",
    "df = pd.read_excel(filename, skiprows=17, header=0)\n",
    "df = df[['VPROMMS', 'RoadNum', 'RoadName', 'Length']]\n",
    "df.head()"
   ]
  },
  {
   "cell_type": "code",
   "execution_count": 22,
   "id": "43ae347f-66be-49ae-90fa-cd1265292827",
   "metadata": {},
   "outputs": [
    {
     "data": {
      "text/html": [
       "<div>\n",
       "<style scoped>\n",
       "    .dataframe tbody tr th:only-of-type {\n",
       "        vertical-align: middle;\n",
       "    }\n",
       "\n",
       "    .dataframe tbody tr th {\n",
       "        vertical-align: top;\n",
       "    }\n",
       "\n",
       "    .dataframe thead th {\n",
       "        text-align: right;\n",
       "    }\n",
       "</style>\n",
       "<table border=\"1\" class=\"dataframe\">\n",
       "  <thead>\n",
       "    <tr style=\"text-align: right;\">\n",
       "      <th></th>\n",
       "      <th>way_id</th>\n",
       "      <th>district_id</th>\n",
       "      <th>province_id</th>\n",
       "      <th>length_from_db</th>\n",
       "      <th>way_id_district</th>\n",
       "      <th>geometry</th>\n",
       "    </tr>\n",
       "  </thead>\n",
       "  <tbody>\n",
       "    <tr>\n",
       "      <th>0</th>\n",
       "      <td>636849</td>\n",
       "      <td>295</td>\n",
       "      <td>294</td>\n",
       "      <td>1.257061</td>\n",
       "      <td>636849_295</td>\n",
       "      <td>LINESTRING (105.01593 22.84415, 105.01607 22.8...</td>\n",
       "    </tr>\n",
       "    <tr>\n",
       "      <th>1</th>\n",
       "      <td>636850</td>\n",
       "      <td>295</td>\n",
       "      <td>294</td>\n",
       "      <td>0.400964</td>\n",
       "      <td>636850_295</td>\n",
       "      <td>LINESTRING (105.01708 22.84710, 105.01690 22.8...</td>\n",
       "    </tr>\n",
       "    <tr>\n",
       "      <th>2</th>\n",
       "      <td>636851</td>\n",
       "      <td>295</td>\n",
       "      <td>294</td>\n",
       "      <td>0.164269</td>\n",
       "      <td>636851_295</td>\n",
       "      <td>LINESTRING (105.01733 22.84785, 105.01721 22.8...</td>\n",
       "    </tr>\n",
       "    <tr>\n",
       "      <th>3</th>\n",
       "      <td>636852</td>\n",
       "      <td>295</td>\n",
       "      <td>294</td>\n",
       "      <td>0.282407</td>\n",
       "      <td>636852_295</td>\n",
       "      <td>LINESTRING (105.01735 22.84677, 105.01747 22.8...</td>\n",
       "    </tr>\n",
       "    <tr>\n",
       "      <th>4</th>\n",
       "      <td>636853</td>\n",
       "      <td>295</td>\n",
       "      <td>294</td>\n",
       "      <td>0.300861</td>\n",
       "      <td>636853_295</td>\n",
       "      <td>LINESTRING (105.01629 22.84841, 105.01622 22.8...</td>\n",
       "    </tr>\n",
       "  </tbody>\n",
       "</table>\n",
       "</div>"
      ],
      "text/plain": [
       "   way_id  district_id  province_id  length_from_db way_id_district  \\\n",
       "0  636849          295          294        1.257061      636849_295   \n",
       "1  636850          295          294        0.400964      636850_295   \n",
       "2  636851          295          294        0.164269      636851_295   \n",
       "3  636852          295          294        0.282407      636852_295   \n",
       "4  636853          295          294        0.300861      636853_295   \n",
       "\n",
       "                                            geometry  \n",
       "0  LINESTRING (105.01593 22.84415, 105.01607 22.8...  \n",
       "1  LINESTRING (105.01708 22.84710, 105.01690 22.8...  \n",
       "2  LINESTRING (105.01733 22.84785, 105.01721 22.8...  \n",
       "3  LINESTRING (105.01735 22.84677, 105.01747 22.8...  \n",
       "4  LINESTRING (105.01629 22.84841, 105.01622 22.8...  "
      ]
     },
     "execution_count": 22,
     "metadata": {},
     "output_type": "execute_result"
    }
   ],
   "source": [
    "orma_gdf = gpd.read_file('../data/ha_giang/from_orma.gpkg')\n",
    "orma_gdf.head()"
   ]
  },
  {
   "cell_type": "code",
   "execution_count": null,
   "id": "47de57b1-cd94-40ea-9f64-fb3b08fca674",
   "metadata": {
    "tags": []
   },
   "outputs": [],
   "source": [
    "\n"
   ]
  },
  {
   "cell_type": "code",
   "execution_count": 5,
   "id": "0f309b55-0173-461b-a082-7e8ee96eb2cf",
   "metadata": {},
   "outputs": [
    {
     "name": "stdout",
     "output_type": "stream",
     "text": [
      "HAMIE\n"
     ]
    },
    {
     "name": "stderr",
     "output_type": "stream",
     "text": [
      "[autoreload of roads_cba_py.configs.traffic_levels failed: Traceback (most recent call last):\n",
      "  File \"/Users/jamescook/world_bank/roads-cba-py/.venv/lib/python3.8/site-packages/IPython/extensions/autoreload.py\", line 245, in check\n",
      "    superreload(m, reload, self.old_objects)\n",
      "  File \"/Users/jamescook/world_bank/roads-cba-py/.venv/lib/python3.8/site-packages/IPython/extensions/autoreload.py\", line 410, in superreload\n",
      "    update_generic(old_obj, new_obj)\n",
      "  File \"/Users/jamescook/world_bank/roads-cba-py/.venv/lib/python3.8/site-packages/IPython/extensions/autoreload.py\", line 347, in update_generic\n",
      "    update(a, b)\n",
      "  File \"/Users/jamescook/world_bank/roads-cba-py/.venv/lib/python3.8/site-packages/IPython/extensions/autoreload.py\", line 317, in update_class\n",
      "    update_instances(old, new)\n",
      "  File \"/Users/jamescook/world_bank/roads-cba-py/.venv/lib/python3.8/site-packages/IPython/extensions/autoreload.py\", line 280, in update_instances\n",
      "    ref.__class__ = new\n",
      "  File \"pydantic/main.py\", line 422, in pydantic.main.BaseModel.__setattr__\n",
      "ValueError: \"TrafficProportions\" object has no field \"__class__\"\n",
      "]\n"
     ]
    },
    {
     "ename": "ValidationError",
     "evalue": "1 validation error for Config\ntraffic_levels -> by_level -> __key__\n  value is not a valid enumeration member; permitted: 0, 1, 2, 3, 4, 5, 6, 7, 8, 9, 10, 11, 12, 13 (type=type_error.enum; enum_values=[<TrafficLevel.LEVEL_0: 0>, <TrafficLevel.LEVEL_1: 1>, <TrafficLevel.LEVEL_2: 2>, <TrafficLevel.LEVEL_3: 3>, <TrafficLevel.LEVEL_4: 4>, <TrafficLevel.LEVEL_5: 5>, <TrafficLevel.LEVEL_6: 6>, <TrafficLevel.LEVEL_7: 7>, <TrafficLevel.LEVEL_8: 8>, <TrafficLevel.LEVEL_9: 9>, <TrafficLevel.LEVEL_10: 10>, <TrafficLevel.LEVEL_11: 11>, <TrafficLevel.LEVEL_12: 12>, <TrafficLevel.LEVEL_13: 13>])",
     "output_type": "error",
     "traceback": [
      "\u001b[0;31m---------------------------------------------------------------------------\u001b[0m",
      "\u001b[0;31mValidationError\u001b[0m                           Traceback (most recent call last)",
      "\u001b[0;32m/var/folders/gs/ywvdpznd0tdcb9d8t55380mr0000gn/T/ipykernel_17980/2636089039.py\u001b[0m in \u001b[0;36m<module>\u001b[0;34m\u001b[0m\n\u001b[0;32m----> 1\u001b[0;31m \u001b[0mConfig\u001b[0m\u001b[0;34m.\u001b[0m\u001b[0mparse_obj\u001b[0m\u001b[0;34m(\u001b[0m\u001b[0mdata\u001b[0m\u001b[0;34m[\u001b[0m\u001b[0;34m'config'\u001b[0m\u001b[0;34m]\u001b[0m\u001b[0;34m)\u001b[0m\u001b[0;34m\u001b[0m\u001b[0;34m\u001b[0m\u001b[0m\n\u001b[0m\u001b[1;32m      2\u001b[0m \u001b[0;34m\u001b[0m\u001b[0m\n",
      "\u001b[0;32m~/world_bank/roads-cba-py/.venv/lib/python3.8/site-packages/pydantic/main.cpython-38-darwin.so\u001b[0m in \u001b[0;36mpydantic.main.BaseModel.parse_obj\u001b[0;34m()\u001b[0m\n",
      "\u001b[0;32m~/world_bank/roads-cba-py/.venv/lib/python3.8/site-packages/pydantic/main.cpython-38-darwin.so\u001b[0m in \u001b[0;36mpydantic.main.BaseModel.__init__\u001b[0;34m()\u001b[0m\n",
      "\u001b[0;31mValidationError\u001b[0m: 1 validation error for Config\ntraffic_levels -> by_level -> __key__\n  value is not a valid enumeration member; permitted: 0, 1, 2, 3, 4, 5, 6, 7, 8, 9, 10, 11, 12, 13 (type=type_error.enum; enum_values=[<TrafficLevel.LEVEL_0: 0>, <TrafficLevel.LEVEL_1: 1>, <TrafficLevel.LEVEL_2: 2>, <TrafficLevel.LEVEL_3: 3>, <TrafficLevel.LEVEL_4: 4>, <TrafficLevel.LEVEL_5: 5>, <TrafficLevel.LEVEL_6: 6>, <TrafficLevel.LEVEL_7: 7>, <TrafficLevel.LEVEL_8: 8>, <TrafficLevel.LEVEL_9: 9>, <TrafficLevel.LEVEL_10: 10>, <TrafficLevel.LEVEL_11: 11>, <TrafficLevel.LEVEL_12: 12>, <TrafficLevel.LEVEL_13: 13>])"
     ]
    }
   ],
   "source": [
    "\n"
   ]
  },
  {
   "cell_type": "code",
   "execution_count": 7,
   "id": "5c4fe097-c7c9-4d8f-b83d-c7de204902d2",
   "metadata": {},
   "outputs": [
    {
     "data": {
      "text/plain": [
       "<function schematics.models.Model.validate(self, partial=False, convert=True, app_data=None, **kwargs)>"
      ]
     },
     "execution_count": 7,
     "metadata": {},
     "output_type": "execute_result"
    }
   ],
   "source": [
    "Config.validate"
   ]
  },
  {
   "cell_type": "code",
   "execution_count": 4,
   "id": "413b0f67-6231-4f1c-803e-74c05a8ba827",
   "metadata": {},
   "outputs": [],
   "source": [
    "import pydantic"
   ]
  },
  {
   "cell_type": "code",
   "execution_count": 7,
   "id": "b09f613b-03a6-4470-acbc-c612377354f5",
   "metadata": {},
   "outputs": [
    {
     "data": {
      "text/plain": [
       "'/Users/jamescook/world_bank/roads-cba-py/notebooks'"
      ]
     },
     "execution_count": 7,
     "metadata": {},
     "output_type": "execute_result"
    }
   ],
   "source": [
    "os.getcwd()"
   ]
  },
  {
   "cell_type": "code",
   "execution_count": null,
   "id": "54aa1f89-9ffa-4bd0-8621-895f27091811",
   "metadata": {},
   "outputs": [],
   "source": []
  }
 ],
 "metadata": {
  "kernelspec": {
   "display_name": "RoadsCbaPy",
   "language": "python",
   "name": "roadscbapy"
  },
  "language_info": {
   "codemirror_mode": {
    "name": "ipython",
    "version": 3
   },
   "file_extension": ".py",
   "mimetype": "text/x-python",
   "name": "python",
   "nbconvert_exporter": "python",
   "pygments_lexer": "ipython3",
   "version": "3.8.10"
  }
 },
 "nbformat": 4,
 "nbformat_minor": 5
}
