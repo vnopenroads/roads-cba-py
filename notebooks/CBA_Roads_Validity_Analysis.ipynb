{
 "cells": [
  {
   "cell_type": "code",
   "execution_count": 1,
   "metadata": {
    "id": "2txLMhFQN_Yw"
   },
   "outputs": [],
   "source": [
    "province = \"Ha Giang\""
   ]
  },
  {
   "cell_type": "markdown",
   "metadata": {
    "id": "5JoSV_mA2fwT"
   },
   "source": [
    "# Basic data"
   ]
  },
  {
   "cell_type": "code",
   "execution_count": 2,
   "metadata": {
    "colab": {
     "base_uri": "https://localhost:8080/"
    },
    "id": "G5rtDGlfOrVI",
    "outputId": "725fda61-f084-46ee-fbc4-fb5b751e0520"
   },
   "outputs": [
    {
     "name": "stdout",
     "output_type": "stream",
     "text": [
      "Requirement already satisfied: roads-cba-py in /Users/jamescook/.pyenv/versions/3.8.10/lib/python3.8/site-packages (0.1.2)\n",
      "Requirement already satisfied: seaborn in /Users/jamescook/.pyenv/versions/3.8.10/lib/python3.8/site-packages (0.11.2)\n",
      "Requirement already satisfied: matplotlib in /Users/jamescook/.pyenv/versions/3.8.10/lib/python3.8/site-packages (3.4.3)\n",
      "Requirement already satisfied: numpy in /Users/jamescook/.pyenv/versions/3.8.10/lib/python3.8/site-packages (from roads-cba-py) (1.21.2)\n",
      "Requirement already satisfied: pandas in /Users/jamescook/.pyenv/versions/3.8.10/lib/python3.8/site-packages (from roads-cba-py) (1.3.2)\n",
      "Requirement already satisfied: schematics in /Users/jamescook/.pyenv/versions/3.8.10/lib/python3.8/site-packages (from roads-cba-py) (2.1.1)\n",
      "Requirement already satisfied: numpy-financial in /Users/jamescook/.pyenv/versions/3.8.10/lib/python3.8/site-packages (from roads-cba-py) (1.0.0)\n",
      "Requirement already satisfied: intervaltree in /Users/jamescook/.pyenv/versions/3.8.10/lib/python3.8/site-packages (from roads-cba-py) (3.1.0)\n",
      "Requirement already satisfied: scipy>=1.0 in /Users/jamescook/.pyenv/versions/3.8.10/lib/python3.8/site-packages (from seaborn) (1.7.1)\n",
      "Requirement already satisfied: pyparsing>=2.2.1 in /Users/jamescook/.pyenv/versions/3.8.10/lib/python3.8/site-packages (from matplotlib) (2.4.7)\n",
      "Requirement already satisfied: pillow>=6.2.0 in /Users/jamescook/.pyenv/versions/3.8.10/lib/python3.8/site-packages (from matplotlib) (8.3.2)\n",
      "Requirement already satisfied: cycler>=0.10 in /Users/jamescook/.pyenv/versions/3.8.10/lib/python3.8/site-packages (from matplotlib) (0.10.0)\n",
      "Requirement already satisfied: python-dateutil>=2.7 in /Users/jamescook/.pyenv/versions/3.8.10/lib/python3.8/site-packages (from matplotlib) (2.8.2)\n",
      "Requirement already satisfied: kiwisolver>=1.0.1 in /Users/jamescook/.pyenv/versions/3.8.10/lib/python3.8/site-packages (from matplotlib) (1.3.2)\n",
      "Requirement already satisfied: six in /Users/jamescook/.pyenv/versions/3.8.10/lib/python3.8/site-packages (from cycler>=0.10->matplotlib) (1.16.0)\n",
      "Requirement already satisfied: pytz>=2017.3 in /Users/jamescook/.pyenv/versions/3.8.10/lib/python3.8/site-packages (from pandas->roads-cba-py) (2021.1)\n",
      "Requirement already satisfied: sortedcontainers<3.0,>=2.0 in /Users/jamescook/.pyenv/versions/3.8.10/lib/python3.8/site-packages (from intervaltree->roads-cba-py) (2.4.0)\n",
      "\u001b[33mWARNING: You are using pip version 21.1.1; however, version 21.2.4 is available.\n",
      "You should consider upgrading via the '/Users/jamescook/.pyenv/versions/3.8.10/bin/python3.8 -m pip install --upgrade pip' command.\u001b[0m\n",
      "Requirement already satisfied: roads-cba-py in /Users/jamescook/.pyenv/versions/3.8.10/lib/python3.8/site-packages (0.1.2)\n",
      "Requirement already satisfied: pandas in /Users/jamescook/.pyenv/versions/3.8.10/lib/python3.8/site-packages (from roads-cba-py) (1.3.2)\n",
      "Requirement already satisfied: schematics in /Users/jamescook/.pyenv/versions/3.8.10/lib/python3.8/site-packages (from roads-cba-py) (2.1.1)\n",
      "Requirement already satisfied: intervaltree in /Users/jamescook/.pyenv/versions/3.8.10/lib/python3.8/site-packages (from roads-cba-py) (3.1.0)\n",
      "Requirement already satisfied: numpy in /Users/jamescook/.pyenv/versions/3.8.10/lib/python3.8/site-packages (from roads-cba-py) (1.21.2)\n",
      "Requirement already satisfied: numpy-financial in /Users/jamescook/.pyenv/versions/3.8.10/lib/python3.8/site-packages (from roads-cba-py) (1.0.0)\n",
      "Requirement already satisfied: sortedcontainers<3.0,>=2.0 in /Users/jamescook/.pyenv/versions/3.8.10/lib/python3.8/site-packages (from intervaltree->roads-cba-py) (2.4.0)\n",
      "Requirement already satisfied: python-dateutil>=2.7.3 in /Users/jamescook/.pyenv/versions/3.8.10/lib/python3.8/site-packages (from pandas->roads-cba-py) (2.8.2)\n",
      "Requirement already satisfied: pytz>=2017.3 in /Users/jamescook/.pyenv/versions/3.8.10/lib/python3.8/site-packages (from pandas->roads-cba-py) (2021.1)\n",
      "Requirement already satisfied: six>=1.5 in /Users/jamescook/.pyenv/versions/3.8.10/lib/python3.8/site-packages (from python-dateutil>=2.7.3->pandas->roads-cba-py) (1.16.0)\n",
      "\u001b[33mWARNING: You are using pip version 21.1.1; however, version 21.2.4 is available.\n",
      "You should consider upgrading via the '/Users/jamescook/.pyenv/versions/3.8.10/bin/python3.8 -m pip install --upgrade pip' command.\u001b[0m\n"
     ]
    }
   ],
   "source": [
    "!pip install roads-cba-py seaborn matplotlib\n",
    "!pip install roads-cba-py --upgrade"
   ]
  },
  {
   "cell_type": "code",
   "execution_count": 4,
   "metadata": {
    "id": "naMokvTQ1keJ"
   },
   "outputs": [],
   "source": [
    "import pandas as pd\n",
    "from matplotlib import pyplot as plt\n",
    "#import seaborn as sns\n",
    "import numpy as np\n",
    "\n",
    "roads_cba_py_path = '/Users/jamescook/world_bank/roads-cba-py'\n",
    "if roads_cba_py_path not in sys.path:\n",
    "    sys.path.append(roads_cba_py_path)\n",
    "\n",
    "from roads_cba_py.cba import CostBenefitAnalysisModel\n",
    "from roads_cba_py.section import Section, InvalidSection\n",
    "\n"
   ]
  },
  {
   "cell_type": "code",
   "execution_count": 5,
   "metadata": {
    "id": "7PYTMLI-13ix"
   },
   "outputs": [],
   "source": [
    "url = 'http://orma-uat.drvn.gov.vn:4000/admin/province/units'\n",
    "provinces_list = pd.json_normalize(pd.read_json(url)['province'])"
   ]
  },
  {
   "cell_type": "code",
   "execution_count": 17,
   "metadata": {
    "id": "kM_bQ3Cq2VJl"
   },
   "outputs": [],
   "source": [
    "prov_id = provinces_list.query(f'name_en == \"{province}\"')['id']\n",
    "url = f'http://orma-uat.drvn.gov.vn:4000/cba/roads/live?province={int(prov_id)}'\n",
    "assets_live = pd.read_json(url)\n"
   ]
  },
  {
   "cell_type": "code",
   "execution_count": 8,
   "metadata": {},
   "outputs": [
    {
     "name": "stdout",
     "output_type": "stream",
     "text": [
      "(1884, 28)\n"
     ]
    },
    {
     "data": {
      "text/html": [
       "<div>\n",
       "<style scoped>\n",
       "    .dataframe tbody tr th:only-of-type {\n",
       "        vertical-align: middle;\n",
       "    }\n",
       "\n",
       "    .dataframe tbody tr th {\n",
       "        vertical-align: top;\n",
       "    }\n",
       "\n",
       "    .dataframe thead th {\n",
       "        text-align: right;\n",
       "    }\n",
       "</style>\n",
       "<table border=\"1\" class=\"dataframe\">\n",
       "  <thead>\n",
       "    <tr style=\"text-align: right;\">\n",
       "      <th></th>\n",
       "      <th>orma_way_id</th>\n",
       "      <th>vpromms_id</th>\n",
       "      <th>length</th>\n",
       "      <th>vpromms_length</th>\n",
       "      <th>province</th>\n",
       "      <th>district</th>\n",
       "      <th>lanes</th>\n",
       "      <th>terrain</th>\n",
       "      <th>width</th>\n",
       "      <th>surface_type</th>\n",
       "      <th>condition_class</th>\n",
       "      <th>roughness</th>\n",
       "      <th>traffic_level</th>\n",
       "      <th>traffic_growth</th>\n",
       "      <th>pavement_age</th>\n",
       "      <th>aadt_motorcyle</th>\n",
       "      <th>aadt_carsmall</th>\n",
       "      <th>aadt_carmedium</th>\n",
       "      <th>aadt_delivery</th>\n",
       "      <th>aadt_4wheel</th>\n",
       "      <th>aadt_smalltruck</th>\n",
       "      <th>aadt_mediumtruck</th>\n",
       "      <th>aadt_largetruck</th>\n",
       "      <th>aadt_articulatedtruck</th>\n",
       "      <th>aadt_smallbus</th>\n",
       "      <th>aadt_mediumbus</th>\n",
       "      <th>aadt_largebus</th>\n",
       "      <th>aadt_total</th>\n",
       "    </tr>\n",
       "  </thead>\n",
       "  <tbody>\n",
       "    <tr>\n",
       "      <th>0</th>\n",
       "      <td>595052</td>\n",
       "      <td>None</td>\n",
       "      <td>0.065318</td>\n",
       "      <td>NaN</td>\n",
       "      <td>294</td>\n",
       "      <td>305</td>\n",
       "      <td>0</td>\n",
       "      <td>NaN</td>\n",
       "      <td>0.0</td>\n",
       "      <td>NaN</td>\n",
       "      <td>NaN</td>\n",
       "      <td>0</td>\n",
       "      <td>NaN</td>\n",
       "      <td>0</td>\n",
       "      <td>0</td>\n",
       "      <td>0</td>\n",
       "      <td>0</td>\n",
       "      <td>0</td>\n",
       "      <td>0</td>\n",
       "      <td>0</td>\n",
       "      <td>0</td>\n",
       "      <td>0</td>\n",
       "      <td>0</td>\n",
       "      <td>0</td>\n",
       "      <td>0</td>\n",
       "      <td>0</td>\n",
       "      <td>0</td>\n",
       "      <td>0</td>\n",
       "    </tr>\n",
       "    <tr>\n",
       "      <th>1</th>\n",
       "      <td>603273</td>\n",
       "      <td>None</td>\n",
       "      <td>0.574738</td>\n",
       "      <td>NaN</td>\n",
       "      <td>294</td>\n",
       "      <td>301</td>\n",
       "      <td>0</td>\n",
       "      <td>NaN</td>\n",
       "      <td>0.0</td>\n",
       "      <td>NaN</td>\n",
       "      <td>NaN</td>\n",
       "      <td>0</td>\n",
       "      <td>NaN</td>\n",
       "      <td>0</td>\n",
       "      <td>0</td>\n",
       "      <td>0</td>\n",
       "      <td>0</td>\n",
       "      <td>0</td>\n",
       "      <td>0</td>\n",
       "      <td>0</td>\n",
       "      <td>0</td>\n",
       "      <td>0</td>\n",
       "      <td>0</td>\n",
       "      <td>0</td>\n",
       "      <td>0</td>\n",
       "      <td>0</td>\n",
       "      <td>0</td>\n",
       "      <td>0</td>\n",
       "    </tr>\n",
       "    <tr>\n",
       "      <th>2</th>\n",
       "      <td>614879</td>\n",
       "      <td>None</td>\n",
       "      <td>2.555914</td>\n",
       "      <td>NaN</td>\n",
       "      <td>294</td>\n",
       "      <td>296</td>\n",
       "      <td>0</td>\n",
       "      <td>NaN</td>\n",
       "      <td>0.0</td>\n",
       "      <td>NaN</td>\n",
       "      <td>NaN</td>\n",
       "      <td>0</td>\n",
       "      <td>NaN</td>\n",
       "      <td>0</td>\n",
       "      <td>0</td>\n",
       "      <td>0</td>\n",
       "      <td>0</td>\n",
       "      <td>0</td>\n",
       "      <td>0</td>\n",
       "      <td>0</td>\n",
       "      <td>0</td>\n",
       "      <td>0</td>\n",
       "      <td>0</td>\n",
       "      <td>0</td>\n",
       "      <td>0</td>\n",
       "      <td>0</td>\n",
       "      <td>0</td>\n",
       "      <td>0</td>\n",
       "    </tr>\n",
       "    <tr>\n",
       "      <th>3</th>\n",
       "      <td>614880</td>\n",
       "      <td>None</td>\n",
       "      <td>0.690284</td>\n",
       "      <td>NaN</td>\n",
       "      <td>294</td>\n",
       "      <td>296</td>\n",
       "      <td>0</td>\n",
       "      <td>NaN</td>\n",
       "      <td>0.0</td>\n",
       "      <td>NaN</td>\n",
       "      <td>NaN</td>\n",
       "      <td>0</td>\n",
       "      <td>NaN</td>\n",
       "      <td>0</td>\n",
       "      <td>0</td>\n",
       "      <td>0</td>\n",
       "      <td>0</td>\n",
       "      <td>0</td>\n",
       "      <td>0</td>\n",
       "      <td>0</td>\n",
       "      <td>0</td>\n",
       "      <td>0</td>\n",
       "      <td>0</td>\n",
       "      <td>0</td>\n",
       "      <td>0</td>\n",
       "      <td>0</td>\n",
       "      <td>0</td>\n",
       "      <td>0</td>\n",
       "    </tr>\n",
       "    <tr>\n",
       "      <th>4</th>\n",
       "      <td>614982</td>\n",
       "      <td>None</td>\n",
       "      <td>0.063700</td>\n",
       "      <td>NaN</td>\n",
       "      <td>294</td>\n",
       "      <td>299</td>\n",
       "      <td>0</td>\n",
       "      <td>NaN</td>\n",
       "      <td>0.0</td>\n",
       "      <td>NaN</td>\n",
       "      <td>NaN</td>\n",
       "      <td>0</td>\n",
       "      <td>NaN</td>\n",
       "      <td>0</td>\n",
       "      <td>0</td>\n",
       "      <td>0</td>\n",
       "      <td>0</td>\n",
       "      <td>0</td>\n",
       "      <td>0</td>\n",
       "      <td>0</td>\n",
       "      <td>0</td>\n",
       "      <td>0</td>\n",
       "      <td>0</td>\n",
       "      <td>0</td>\n",
       "      <td>0</td>\n",
       "      <td>0</td>\n",
       "      <td>0</td>\n",
       "      <td>0</td>\n",
       "    </tr>\n",
       "  </tbody>\n",
       "</table>\n",
       "</div>"
      ],
      "text/plain": [
       "   orma_way_id vpromms_id    length  vpromms_length  province  district  \\\n",
       "0       595052       None  0.065318             NaN       294       305   \n",
       "1       603273       None  0.574738             NaN       294       301   \n",
       "2       614879       None  2.555914             NaN       294       296   \n",
       "3       614880       None  0.690284             NaN       294       296   \n",
       "4       614982       None  0.063700             NaN       294       299   \n",
       "\n",
       "   lanes  terrain  width  surface_type  condition_class  roughness  \\\n",
       "0      0      NaN    0.0           NaN              NaN          0   \n",
       "1      0      NaN    0.0           NaN              NaN          0   \n",
       "2      0      NaN    0.0           NaN              NaN          0   \n",
       "3      0      NaN    0.0           NaN              NaN          0   \n",
       "4      0      NaN    0.0           NaN              NaN          0   \n",
       "\n",
       "   traffic_level  traffic_growth  pavement_age  aadt_motorcyle  aadt_carsmall  \\\n",
       "0            NaN               0             0               0              0   \n",
       "1            NaN               0             0               0              0   \n",
       "2            NaN               0             0               0              0   \n",
       "3            NaN               0             0               0              0   \n",
       "4            NaN               0             0               0              0   \n",
       "\n",
       "   aadt_carmedium aadt_delivery  aadt_4wheel  aadt_smalltruck  \\\n",
       "0               0             0            0                0   \n",
       "1               0             0            0                0   \n",
       "2               0             0            0                0   \n",
       "3               0             0            0                0   \n",
       "4               0             0            0                0   \n",
       "\n",
       "   aadt_mediumtruck  aadt_largetruck  aadt_articulatedtruck  aadt_smallbus  \\\n",
       "0                 0                0                      0              0   \n",
       "1                 0                0                      0              0   \n",
       "2                 0                0                      0              0   \n",
       "3                 0                0                      0              0   \n",
       "4                 0                0                      0              0   \n",
       "\n",
       "   aadt_mediumbus  aadt_largebus  aadt_total  \n",
       "0               0              0           0  \n",
       "1               0              0           0  \n",
       "2               0              0           0  \n",
       "3               0              0           0  \n",
       "4               0              0           0  "
      ]
     },
     "execution_count": 8,
     "metadata": {},
     "output_type": "execute_result"
    }
   ],
   "source": [
    "prov_id = provinces_list.query(f'name_en == \"{province}\"')['id']\n",
    "url = f'http://orma-uat.drvn.gov.vn:4000/cba/roads/snapshot/9'\n",
    "assets = pd.read_json(url)\n",
    "print(assets.shape)\n",
    "assets.head()"
   ]
  },
  {
   "cell_type": "code",
   "execution_count": 38,
   "metadata": {},
   "outputs": [
    {
     "data": {
      "text/plain": [
       "'{\"orma_way_id\": \"637504\", \"vpromms_id\": \"034QG00059\", \"road_name\": \"\", \"road_start\": \"\", \"road_end\": \"\", \"section_order\": -1, \"province\": \"294\", \"district\": \"305\", \"commune\": \"\", \"management\": -1, \"start_km\": 0.0, \"end_km\": 0.0, \"length\": 6.290908426469055, \"vpromms_length\": 6.29090842646905, \"lanes\": 0, \"width\": 2.5, \"road_class\": 0, \"terrain\": 3, \"temperature\": 0, \"moisture\": 0, \"road_type\": 0, \"surface_type\": 1, \"condition_class\": 5, \"roughness\": 0.0, \"traffic_level\": 3, \"traffic_growth\": 0, \"structural_no\": 0.0, \"pavement_age\": 0, \"aadt_motorcyle\": 0.0, \"aadt_carsmall\": 0.0, \"aadt_carmedium\": 0.0, \"aadt_delivery\": 0.0, \"aadt_4wheel\": 0.0, \"aadt_smalltruck\": 0.0, \"aadt_mediumtruck\": 0.0, \"aadt_largetruck\": 0.0, \"aadt_articulatedtruck\": 0.0, \"aadt_smallbus\": 0.0, \"aadt_mediumbus\": 0.0, \"aadt_largebus\": 0.0, \"aadt_total\": 0.0, \"road_number\": \"\", \"REQUIRED_FIELDS\": [\"lanes\", \"width\"]}'"
      ]
     },
     "execution_count": 38,
     "metadata": {},
     "output_type": "execute_result"
    }
   ],
   "source": [
    "assets.query('orma_way_id == 637504')\n",
    "\n",
    "import roads_cba_py.cba as cba\n",
    "from roads_cba_py.cba_result import CbaResult\n",
    "from roads_cba_py.config import Config\n",
    "\n",
    "cba_model = cba.CostBenefitAnalysisModel(Config())\n",
    "section = assets.query('orma_way_id == 637504').to_dict('records')[0]\n",
    "section = Section.parse_obj(section)\n",
    "# result = cba_model.compute_cba_for_section(section)\n",
    "section.json()\n"
   ]
  },
  {
   "cell_type": "code",
   "execution_count": 41,
   "metadata": {},
   "outputs": [
    {
     "data": {
      "text/html": [
       "<div>\n",
       "<style scoped>\n",
       "    .dataframe tbody tr th:only-of-type {\n",
       "        vertical-align: middle;\n",
       "    }\n",
       "\n",
       "    .dataframe tbody tr th {\n",
       "        vertical-align: top;\n",
       "    }\n",
       "\n",
       "    .dataframe thead th {\n",
       "        text-align: right;\n",
       "    }\n",
       "</style>\n",
       "<table border=\"1\" class=\"dataframe\">\n",
       "  <thead>\n",
       "    <tr style=\"text-align: right;\">\n",
       "      <th></th>\n",
       "      <th>orma_way_id</th>\n",
       "      <th>vpromms_id</th>\n",
       "      <th>length</th>\n",
       "      <th>vpromms_length</th>\n",
       "      <th>province</th>\n",
       "      <th>district</th>\n",
       "      <th>lanes</th>\n",
       "      <th>terrain</th>\n",
       "      <th>width</th>\n",
       "      <th>surface_type</th>\n",
       "      <th>condition_class</th>\n",
       "      <th>roughness</th>\n",
       "      <th>traffic_level</th>\n",
       "      <th>traffic_growth</th>\n",
       "      <th>pavement_age</th>\n",
       "      <th>aadt_motorcyle</th>\n",
       "      <th>aadt_carsmall</th>\n",
       "      <th>aadt_carmedium</th>\n",
       "      <th>aadt_delivery</th>\n",
       "      <th>aadt_4wheel</th>\n",
       "      <th>aadt_smalltruck</th>\n",
       "      <th>aadt_mediumtruck</th>\n",
       "      <th>aadt_largetruck</th>\n",
       "      <th>aadt_articulatedtruck</th>\n",
       "      <th>aadt_smallbus</th>\n",
       "      <th>aadt_mediumbus</th>\n",
       "      <th>aadt_largebus</th>\n",
       "      <th>aadt_total</th>\n",
       "    </tr>\n",
       "  </thead>\n",
       "  <tbody>\n",
       "    <tr>\n",
       "      <th>1029</th>\n",
       "      <td>636883</td>\n",
       "      <td>034HG00033</td>\n",
       "      <td>1.122436</td>\n",
       "      <td>1.122436</td>\n",
       "      <td>294</td>\n",
       "      <td>295</td>\n",
       "      <td>0</td>\n",
       "      <td>3.0</td>\n",
       "      <td>3.0</td>\n",
       "      <td>1.0</td>\n",
       "      <td>3.0</td>\n",
       "      <td>0</td>\n",
       "      <td>2.0</td>\n",
       "      <td>0</td>\n",
       "      <td>0</td>\n",
       "      <td>0</td>\n",
       "      <td>0</td>\n",
       "      <td>0</td>\n",
       "      <td>0</td>\n",
       "      <td>0</td>\n",
       "      <td>0</td>\n",
       "      <td>0</td>\n",
       "      <td>0</td>\n",
       "      <td>0</td>\n",
       "      <td>0</td>\n",
       "      <td>0</td>\n",
       "      <td>0</td>\n",
       "      <td>0</td>\n",
       "    </tr>\n",
       "  </tbody>\n",
       "</table>\n",
       "</div>"
      ],
      "text/plain": [
       "      orma_way_id  vpromms_id    length  vpromms_length  province  district  \\\n",
       "1029       636883  034HG00033  1.122436        1.122436       294       295   \n",
       "\n",
       "      lanes  terrain  width  surface_type  condition_class  roughness  \\\n",
       "1029      0      3.0    3.0           1.0              3.0          0   \n",
       "\n",
       "      traffic_level  traffic_growth  pavement_age  aadt_motorcyle  \\\n",
       "1029            2.0               0             0               0   \n",
       "\n",
       "      aadt_carsmall  aadt_carmedium aadt_delivery  aadt_4wheel  \\\n",
       "1029              0               0             0            0   \n",
       "\n",
       "      aadt_smalltruck  aadt_mediumtruck  aadt_largetruck  \\\n",
       "1029                0                 0                0   \n",
       "\n",
       "      aadt_articulatedtruck  aadt_smallbus  aadt_mediumbus  aadt_largebus  \\\n",
       "1029                      0              0               0              0   \n",
       "\n",
       "      aadt_total  \n",
       "1029           0  "
      ]
     },
     "execution_count": 41,
     "metadata": {},
     "output_type": "execute_result"
    }
   ],
   "source": [
    "assets.query('orma_way_id == 636883')"
   ]
  },
  {
   "cell_type": "markdown",
   "metadata": {
    "id": "3luO78sC2njm"
   },
   "source": [
    "# VPROMMS Correspondence"
   ]
  },
  {
   "cell_type": "code",
   "execution_count": 17,
   "metadata": {
    "colab": {
     "base_uri": "https://localhost:8080/",
     "height": 427
    },
    "id": "ECt9Svg24IH3",
    "outputId": "58b3a69f-cd90-4e0d-bb30-33833b6442b3"
   },
   "outputs": [
    {
     "data": {
      "image/png": "[encoded data removed]",
      "text/plain": [
       "<Figure size 720x504 with 1 Axes>"
      ]
     },
     "metadata": {},
     "output_type": "display_data"
    }
   ],
   "source": [
    "# Creating dataset\n",
    "lbl = ['with VPROMMS', 'NO VPROMMS']\n",
    "  \n",
    "data = [assets[~assets.vpromms_id.isna()].shape[0], assets[assets.vpromms_id.isna()].shape[0]]\n",
    "  \n",
    "# Creating plot\n",
    "fig = plt.figure(figsize =(10, 7))\n",
    "explode=(0,0.1)\n",
    "plt.pie(data, labels = lbl,autopct='%1.2f%%', explode=explode,shadow=True)\n",
    "plt.title(\"Assets with VPROMMS\")\n",
    "# show plot\n",
    "plt.show()"
   ]
  },
  {
   "cell_type": "code",
   "execution_count": null,
   "metadata": {
    "id": "X3Pfhxe7zjvk"
   },
   "outputs": [],
   "source": [
    "assets.head()"
   ]
  },
  {
   "cell_type": "markdown",
   "metadata": {
    "id": "yiAHSe2o2yUH"
   },
   "source": [
    "# Length Discrepancies"
   ]
  },
  {
   "cell_type": "code",
   "execution_count": null,
   "metadata": {
    "id": "USNNhBJixYRr"
   },
   "outputs": [],
   "source": [
    "withvp = assets[~assets.vpromms_length.isna()]"
   ]
  },
  {
   "cell_type": "code",
   "execution_count": null,
   "metadata": {
    "id": "5pKk5AQT-gCb"
   },
   "outputs": [],
   "source": [
    "vpromms_length = withvp.groupby(['vpromms_id']).max()[['vpromms_length']]\n",
    "geo_length = withvp.groupby(['vpromms_id']).sum()[['length']]\n",
    "comparison_length = geo_length.join(vpromms_length)"
   ]
  },
  {
   "cell_type": "code",
   "execution_count": null,
   "metadata": {
    "colab": {
     "base_uri": "https://localhost:8080/",
     "height": 340
    },
    "id": "8QcNOiNG1hfi",
    "outputId": "fed40f23-98e7-42b2-e891-6d7050711a0e"
   },
   "outputs": [
    {
     "data": {
      "image/png": "[encoded data removed]",
      "text/plain": [
       "<Figure size 1440x504 with 2 Axes>"
      ]
     },
     "metadata": {
      "needs_background": "light"
     },
     "output_type": "display_data"
    }
   ],
   "source": [
    "fig,(ax1,ax2) = plt.subplots(1,2,figsize =(20, 7))\n",
    "\n",
    "ax1.scatter(comparison_length.length, comparison_length.vpromms_length)\n",
    "ax1.set_xlabel(\"GEO Length\")\n",
    "ax1.set_ylabel(\"VPROMMS Length\")\n",
    "ax1.set_title(\"Geo Length Vs VPromms Length\")\n",
    "\n",
    "lower,upper = (75,125) # Percentages\n",
    "ratio = 100.0 * comparison_length.vpromms_length / comparison_length.length\n",
    "ratio[ratio > upper] = upper\n",
    "ratio[ratio < lower] = lower\n",
    "sns.histplot(x=ratio,bins=50,binrange=[lower,upper], kde=True)\n",
    "ax2.set_xlabel(\"VPROMMS Length as % of GEO Length\")\n",
    "\n",
    "# show plot\n",
    "plt.show()"
   ]
  },
  {
   "cell_type": "markdown",
   "metadata": {
    "id": "Zxxcqlz92I0b"
   },
   "source": [
    "## Assets with VPROMMS length at least 20% LARGER than Geo Length"
   ]
  },
  {
   "cell_type": "code",
   "execution_count": null,
   "metadata": {
    "colab": {
     "base_uri": "https://localhost:8080/",
     "height": 390
    },
    "id": "v7uiEBuK1p6G",
    "outputId": "4a2fc969-e5d2-4a3b-f393-3b72115403a2"
   },
   "outputs": [
    {
     "data": {
      "text/html": [
       "<div>\n",
       "<style scoped>\n",
       "    .dataframe tbody tr th:only-of-type {\n",
       "        vertical-align: middle;\n",
       "    }\n",
       "\n",
       "    .dataframe tbody tr th {\n",
       "        vertical-align: top;\n",
       "    }\n",
       "\n",
       "    .dataframe thead th {\n",
       "        text-align: right;\n",
       "    }\n",
       "</style>\n",
       "<table border=\"1\" class=\"dataframe\">\n",
       "  <thead>\n",
       "    <tr style=\"text-align: right;\">\n",
       "      <th></th>\n",
       "      <th>length</th>\n",
       "      <th>vpromms_length</th>\n",
       "    </tr>\n",
       "    <tr>\n",
       "      <th>vpromms_id</th>\n",
       "      <th></th>\n",
       "      <th></th>\n",
       "    </tr>\n",
       "  </thead>\n",
       "  <tbody>\n",
       "    <tr>\n",
       "      <th>033HSP00016</th>\n",
       "      <td>6.141937</td>\n",
       "      <td>40.400000</td>\n",
       "    </tr>\n",
       "    <tr>\n",
       "      <th>033ĐV00006</th>\n",
       "      <td>7.594590</td>\n",
       "      <td>10.000000</td>\n",
       "    </tr>\n",
       "    <tr>\n",
       "      <th>034BM00028</th>\n",
       "      <td>6.171641</td>\n",
       "      <td>7.511424</td>\n",
       "    </tr>\n",
       "    <tr>\n",
       "      <th>034BM00037</th>\n",
       "      <td>0.840030</td>\n",
       "      <td>1.160474</td>\n",
       "    </tr>\n",
       "    <tr>\n",
       "      <th>034DV00007</th>\n",
       "      <td>4.691464</td>\n",
       "      <td>36.875373</td>\n",
       "    </tr>\n",
       "    <tr>\n",
       "      <th>034HSP00070</th>\n",
       "      <td>1.851581</td>\n",
       "      <td>5.800000</td>\n",
       "    </tr>\n",
       "    <tr>\n",
       "      <th>034VX00029</th>\n",
       "      <td>0.470014</td>\n",
       "      <td>1.158610</td>\n",
       "    </tr>\n",
       "    <tr>\n",
       "      <th>034XM00004</th>\n",
       "      <td>1.451943</td>\n",
       "      <td>2.886877</td>\n",
       "    </tr>\n",
       "    <tr>\n",
       "      <th>034XM00052</th>\n",
       "      <td>0.188688</td>\n",
       "      <td>0.304199</td>\n",
       "    </tr>\n",
       "    <tr>\n",
       "      <th>034XM00097</th>\n",
       "      <td>4.309620</td>\n",
       "      <td>5.993107</td>\n",
       "    </tr>\n",
       "  </tbody>\n",
       "</table>\n",
       "</div>"
      ],
      "text/plain": [
       "               length  vpromms_length\n",
       "vpromms_id                           \n",
       "033HSP00016  6.141937       40.400000\n",
       "033ĐV00006   7.594590       10.000000\n",
       "034BM00028   6.171641        7.511424\n",
       "034BM00037   0.840030        1.160474\n",
       "034DV00007   4.691464       36.875373\n",
       "034HSP00070  1.851581        5.800000\n",
       "034VX00029   0.470014        1.158610\n",
       "034XM00004   1.451943        2.886877\n",
       "034XM00052   0.188688        0.304199\n",
       "034XM00097   4.309620        5.993107"
      ]
     },
     "execution_count": 13,
     "metadata": {},
     "output_type": "execute_result"
    }
   ],
   "source": [
    "long_links = comparison_length[comparison_length.vpromms_length>1.2 * comparison_length.length]\n",
    "long_links"
   ]
  },
  {
   "cell_type": "markdown",
   "metadata": {
    "id": "Dtk6xWMvN7-h"
   },
   "source": [
    "## Assets with VPROMMS length at least 20% smaller than geo Length"
   ]
  },
  {
   "cell_type": "code",
   "execution_count": null,
   "metadata": {
    "colab": {
     "base_uri": "https://localhost:8080/",
     "height": 421
    },
    "id": "PKBDhVN2OFEn",
    "outputId": "6808a039-3a4f-48cb-aed1-2ab0e6fb89e2"
   },
   "outputs": [
    {
     "data": {
      "text/html": [
       "<div>\n",
       "<style scoped>\n",
       "    .dataframe tbody tr th:only-of-type {\n",
       "        vertical-align: middle;\n",
       "    }\n",
       "\n",
       "    .dataframe tbody tr th {\n",
       "        vertical-align: top;\n",
       "    }\n",
       "\n",
       "    .dataframe thead th {\n",
       "        text-align: right;\n",
       "    }\n",
       "</style>\n",
       "<table border=\"1\" class=\"dataframe\">\n",
       "  <thead>\n",
       "    <tr style=\"text-align: right;\">\n",
       "      <th></th>\n",
       "      <th>length</th>\n",
       "      <th>vpromms_length</th>\n",
       "    </tr>\n",
       "    <tr>\n",
       "      <th>vpromms_id</th>\n",
       "      <th></th>\n",
       "      <th></th>\n",
       "    </tr>\n",
       "  </thead>\n",
       "  <tbody>\n",
       "    <tr>\n",
       "      <th>032HG00002</th>\n",
       "      <td>62.580390</td>\n",
       "      <td>38.549713</td>\n",
       "    </tr>\n",
       "    <tr>\n",
       "      <th>033HS00016</th>\n",
       "      <td>42.633882</td>\n",
       "      <td>29.104374</td>\n",
       "    </tr>\n",
       "    <tr>\n",
       "      <th>033YM00010</th>\n",
       "      <td>16.021078</td>\n",
       "      <td>12.054780</td>\n",
       "    </tr>\n",
       "    <tr>\n",
       "      <th>033ĐV00003</th>\n",
       "      <td>2.555984</td>\n",
       "      <td>2.000000</td>\n",
       "    </tr>\n",
       "    <tr>\n",
       "      <th>034BQ00022</th>\n",
       "      <td>3.250693</td>\n",
       "      <td>1.738980</td>\n",
       "    </tr>\n",
       "    <tr>\n",
       "      <th>034BQ00570</th>\n",
       "      <td>16.848015</td>\n",
       "      <td>12.971000</td>\n",
       "    </tr>\n",
       "    <tr>\n",
       "      <th>034DV00050</th>\n",
       "      <td>2.032119</td>\n",
       "      <td>0.487602</td>\n",
       "    </tr>\n",
       "    <tr>\n",
       "      <th>034HS00165</th>\n",
       "      <td>2.181987</td>\n",
       "      <td>1.554542</td>\n",
       "    </tr>\n",
       "    <tr>\n",
       "      <th>034HS00171</th>\n",
       "      <td>0.591556</td>\n",
       "      <td>0.438611</td>\n",
       "    </tr>\n",
       "    <tr>\n",
       "      <th>034HS00177</th>\n",
       "      <td>1.118792</td>\n",
       "      <td>0.611424</td>\n",
       "    </tr>\n",
       "    <tr>\n",
       "      <th>034YM00042</th>\n",
       "      <td>21.307537</td>\n",
       "      <td>0.800000</td>\n",
       "    </tr>\n",
       "  </tbody>\n",
       "</table>\n",
       "</div>"
      ],
      "text/plain": [
       "               length  vpromms_length\n",
       "vpromms_id                           \n",
       "032HG00002  62.580390       38.549713\n",
       "033HS00016  42.633882       29.104374\n",
       "033YM00010  16.021078       12.054780\n",
       "033ĐV00003   2.555984        2.000000\n",
       "034BQ00022   3.250693        1.738980\n",
       "034BQ00570  16.848015       12.971000\n",
       "034DV00050   2.032119        0.487602\n",
       "034HS00165   2.181987        1.554542\n",
       "034HS00171   0.591556        0.438611\n",
       "034HS00177   1.118792        0.611424\n",
       "034YM00042  21.307537        0.800000"
      ]
     },
     "execution_count": 14,
     "metadata": {},
     "output_type": "execute_result"
    }
   ],
   "source": [
    "short_links = comparison_length[comparison_length.vpromms_length * 1.2 < comparison_length.length]\n",
    "short_links"
   ]
  },
  {
   "cell_type": "markdown",
   "metadata": {
    "id": "WgBzBieH3DEs"
   },
   "source": [
    "# Missing fields"
   ]
  },
  {
   "cell_type": "code",
   "execution_count": null,
   "metadata": {
    "colab": {
     "base_uri": "https://localhost:8080/",
     "height": 439
    },
    "id": "jZpk4S2C-S45",
    "outputId": "4a102280-6269-4e20-994a-767bf84e26e0"
   },
   "outputs": [
    {
     "data": {
      "text/html": [
       "<div>\n",
       "<style scoped>\n",
       "    .dataframe tbody tr th:only-of-type {\n",
       "        vertical-align: middle;\n",
       "    }\n",
       "\n",
       "    .dataframe tbody tr th {\n",
       "        vertical-align: top;\n",
       "    }\n",
       "\n",
       "    .dataframe thead th {\n",
       "        text-align: right;\n",
       "    }\n",
       "</style>\n",
       "<table border=\"1\" class=\"dataframe\">\n",
       "  <thead>\n",
       "    <tr style=\"text-align: right;\">\n",
       "      <th></th>\n",
       "      <th>id</th>\n",
       "      <th>vpromms_id</th>\n",
       "      <th>length</th>\n",
       "      <th>vpromms_length</th>\n",
       "      <th>province</th>\n",
       "      <th>district</th>\n",
       "      <th>lanes</th>\n",
       "      <th>terrain</th>\n",
       "      <th>width</th>\n",
       "      <th>surface_type</th>\n",
       "      <th>condition_class</th>\n",
       "      <th>roughness</th>\n",
       "      <th>traffic_level</th>\n",
       "      <th>traffic_growth</th>\n",
       "      <th>pavement_age</th>\n",
       "      <th>aadt_motorcyle</th>\n",
       "      <th>aadt_carsmall</th>\n",
       "      <th>aadt_carmedium</th>\n",
       "      <th>aadt_delivery</th>\n",
       "      <th>aadt_4wheel</th>\n",
       "      <th>aadt_smalltruck</th>\n",
       "      <th>aadt_mediumtruck</th>\n",
       "      <th>aadt_largetruck</th>\n",
       "      <th>aadt_articulatedtruck</th>\n",
       "      <th>aadt_smallbus</th>\n",
       "      <th>aadt_mediumbus</th>\n",
       "      <th>aadt_largebus</th>\n",
       "      <th>aadt_total</th>\n",
       "    </tr>\n",
       "  </thead>\n",
       "  <tbody>\n",
       "    <tr>\n",
       "      <th>26</th>\n",
       "      <td>603646</td>\n",
       "      <td>033YM00012</td>\n",
       "      <td>7.045079</td>\n",
       "      <td>7.045079</td>\n",
       "      <td>294</td>\n",
       "      <td>298</td>\n",
       "      <td>1</td>\n",
       "      <td>3.0</td>\n",
       "      <td>5.0</td>\n",
       "      <td>3.0</td>\n",
       "      <td>3.0</td>\n",
       "      <td>0</td>\n",
       "      <td>3.0</td>\n",
       "      <td>0</td>\n",
       "      <td>0</td>\n",
       "      <td>0</td>\n",
       "      <td>0</td>\n",
       "      <td>0</td>\n",
       "      <td>0</td>\n",
       "      <td>0</td>\n",
       "      <td>0</td>\n",
       "      <td>0</td>\n",
       "      <td>0</td>\n",
       "      <td>0</td>\n",
       "      <td>0</td>\n",
       "      <td>0</td>\n",
       "      <td>0</td>\n",
       "      <td>0</td>\n",
       "    </tr>\n",
       "    <tr>\n",
       "      <th>32</th>\n",
       "      <td>614761</td>\n",
       "      <td>032HG00004</td>\n",
       "      <td>6.861836</td>\n",
       "      <td>6.861836</td>\n",
       "      <td>294</td>\n",
       "      <td>296</td>\n",
       "      <td>3</td>\n",
       "      <td>3.0</td>\n",
       "      <td>4.0</td>\n",
       "      <td>2.0</td>\n",
       "      <td>3.0</td>\n",
       "      <td>0</td>\n",
       "      <td>3.0</td>\n",
       "      <td>0</td>\n",
       "      <td>0</td>\n",
       "      <td>0</td>\n",
       "      <td>0</td>\n",
       "      <td>0</td>\n",
       "      <td>0</td>\n",
       "      <td>0</td>\n",
       "      <td>0</td>\n",
       "      <td>0</td>\n",
       "      <td>0</td>\n",
       "      <td>0</td>\n",
       "      <td>0</td>\n",
       "      <td>0</td>\n",
       "      <td>0</td>\n",
       "      <td>0</td>\n",
       "    </tr>\n",
       "    <tr>\n",
       "      <th>81</th>\n",
       "      <td>614818</td>\n",
       "      <td>033VX00012</td>\n",
       "      <td>14.123302</td>\n",
       "      <td>14.123302</td>\n",
       "      <td>294</td>\n",
       "      <td>300</td>\n",
       "      <td>1</td>\n",
       "      <td>3.0</td>\n",
       "      <td>3.0</td>\n",
       "      <td>1.0</td>\n",
       "      <td>4.0</td>\n",
       "      <td>0</td>\n",
       "      <td>2.0</td>\n",
       "      <td>0</td>\n",
       "      <td>0</td>\n",
       "      <td>0</td>\n",
       "      <td>0</td>\n",
       "      <td>0</td>\n",
       "      <td>0</td>\n",
       "      <td>0</td>\n",
       "      <td>0</td>\n",
       "      <td>0</td>\n",
       "      <td>0</td>\n",
       "      <td>0</td>\n",
       "      <td>0</td>\n",
       "      <td>0</td>\n",
       "      <td>0</td>\n",
       "      <td>0</td>\n",
       "    </tr>\n",
       "    <tr>\n",
       "      <th>84</th>\n",
       "      <td>614835</td>\n",
       "      <td>032HG00001</td>\n",
       "      <td>22.475560</td>\n",
       "      <td>95.186355</td>\n",
       "      <td>294</td>\n",
       "      <td>303</td>\n",
       "      <td>3</td>\n",
       "      <td>3.0</td>\n",
       "      <td>6.0</td>\n",
       "      <td>2.0</td>\n",
       "      <td>3.0</td>\n",
       "      <td>0</td>\n",
       "      <td>3.0</td>\n",
       "      <td>0</td>\n",
       "      <td>0</td>\n",
       "      <td>0</td>\n",
       "      <td>0</td>\n",
       "      <td>0</td>\n",
       "      <td>0</td>\n",
       "      <td>0</td>\n",
       "      <td>0</td>\n",
       "      <td>0</td>\n",
       "      <td>0</td>\n",
       "      <td>0</td>\n",
       "      <td>0</td>\n",
       "      <td>0</td>\n",
       "      <td>0</td>\n",
       "      <td>0</td>\n",
       "    </tr>\n",
       "    <tr>\n",
       "      <th>85</th>\n",
       "      <td>614835</td>\n",
       "      <td>032HG00001</td>\n",
       "      <td>55.724659</td>\n",
       "      <td>95.186355</td>\n",
       "      <td>294</td>\n",
       "      <td>302</td>\n",
       "      <td>3</td>\n",
       "      <td>3.0</td>\n",
       "      <td>6.0</td>\n",
       "      <td>2.0</td>\n",
       "      <td>3.0</td>\n",
       "      <td>0</td>\n",
       "      <td>3.0</td>\n",
       "      <td>0</td>\n",
       "      <td>0</td>\n",
       "      <td>0</td>\n",
       "      <td>0</td>\n",
       "      <td>0</td>\n",
       "      <td>0</td>\n",
       "      <td>0</td>\n",
       "      <td>0</td>\n",
       "      <td>0</td>\n",
       "      <td>0</td>\n",
       "      <td>0</td>\n",
       "      <td>0</td>\n",
       "      <td>0</td>\n",
       "      <td>0</td>\n",
       "      <td>0</td>\n",
       "    </tr>\n",
       "    <tr>\n",
       "      <th>...</th>\n",
       "      <td>...</td>\n",
       "      <td>...</td>\n",
       "      <td>...</td>\n",
       "      <td>...</td>\n",
       "      <td>...</td>\n",
       "      <td>...</td>\n",
       "      <td>...</td>\n",
       "      <td>...</td>\n",
       "      <td>...</td>\n",
       "      <td>...</td>\n",
       "      <td>...</td>\n",
       "      <td>...</td>\n",
       "      <td>...</td>\n",
       "      <td>...</td>\n",
       "      <td>...</td>\n",
       "      <td>...</td>\n",
       "      <td>...</td>\n",
       "      <td>...</td>\n",
       "      <td>...</td>\n",
       "      <td>...</td>\n",
       "      <td>...</td>\n",
       "      <td>...</td>\n",
       "      <td>...</td>\n",
       "      <td>...</td>\n",
       "      <td>...</td>\n",
       "      <td>...</td>\n",
       "      <td>...</td>\n",
       "      <td>...</td>\n",
       "    </tr>\n",
       "    <tr>\n",
       "      <th>1871</th>\n",
       "      <td>638897</td>\n",
       "      <td>034BM00076</td>\n",
       "      <td>0.516119</td>\n",
       "      <td>0.516119</td>\n",
       "      <td>294</td>\n",
       "      <td>301</td>\n",
       "      <td>0</td>\n",
       "      <td>3.0</td>\n",
       "      <td>4.0</td>\n",
       "      <td>5.0</td>\n",
       "      <td>5.0</td>\n",
       "      <td>0</td>\n",
       "      <td>1.0</td>\n",
       "      <td>0</td>\n",
       "      <td>0</td>\n",
       "      <td>0</td>\n",
       "      <td>0</td>\n",
       "      <td>0</td>\n",
       "      <td>0</td>\n",
       "      <td>0</td>\n",
       "      <td>0</td>\n",
       "      <td>0</td>\n",
       "      <td>0</td>\n",
       "      <td>0</td>\n",
       "      <td>0</td>\n",
       "      <td>0</td>\n",
       "      <td>0</td>\n",
       "      <td>0</td>\n",
       "    </tr>\n",
       "    <tr>\n",
       "      <th>1872</th>\n",
       "      <td>638898</td>\n",
       "      <td>034BM00077</td>\n",
       "      <td>2.965530</td>\n",
       "      <td>2.965530</td>\n",
       "      <td>294</td>\n",
       "      <td>301</td>\n",
       "      <td>0</td>\n",
       "      <td>3.0</td>\n",
       "      <td>4.0</td>\n",
       "      <td>5.0</td>\n",
       "      <td>5.0</td>\n",
       "      <td>0</td>\n",
       "      <td>2.0</td>\n",
       "      <td>0</td>\n",
       "      <td>0</td>\n",
       "      <td>0</td>\n",
       "      <td>0</td>\n",
       "      <td>0</td>\n",
       "      <td>0</td>\n",
       "      <td>0</td>\n",
       "      <td>0</td>\n",
       "      <td>0</td>\n",
       "      <td>0</td>\n",
       "      <td>0</td>\n",
       "      <td>0</td>\n",
       "      <td>0</td>\n",
       "      <td>0</td>\n",
       "      <td>0</td>\n",
       "    </tr>\n",
       "    <tr>\n",
       "      <th>1873</th>\n",
       "      <td>638899</td>\n",
       "      <td>034BM00078</td>\n",
       "      <td>4.113459</td>\n",
       "      <td>4.113459</td>\n",
       "      <td>294</td>\n",
       "      <td>301</td>\n",
       "      <td>0</td>\n",
       "      <td>3.0</td>\n",
       "      <td>4.0</td>\n",
       "      <td>5.0</td>\n",
       "      <td>4.0</td>\n",
       "      <td>0</td>\n",
       "      <td>2.0</td>\n",
       "      <td>0</td>\n",
       "      <td>0</td>\n",
       "      <td>0</td>\n",
       "      <td>0</td>\n",
       "      <td>0</td>\n",
       "      <td>0</td>\n",
       "      <td>0</td>\n",
       "      <td>0</td>\n",
       "      <td>0</td>\n",
       "      <td>0</td>\n",
       "      <td>0</td>\n",
       "      <td>0</td>\n",
       "      <td>0</td>\n",
       "      <td>0</td>\n",
       "      <td>0</td>\n",
       "    </tr>\n",
       "    <tr>\n",
       "      <th>1874</th>\n",
       "      <td>638900</td>\n",
       "      <td>034BM00079</td>\n",
       "      <td>2.529245</td>\n",
       "      <td>2.529245</td>\n",
       "      <td>294</td>\n",
       "      <td>301</td>\n",
       "      <td>0</td>\n",
       "      <td>3.0</td>\n",
       "      <td>4.0</td>\n",
       "      <td>4.0</td>\n",
       "      <td>3.0</td>\n",
       "      <td>0</td>\n",
       "      <td>2.0</td>\n",
       "      <td>0</td>\n",
       "      <td>0</td>\n",
       "      <td>0</td>\n",
       "      <td>0</td>\n",
       "      <td>0</td>\n",
       "      <td>0</td>\n",
       "      <td>0</td>\n",
       "      <td>0</td>\n",
       "      <td>0</td>\n",
       "      <td>0</td>\n",
       "      <td>0</td>\n",
       "      <td>0</td>\n",
       "      <td>0</td>\n",
       "      <td>0</td>\n",
       "      <td>0</td>\n",
       "    </tr>\n",
       "    <tr>\n",
       "      <th>1875</th>\n",
       "      <td>638901</td>\n",
       "      <td>034BM00080</td>\n",
       "      <td>2.307996</td>\n",
       "      <td>2.307996</td>\n",
       "      <td>294</td>\n",
       "      <td>301</td>\n",
       "      <td>0</td>\n",
       "      <td>3.0</td>\n",
       "      <td>4.0</td>\n",
       "      <td>4.0</td>\n",
       "      <td>3.0</td>\n",
       "      <td>0</td>\n",
       "      <td>2.0</td>\n",
       "      <td>0</td>\n",
       "      <td>0</td>\n",
       "      <td>0</td>\n",
       "      <td>0</td>\n",
       "      <td>0</td>\n",
       "      <td>0</td>\n",
       "      <td>0</td>\n",
       "      <td>0</td>\n",
       "      <td>0</td>\n",
       "      <td>0</td>\n",
       "      <td>0</td>\n",
       "      <td>0</td>\n",
       "      <td>0</td>\n",
       "      <td>0</td>\n",
       "      <td>0</td>\n",
       "    </tr>\n",
       "  </tbody>\n",
       "</table>\n",
       "<p>1013 rows × 28 columns</p>\n",
       "</div>"
      ],
      "text/plain": [
       "          id  vpromms_id     length  ...  aadt_mediumbus  aadt_largebus  aadt_total\n",
       "26    603646  033YM00012   7.045079  ...               0              0           0\n",
       "32    614761  032HG00004   6.861836  ...               0              0           0\n",
       "81    614818  033VX00012  14.123302  ...               0              0           0\n",
       "84    614835  032HG00001  22.475560  ...               0              0           0\n",
       "85    614835  032HG00001  55.724659  ...               0              0           0\n",
       "...      ...         ...        ...  ...             ...            ...         ...\n",
       "1871  638897  034BM00076   0.516119  ...               0              0           0\n",
       "1872  638898  034BM00077   2.965530  ...               0              0           0\n",
       "1873  638899  034BM00078   4.113459  ...               0              0           0\n",
       "1874  638900  034BM00079   2.529245  ...               0              0           0\n",
       "1875  638901  034BM00080   2.307996  ...               0              0           0\n",
       "\n",
       "[1013 rows x 28 columns]"
      ]
     },
     "execution_count": 15,
     "metadata": {},
     "output_type": "execute_result"
    }
   ],
   "source": [
    "assets[~assets.traffic_level.isna()]"
   ]
  },
  {
   "cell_type": "code",
   "execution_count": null,
   "metadata": {
    "id": "ArZgoLvpRovB"
   },
   "outputs": [],
   "source": [
    "def parse_section(json):\n",
    "    try:\n",
    "        return Section(json)\n",
    "    except Exception as err:\n",
    "        return InvalidSection([str(err)], json)\n",
    "\n",
    "def split_assets_by_validity(data): \n",
    "    sections = [parse_section(s) for s in data]\n",
    "    sections = [(s,s.invalid_reason()) for s in sections]\n",
    "\n",
    "    valid_sections = [s for (s,r) in sections if r is None]\n",
    "    invalid_sections = [(s,r) for (s,r) in sections if r is not None]\n",
    "\n",
    "    stats = {\"valid\": len(valid_sections), \"invalid\": len(invalid_sections) }\n",
    "    invalids = pd.DataFrame(data=flatten([r for (s,r) in invalid_sections]), columns=['reason'])\n",
    "    invalids = invalids['reason'].value_counts().to_dict()\n",
    "    return (valid_sections, invalids, stats)"
   ]
  },
  {
   "cell_type": "code",
   "execution_count": null,
   "metadata": {
    "id": "PRmuKNUoREal"
   },
   "outputs": [],
   "source": [
    "# valid_sections, invalid_sections,stats = split_assets_by_validity(request.json)"
   ]
  },
  {
   "cell_type": "markdown",
   "metadata": {
    "id": "3WAfbk5xXPo5"
   },
   "source": []
  },
  {
   "cell_type": "markdown",
   "metadata": {
    "id": "1KAhiL0OXQ-u"
   },
   "source": [
    "**Analysis of Attributes**\n",
    "\n",
    "Beyond an asset definition ID and geometry (with lenght checks), inclusion of an asset in RoADS-CBA requires 10 additional attributes. These are designated as 3-12 in the Google sheet.  This section of code analyzes which assets meet all or at least a subset of these conditions.\n",
    "\n",
    "https://docs.google.com/spreadsheets/d/1jC05gQ46BT8zOg3pun3uCLxXqFXAYsa0p6UGTxxQK1Q/edit#gid=1903787150\n",
    "\n",
    "\n",
    "--> NEXT CODE: GENERATE BAR GRAPH\n",
    "\n",
    "\n",
    "Notes: The traffic data is composed of different sub-elements, but I understand we need one summary measure for the calculation, so this is the focus of data improvement\n",
    "\n"
   ]
  },
  {
   "cell_type": "code",
   "execution_count": null,
   "metadata": {
    "id": "1s69WMhFYayv"
   },
   "outputs": [],
   "source": [
    "---CODE "
   ]
  },
  {
   "cell_type": "markdown",
   "metadata": {
    "id": "RR8-euoEfv4T"
   },
   "source": [
    "# CBA results"
   ]
  },
  {
   "cell_type": "markdown",
   "metadata": {
    "id": "P2GDr_c7Ycmm"
   },
   "source": [
    "**Prioritization of Assets**\n",
    "\n",
    "This figures generates a bar graph of the assets by number of missing attributes (1-10).  Based on this review, Ha Giang would either take a strategy to work on those with only one missing asset, versus working on one set of attributes.  This needs to be discussed.  Initial analysis can be exported."
   ]
  },
  {
   "cell_type": "code",
   "execution_count": null,
   "metadata": {
    "id": "vWhjhrWCZCg4"
   },
   "outputs": [],
   "source": []
  },
  {
   "cell_type": "markdown",
   "metadata": {
    "id": "p9_W0X_Af4Qh"
   },
   "source": [
    "## Maintenance by year"
   ]
  },
  {
   "cell_type": "code",
   "execution_count": null,
   "metadata": {
    "id": "-z-fTJHKgA7x"
   },
   "outputs": [],
   "source": []
  },
  {
   "cell_type": "markdown",
   "metadata": {
    "id": "L-3SeCTJgAbf"
   },
   "source": [
    "## Net Present value"
   ]
  },
  {
   "cell_type": "code",
   "execution_count": null,
   "metadata": {
    "id": "UWx3GE5YgH8p"
   },
   "outputs": [],
   "source": []
  },
  {
   "cell_type": "code",
   "execution_count": null,
   "metadata": {
    "id": "Y0wR47_RZC8O"
   },
   "outputs": [],
   "source": [
    "COSTING\n",
    "\n",
    "We can create a table of unit costs of collect attribues (A=matrix of missing attribtes, B=cost)AB is product and sum cost"
   ]
  },
  {
   "cell_type": "markdown",
   "metadata": {
    "id": "tBCt9IQxiaAx"
   },
   "source": [
    "# KPIs"
   ]
  },
  {
   "cell_type": "markdown",
   "metadata": {
    "id": "3CzF8hCPgMvL"
   },
   "source": [
    "## Assets with length difference"
   ]
  },
  {
   "cell_type": "code",
   "execution_count": null,
   "metadata": {
    "id": "7P8KRpFygNNI"
   },
   "outputs": [],
   "source": [
    "print(\"Links lengths too high:\", long_links.shape[0])\n",
    "print(\"Links lengths too low:\", short_links.shape[0])"
   ]
  }
 ],
 "metadata": {
  "colab": {
   "collapsed_sections": [
    "5JoSV_mA2fwT"
   ],
   "name": "CBA Roads Validity Analysis.ipynb",
   "provenance": []
  },
  "kernelspec": {
   "display_name": "RoadsCbaPy",
   "language": "python",
   "name": "roadscbapy"
  },
  "language_info": {
   "codemirror_mode": {
    "name": "ipython",
    "version": 3
   },
   "file_extension": ".py",
   "mimetype": "text/x-python",
   "name": "python",
   "nbconvert_exporter": "python",
   "pygments_lexer": "ipython3",
   "version": "3.8.10"
  }
 },
 "nbformat": 4,
 "nbformat_minor": 4
}
