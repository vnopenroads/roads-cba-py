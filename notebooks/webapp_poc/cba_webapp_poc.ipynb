{
 "cells": [
  {
   "cell_type": "code",
   "execution_count": 8,
   "id": "15b36f4f-71ac-4163-96a5-721aa72b5e78",
   "metadata": {},
   "outputs": [],
   "source": [
    "%run ../setup.py\n",
    "\n",
    "notebook_dir = dirname(os.getcwd())\n",
    "if notebook_dir not in sys.path:\n",
    "    sys.path.append(notebook_dir)\n",
    "    \n",
    "from jupyter_ux_poc import *"
   ]
  },
  {
   "cell_type": "markdown",
   "id": "11839585-3404-44bd-a11a-1c49846befc0",
   "metadata": {},
   "source": [
    "## 1. Load ORMA DATA"
   ]
  },
  {
   "cell_type": "code",
   "execution_count": 21,
   "id": "f6ad1423-cda0-4f0f-838b-e3d08c575f40",
   "metadata": {},
   "outputs": [],
   "source": [
    "data_file = abspath(join('..', '..', 'data', 'sections_generated.gpkg'))"
   ]
  },
  {
   "cell_type": "markdown",
   "id": "434f9639-82ba-46bd-abe6-8730deb39280",
   "metadata": {},
   "source": [
    "## 2. RUN CBA"
   ]
  },
  {
   "cell_type": "code",
   "execution_count": 22,
   "id": "28c6f9ee-af0e-40ee-b6dc-61868344174b",
   "metadata": {},
   "outputs": [],
   "source": [
    "gdf = generate_outputs(gpd.read_file(data_file).head(20), False)"
   ]
  },
  {
   "cell_type": "markdown",
   "id": "79a7fc45-63cf-44be-bbd6-275b5440f3b0",
   "metadata": {},
   "source": [
    "## 3. Pass CBA outputs to app"
   ]
  },
  {
   "cell_type": "code",
   "execution_count": 20,
   "id": "c8533b3a-258d-47b7-a234-ac7817200221",
   "metadata": {},
   "outputs": [
    {
     "data": {
      "application/vnd.jupyter.widget-view+json": {
       "model_id": "a341561386974d2788b264fcbea048fe",
       "version_major": 2,
       "version_minor": 0
      },
      "text/plain": [
       "HTML(value='<style>.attributes { list-style-type: none; padding: 0; margin: 0; }</style>')"
      ]
     },
     "metadata": {},
     "output_type": "display_data"
    },
    {
     "data": {
      "application/vnd.jupyter.widget-view+json": {
       "model_id": "857ccb55a24c45a4a182f0a07cd15531",
       "version_major": 2,
       "version_minor": 0
      },
      "text/plain": [
       "HTML(value='<style>.attributes .label { color: #AAAAAA; }</style>')"
      ]
     },
     "metadata": {},
     "output_type": "display_data"
    },
    {
     "data": {
      "application/vnd.jupyter.widget-view+json": {
       "model_id": "6a6073f3fae5456d8005997f0f5ae885",
       "version_major": 2,
       "version_minor": 0
      },
      "text/plain": [
       "HTML(value='<style>.attributes .value { color: #000000; text-align: right }</style>')"
      ]
     },
     "metadata": {},
     "output_type": "display_data"
    },
    {
     "data": {
      "application/vnd.jupyter.widget-view+json": {
       "model_id": "580f7bbdb2434fb091be101cbd6b23a8",
       "version_major": 2,
       "version_minor": 0
      },
      "text/plain": [
       "HTML(value='<style>.budget_label { font-size: 8pt; color: #BBB; }</style>')"
      ]
     },
     "metadata": {},
     "output_type": "display_data"
    },
    {
     "data": {
      "application/vnd.jupyter.widget-view+json": {
       "model_id": "e24d3af9ffe5457a8cb8f98e18874d86",
       "version_major": 2,
       "version_minor": 0
      },
      "text/plain": [
       "HTML(value='<style>.budget_total { font-size: 20pt; width: 100%; text-align: center}</style>')"
      ]
     },
     "metadata": {},
     "output_type": "display_data"
    },
    {
     "data": {
      "application/vnd.jupyter.widget-view+json": {
       "model_id": "556c0e50054e43678a18fe4efe721dbd",
       "version_major": 2,
       "version_minor": 0
      },
      "text/plain": [
       "HTML(value='<style>.text_label { color: black; font-size: 12pt }</style>')"
      ]
     },
     "metadata": {},
     "output_type": "display_data"
    },
    {
     "data": {
      "application/vnd.jupyter.widget-view+json": {
       "model_id": "08f40af12a6045369a48122d6bf3382f",
       "version_major": 2,
       "version_minor": 0
      },
      "text/plain": [
       "HTML(value='<style>.budget_label { color: black; font-size: 12pt }</style>')"
      ]
     },
     "metadata": {},
     "output_type": "display_data"
    },
    {
     "data": {
      "application/vnd.jupyter.widget-view+json": {
       "model_id": "febdc727f7e04dd9a98c8e3465139bf4",
       "version_major": 2,
       "version_minor": 0
      },
      "text/plain": [
       "HTML(value='<style>.partial_budget { color: black; font-size: 16pt }</style>')"
      ]
     },
     "metadata": {},
     "output_type": "display_data"
    },
    {
     "data": {
      "application/vnd.jupyter.widget-view+json": {
       "model_id": "337732df1169435983400590a2ae5303",
       "version_major": 2,
       "version_minor": 0
      },
      "text/plain": [
       "VBox(children=(Output(), HBox(children=(HTML(value='Hover on a link', layout=Layout(width='8%')), Map(center=[…"
      ]
     },
     "metadata": {},
     "output_type": "display_data"
    }
   ],
   "source": [
    "app(gdf)"
   ]
  }
 ],
 "metadata": {
  "kernelspec": {
   "display_name": "Python 3 (ipykernel)",
   "language": "python",
   "name": "python3"
  },
  "language_info": {
   "codemirror_mode": {
    "name": "ipython",
    "version": 3
   },
   "file_extension": ".py",
   "mimetype": "text/x-python",
   "name": "python",
   "nbconvert_exporter": "python",
   "pygments_lexer": "ipython3",
   "version": "3.8.10"
  }
 },
 "nbformat": 4,
 "nbformat_minor": 5
}
